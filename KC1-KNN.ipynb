{
 "cells": [
  {
   "cell_type": "code",
   "execution_count": 1,
   "id": "suitable-hurricane",
   "metadata": {
    "_cell_guid": "b1076dfc-b9ad-4769-8c92-a6c4dae69d19",
    "_uuid": "8f2839f25d086af736a60e9eeb907d3b93b6e0e5",
    "execution": {
     "iopub.execute_input": "2021-07-04T09:49:34.247907Z",
     "iopub.status.busy": "2021-07-04T09:49:34.246713Z",
     "iopub.status.idle": "2021-07-04T09:49:34.263413Z",
     "shell.execute_reply": "2021-07-04T09:49:34.263914Z",
     "shell.execute_reply.started": "2021-07-04T09:41:14.265872Z"
    },
    "papermill": {
     "duration": 0.044229,
     "end_time": "2021-07-04T09:49:34.264230",
     "exception": false,
     "start_time": "2021-07-04T09:49:34.220001",
     "status": "completed"
    },
    "tags": []
   },
   "outputs": [
    {
     "name": "stdout",
     "output_type": "stream",
     "text": [
      "/kaggle/input/kc1-csvsdmlp/kc1_csv.csv\n"
     ]
    }
   ],
   "source": [
    "# This Python 3 environment comes with many helpful analytics libraries installed\n",
    "# It is defined by the kaggle/python Docker image: https://github.com/kaggle/docker-python\n",
    "# For example, here's several helpful packages to load\n",
    "\n",
    "import numpy as np # linear algebra\n",
    "import pandas as pd # data processing, CSV file I/O (e.g. pd.read_csv)\n",
    "\n",
    "# Input data files are available in the read-only \"../input/\" directory\n",
    "# For example, running this (by clicking run or pressing Shift+Enter) will list all files under the input directory\n",
    "\n",
    "import os\n",
    "for dirname, _, filenames in os.walk('/kaggle/input'):\n",
    "    for filename in filenames:\n",
    "        print(os.path.join(dirname, filename))\n",
    "\n",
    "# You can write up to 20GB to the current directory (/kaggle/working/) that gets preserved as output when you create a version using \"Save & Run All\" \n",
    "# You can also write temporary files to /kaggle/temp/, but they won't be saved outside of the current session"
   ]
  },
  {
   "cell_type": "code",
   "execution_count": 2,
   "id": "toxic-cartridge",
   "metadata": {
    "execution": {
     "iopub.execute_input": "2021-07-04T09:49:34.313519Z",
     "iopub.status.busy": "2021-07-04T09:49:34.312865Z",
     "iopub.status.idle": "2021-07-04T09:49:40.660764Z",
     "shell.execute_reply": "2021-07-04T09:49:40.661270Z",
     "shell.execute_reply.started": "2021-07-04T09:43:23.580142Z"
    },
    "papermill": {
     "duration": 6.373905,
     "end_time": "2021-07-04T09:49:40.661455",
     "exception": false,
     "start_time": "2021-07-04T09:49:34.287550",
     "status": "completed"
    },
    "tags": []
   },
   "outputs": [],
   "source": [
    "import tensorflow as tf\n",
    "import pandas as pd\n",
    "import numpy as np\n",
    "import matplotlib.pyplot as plt\n",
    "import seaborn as sns\n",
    "from sklearn.model_selection import train_test_split\n",
    "from sklearn.preprocessing import MinMaxScaler, Normalizer\n",
    "from sklearn.decomposition import PCA as sklearnPCA\n",
    "from mlxtend.plotting import plot_decision_regions\n",
    "# Supress unnecessary warnings so that presentation looks clean\n",
    "import warnings\n",
    "warnings.filterwarnings(\"ignore\")"
   ]
  },
  {
   "cell_type": "code",
   "execution_count": 3,
   "id": "twelve-roots",
   "metadata": {
    "execution": {
     "iopub.execute_input": "2021-07-04T09:49:40.712059Z",
     "iopub.status.busy": "2021-07-04T09:49:40.711345Z",
     "iopub.status.idle": "2021-07-04T09:49:40.777192Z",
     "shell.execute_reply": "2021-07-04T09:49:40.777675Z",
     "shell.execute_reply.started": "2021-07-04T09:43:37.749571Z"
    },
    "papermill": {
     "duration": 0.093712,
     "end_time": "2021-07-04T09:49:40.777843",
     "exception": false,
     "start_time": "2021-07-04T09:49:40.684131",
     "status": "completed"
    },
    "tags": []
   },
   "outputs": [
    {
     "data": {
      "text/html": [
       "<div>\n",
       "<style scoped>\n",
       "    .dataframe tbody tr th:only-of-type {\n",
       "        vertical-align: middle;\n",
       "    }\n",
       "\n",
       "    .dataframe tbody tr th {\n",
       "        vertical-align: top;\n",
       "    }\n",
       "\n",
       "    .dataframe thead th {\n",
       "        text-align: right;\n",
       "    }\n",
       "</style>\n",
       "<table border=\"1\" class=\"dataframe\">\n",
       "  <thead>\n",
       "    <tr style=\"text-align: right;\">\n",
       "      <th></th>\n",
       "      <th>loc</th>\n",
       "      <th>v(g)</th>\n",
       "      <th>ev(g)</th>\n",
       "      <th>iv(g)</th>\n",
       "      <th>n</th>\n",
       "      <th>v</th>\n",
       "      <th>l</th>\n",
       "      <th>d</th>\n",
       "      <th>i</th>\n",
       "      <th>e</th>\n",
       "      <th>...</th>\n",
       "      <th>lOCode</th>\n",
       "      <th>lOComment</th>\n",
       "      <th>lOBlank</th>\n",
       "      <th>locCodeAndComment</th>\n",
       "      <th>uniq_Op</th>\n",
       "      <th>uniq_Opnd</th>\n",
       "      <th>total_Op</th>\n",
       "      <th>total_Opnd</th>\n",
       "      <th>branchCount</th>\n",
       "      <th>defects</th>\n",
       "    </tr>\n",
       "  </thead>\n",
       "  <tbody>\n",
       "    <tr>\n",
       "      <th>0</th>\n",
       "      <td>1.1</td>\n",
       "      <td>1.4</td>\n",
       "      <td>1.4</td>\n",
       "      <td>1.4</td>\n",
       "      <td>1.3</td>\n",
       "      <td>1.30</td>\n",
       "      <td>1.30</td>\n",
       "      <td>1.30</td>\n",
       "      <td>1.30</td>\n",
       "      <td>1.30</td>\n",
       "      <td>...</td>\n",
       "      <td>2</td>\n",
       "      <td>2</td>\n",
       "      <td>2</td>\n",
       "      <td>2</td>\n",
       "      <td>1.2</td>\n",
       "      <td>1.2</td>\n",
       "      <td>1.2</td>\n",
       "      <td>1.2</td>\n",
       "      <td>1.4</td>\n",
       "      <td>False</td>\n",
       "    </tr>\n",
       "    <tr>\n",
       "      <th>1</th>\n",
       "      <td>1.0</td>\n",
       "      <td>1.0</td>\n",
       "      <td>1.0</td>\n",
       "      <td>1.0</td>\n",
       "      <td>1.0</td>\n",
       "      <td>1.00</td>\n",
       "      <td>1.00</td>\n",
       "      <td>1.00</td>\n",
       "      <td>1.00</td>\n",
       "      <td>1.00</td>\n",
       "      <td>...</td>\n",
       "      <td>1</td>\n",
       "      <td>1</td>\n",
       "      <td>1</td>\n",
       "      <td>1</td>\n",
       "      <td>1.0</td>\n",
       "      <td>1.0</td>\n",
       "      <td>1.0</td>\n",
       "      <td>1.0</td>\n",
       "      <td>1.0</td>\n",
       "      <td>True</td>\n",
       "    </tr>\n",
       "    <tr>\n",
       "      <th>2</th>\n",
       "      <td>83.0</td>\n",
       "      <td>11.0</td>\n",
       "      <td>1.0</td>\n",
       "      <td>11.0</td>\n",
       "      <td>171.0</td>\n",
       "      <td>927.89</td>\n",
       "      <td>0.04</td>\n",
       "      <td>23.04</td>\n",
       "      <td>40.27</td>\n",
       "      <td>21378.61</td>\n",
       "      <td>...</td>\n",
       "      <td>65</td>\n",
       "      <td>10</td>\n",
       "      <td>6</td>\n",
       "      <td>0</td>\n",
       "      <td>18.0</td>\n",
       "      <td>25.0</td>\n",
       "      <td>107.0</td>\n",
       "      <td>64.0</td>\n",
       "      <td>21.0</td>\n",
       "      <td>True</td>\n",
       "    </tr>\n",
       "    <tr>\n",
       "      <th>3</th>\n",
       "      <td>46.0</td>\n",
       "      <td>8.0</td>\n",
       "      <td>6.0</td>\n",
       "      <td>8.0</td>\n",
       "      <td>141.0</td>\n",
       "      <td>769.78</td>\n",
       "      <td>0.07</td>\n",
       "      <td>14.86</td>\n",
       "      <td>51.81</td>\n",
       "      <td>11436.73</td>\n",
       "      <td>...</td>\n",
       "      <td>37</td>\n",
       "      <td>2</td>\n",
       "      <td>5</td>\n",
       "      <td>0</td>\n",
       "      <td>16.0</td>\n",
       "      <td>28.0</td>\n",
       "      <td>89.0</td>\n",
       "      <td>52.0</td>\n",
       "      <td>15.0</td>\n",
       "      <td>True</td>\n",
       "    </tr>\n",
       "    <tr>\n",
       "      <th>4</th>\n",
       "      <td>25.0</td>\n",
       "      <td>3.0</td>\n",
       "      <td>1.0</td>\n",
       "      <td>3.0</td>\n",
       "      <td>58.0</td>\n",
       "      <td>254.75</td>\n",
       "      <td>0.11</td>\n",
       "      <td>9.35</td>\n",
       "      <td>27.25</td>\n",
       "      <td>2381.95</td>\n",
       "      <td>...</td>\n",
       "      <td>21</td>\n",
       "      <td>0</td>\n",
       "      <td>2</td>\n",
       "      <td>0</td>\n",
       "      <td>11.0</td>\n",
       "      <td>10.0</td>\n",
       "      <td>41.0</td>\n",
       "      <td>17.0</td>\n",
       "      <td>5.0</td>\n",
       "      <td>True</td>\n",
       "    </tr>\n",
       "  </tbody>\n",
       "</table>\n",
       "<p>5 rows × 22 columns</p>\n",
       "</div>"
      ],
      "text/plain": [
       "    loc  v(g)  ev(g)  iv(g)      n       v     l      d      i         e  ...  \\\n",
       "0   1.1   1.4    1.4    1.4    1.3    1.30  1.30   1.30   1.30      1.30  ...   \n",
       "1   1.0   1.0    1.0    1.0    1.0    1.00  1.00   1.00   1.00      1.00  ...   \n",
       "2  83.0  11.0    1.0   11.0  171.0  927.89  0.04  23.04  40.27  21378.61  ...   \n",
       "3  46.0   8.0    6.0    8.0  141.0  769.78  0.07  14.86  51.81  11436.73  ...   \n",
       "4  25.0   3.0    1.0    3.0   58.0  254.75  0.11   9.35  27.25   2381.95  ...   \n",
       "\n",
       "   lOCode  lOComment  lOBlank  locCodeAndComment  uniq_Op  uniq_Opnd  \\\n",
       "0       2          2        2                  2      1.2        1.2   \n",
       "1       1          1        1                  1      1.0        1.0   \n",
       "2      65         10        6                  0     18.0       25.0   \n",
       "3      37          2        5                  0     16.0       28.0   \n",
       "4      21          0        2                  0     11.0       10.0   \n",
       "\n",
       "   total_Op  total_Opnd  branchCount  defects  \n",
       "0       1.2         1.2          1.4    False  \n",
       "1       1.0         1.0          1.0     True  \n",
       "2     107.0        64.0         21.0     True  \n",
       "3      89.0        52.0         15.0     True  \n",
       "4      41.0        17.0          5.0     True  \n",
       "\n",
       "[5 rows x 22 columns]"
      ]
     },
     "execution_count": 3,
     "metadata": {},
     "output_type": "execute_result"
    }
   ],
   "source": [
    "#Loading the dataset\n",
    "df = pd.read_csv('../input/kc1-csvsdmlp/kc1_csv.csv')\n",
    "\n",
    "#Print the first 5 rows of the dataframe.\n",
    "df.head()"
   ]
  },
  {
   "cell_type": "code",
   "execution_count": 4,
   "id": "charged-volume",
   "metadata": {
    "execution": {
     "iopub.execute_input": "2021-07-04T09:49:40.830246Z",
     "iopub.status.busy": "2021-07-04T09:49:40.829623Z",
     "iopub.status.idle": "2021-07-04T09:49:40.835265Z",
     "shell.execute_reply": "2021-07-04T09:49:40.834628Z",
     "shell.execute_reply.started": "2021-07-04T09:43:49.820153Z"
    },
    "papermill": {
     "duration": 0.032178,
     "end_time": "2021-07-04T09:49:40.835404",
     "exception": false,
     "start_time": "2021-07-04T09:49:40.803226",
     "status": "completed"
    },
    "tags": []
   },
   "outputs": [
    {
     "data": {
      "text/plain": [
       "(2109, 22)"
      ]
     },
     "execution_count": 4,
     "metadata": {},
     "output_type": "execute_result"
    }
   ],
   "source": [
    "df.shape"
   ]
  },
  {
   "cell_type": "code",
   "execution_count": 5,
   "id": "located-procedure",
   "metadata": {
    "execution": {
     "iopub.execute_input": "2021-07-04T09:49:40.890815Z",
     "iopub.status.busy": "2021-07-04T09:49:40.890045Z",
     "iopub.status.idle": "2021-07-04T09:49:40.893918Z",
     "shell.execute_reply": "2021-07-04T09:49:40.893397Z",
     "shell.execute_reply.started": "2021-07-04T09:44:10.098165Z"
    },
    "papermill": {
     "duration": 0.035098,
     "end_time": "2021-07-04T09:49:40.894086",
     "exception": false,
     "start_time": "2021-07-04T09:49:40.858988",
     "status": "completed"
    },
    "tags": []
   },
   "outputs": [],
   "source": [
    "#Let's create numpy arrays for features and target\n",
    "X = df.drop('defects',axis=1).values\n",
    "y = df['defects'].values"
   ]
  },
  {
   "cell_type": "code",
   "execution_count": 6,
   "id": "geological-shore",
   "metadata": {
    "execution": {
     "iopub.execute_input": "2021-07-04T09:49:40.947696Z",
     "iopub.status.busy": "2021-07-04T09:49:40.947014Z",
     "iopub.status.idle": "2021-07-04T09:49:40.954852Z",
     "shell.execute_reply": "2021-07-04T09:49:40.954297Z",
     "shell.execute_reply.started": "2021-07-04T09:44:27.472667Z"
    },
    "papermill": {
     "duration": 0.036657,
     "end_time": "2021-07-04T09:49:40.955015",
     "exception": false,
     "start_time": "2021-07-04T09:49:40.918358",
     "status": "completed"
    },
    "tags": []
   },
   "outputs": [],
   "source": [
    "#importing train_test_split\n",
    "from sklearn.model_selection import train_test_split\n",
    "X_train,X_test,y_train,y_test = train_test_split(X,y,test_size=0.4,random_state=42, stratify=y)"
   ]
  },
  {
   "cell_type": "code",
   "execution_count": 7,
   "id": "direct-bloom",
   "metadata": {
    "execution": {
     "iopub.execute_input": "2021-07-04T09:49:41.009386Z",
     "iopub.status.busy": "2021-07-04T09:49:41.008709Z",
     "iopub.status.idle": "2021-07-04T09:49:42.639782Z",
     "shell.execute_reply": "2021-07-04T09:49:42.640712Z",
     "shell.execute_reply.started": "2021-07-04T09:44:46.397789Z"
    },
    "papermill": {
     "duration": 1.662249,
     "end_time": "2021-07-04T09:49:42.641013",
     "exception": false,
     "start_time": "2021-07-04T09:49:40.978764",
     "status": "completed"
    },
    "tags": []
   },
   "outputs": [],
   "source": [
    "#import KNeighborsClassifier\n",
    "from sklearn.neighbors import KNeighborsClassifier\n",
    "\n",
    "#Setup arrays to store training and test accuracies\n",
    "neighbors = np.arange(1,9)\n",
    "train_accuracy =np.empty(len(neighbors))\n",
    "test_accuracy = np.empty(len(neighbors))\n",
    "\n",
    "for i,k in enumerate(neighbors):\n",
    "    #Setup a knn classifier with k neighbors\n",
    "    knn = KNeighborsClassifier(n_neighbors=k)\n",
    "    \n",
    "    #Fit the model\n",
    "    knn.fit(X_train, y_train)\n",
    "    \n",
    "    #Compute accuracy on the training set\n",
    "    train_accuracy[i] = knn.score(X_train, y_train)\n",
    "    \n",
    "    #Compute accuracy on the test set\n",
    "    test_accuracy[i] = knn.score(X_test, y_test)"
   ]
  },
  {
   "cell_type": "code",
   "execution_count": 8,
   "id": "endangered-basement",
   "metadata": {
    "execution": {
     "iopub.execute_input": "2021-07-04T09:49:42.726074Z",
     "iopub.status.busy": "2021-07-04T09:49:42.725344Z",
     "iopub.status.idle": "2021-07-04T09:49:42.920325Z",
     "shell.execute_reply": "2021-07-04T09:49:42.919761Z",
     "shell.execute_reply.started": "2021-07-04T09:44:57.701847Z"
    },
    "papermill": {
     "duration": 0.239621,
     "end_time": "2021-07-04T09:49:42.920472",
     "exception": false,
     "start_time": "2021-07-04T09:49:42.680851",
     "status": "completed"
    },
    "tags": []
   },
   "outputs": [
    {
     "data": {
      "image/png": "[encoded data removed]",
      "text/plain": [
       "<Figure size 432x288 with 1 Axes>"
      ]
     },
     "metadata": {
      "needs_background": "light"
     },
     "output_type": "display_data"
    }
   ],
   "source": [
    "#Generate plot\n",
    "plt.title('k-NN Varying number of neighbors')\n",
    "plt.plot(neighbors, test_accuracy, label='Testing Accuracy')\n",
    "plt.plot(neighbors, train_accuracy, label='Training accuracy')\n",
    "plt.legend()\n",
    "plt.xlabel('Number of neighbors')\n",
    "plt.ylabel('Accuracy')\n",
    "plt.show()"
   ]
  },
  {
   "cell_type": "code",
   "execution_count": 9,
   "id": "executed-large",
   "metadata": {
    "execution": {
     "iopub.execute_input": "2021-07-04T09:49:42.973985Z",
     "iopub.status.busy": "2021-07-04T09:49:42.973324Z",
     "iopub.status.idle": "2021-07-04T09:49:42.976658Z",
     "shell.execute_reply": "2021-07-04T09:49:42.977126Z",
     "shell.execute_reply.started": "2021-07-04T09:45:08.762800Z"
    },
    "papermill": {
     "duration": 0.032303,
     "end_time": "2021-07-04T09:49:42.977305",
     "exception": false,
     "start_time": "2021-07-04T09:49:42.945002",
     "status": "completed"
    },
    "tags": []
   },
   "outputs": [],
   "source": [
    "#Setup a knn classifier with k neighbors\n",
    "knn = KNeighborsClassifier(n_neighbors=7)"
   ]
  },
  {
   "cell_type": "code",
   "execution_count": 10,
   "id": "entertaining-extreme",
   "metadata": {
    "execution": {
     "iopub.execute_input": "2021-07-04T09:49:43.031678Z",
     "iopub.status.busy": "2021-07-04T09:49:43.031002Z",
     "iopub.status.idle": "2021-07-04T09:49:43.038245Z",
     "shell.execute_reply": "2021-07-04T09:49:43.037744Z",
     "shell.execute_reply.started": "2021-07-04T09:45:18.005185Z"
    },
    "papermill": {
     "duration": 0.036529,
     "end_time": "2021-07-04T09:49:43.038382",
     "exception": false,
     "start_time": "2021-07-04T09:49:43.001853",
     "status": "completed"
    },
    "tags": []
   },
   "outputs": [
    {
     "data": {
      "text/plain": [
       "KNeighborsClassifier(n_neighbors=7)"
      ]
     },
     "execution_count": 10,
     "metadata": {},
     "output_type": "execute_result"
    }
   ],
   "source": [
    "#Fit the model\n",
    "knn.fit(X_train,y_train)"
   ]
  },
  {
   "cell_type": "code",
   "execution_count": 11,
   "id": "joined-inspection",
   "metadata": {
    "execution": {
     "iopub.execute_input": "2021-07-04T09:49:43.100612Z",
     "iopub.status.busy": "2021-07-04T09:49:43.099418Z",
     "iopub.status.idle": "2021-07-04T09:49:43.179661Z",
     "shell.execute_reply": "2021-07-04T09:49:43.180487Z",
     "shell.execute_reply.started": "2021-07-04T09:45:30.713008Z"
    },
    "papermill": {
     "duration": 0.116978,
     "end_time": "2021-07-04T09:49:43.180786",
     "exception": false,
     "start_time": "2021-07-04T09:49:43.063808",
     "status": "completed"
    },
    "tags": []
   },
   "outputs": [
    {
     "data": {
      "text/plain": [
       "0.8388625592417062"
      ]
     },
     "execution_count": 11,
     "metadata": {},
     "output_type": "execute_result"
    }
   ],
   "source": [
    "#Get accuracy. Note: In case of classification algorithms score method represents accuracy.\n",
    "knn.score(X_test,y_test)"
   ]
  },
  {
   "cell_type": "code",
   "execution_count": 12,
   "id": "corresponding-script",
   "metadata": {
    "execution": {
     "iopub.execute_input": "2021-07-04T09:49:43.252781Z",
     "iopub.status.busy": "2021-07-04T09:49:43.252102Z",
     "iopub.status.idle": "2021-07-04T09:49:43.254615Z",
     "shell.execute_reply": "2021-07-04T09:49:43.254028Z",
     "shell.execute_reply.started": "2021-07-04T09:45:50.253952Z"
    },
    "papermill": {
     "duration": 0.031993,
     "end_time": "2021-07-04T09:49:43.254747",
     "exception": false,
     "start_time": "2021-07-04T09:49:43.222754",
     "status": "completed"
    },
    "tags": []
   },
   "outputs": [],
   "source": [
    "#import confusion_matrix\n",
    "from sklearn.metrics import confusion_matrix"
   ]
  },
  {
   "cell_type": "code",
   "execution_count": 13,
   "id": "medieval-channels",
   "metadata": {
    "execution": {
     "iopub.execute_input": "2021-07-04T09:49:43.308733Z",
     "iopub.status.busy": "2021-07-04T09:49:43.308106Z",
     "iopub.status.idle": "2021-07-04T09:49:43.390281Z",
     "shell.execute_reply": "2021-07-04T09:49:43.391186Z",
     "shell.execute_reply.started": "2021-07-04T09:46:08.016068Z"
    },
    "papermill": {
     "duration": 0.111585,
     "end_time": "2021-07-04T09:49:43.391464",
     "exception": false,
     "start_time": "2021-07-04T09:49:43.279879",
     "status": "completed"
    },
    "tags": []
   },
   "outputs": [],
   "source": [
    "#let us get the predictions using the classifier we had fit above\n",
    "y_pred = knn.predict(X_test)"
   ]
  },
  {
   "cell_type": "code",
   "execution_count": 14,
   "id": "basic-rainbow",
   "metadata": {
    "execution": {
     "iopub.execute_input": "2021-07-04T09:49:43.465436Z",
     "iopub.status.busy": "2021-07-04T09:49:43.464799Z",
     "iopub.status.idle": "2021-07-04T09:49:43.470143Z",
     "shell.execute_reply": "2021-07-04T09:49:43.470603Z",
     "shell.execute_reply.started": "2021-07-04T09:46:11.788651Z"
    },
    "papermill": {
     "duration": 0.036153,
     "end_time": "2021-07-04T09:49:43.470776",
     "exception": false,
     "start_time": "2021-07-04T09:49:43.434623",
     "status": "completed"
    },
    "tags": []
   },
   "outputs": [
    {
     "data": {
      "text/plain": [
       "array([[678,  36],\n",
       "       [100,  30]])"
      ]
     },
     "execution_count": 14,
     "metadata": {},
     "output_type": "execute_result"
    }
   ],
   "source": [
    "confusion_matrix(y_test,y_pred)"
   ]
  },
  {
   "cell_type": "code",
   "execution_count": 15,
   "id": "chinese-reader",
   "metadata": {
    "execution": {
     "iopub.execute_input": "2021-07-04T09:49:43.525765Z",
     "iopub.status.busy": "2021-07-04T09:49:43.525156Z",
     "iopub.status.idle": "2021-07-04T09:49:43.594179Z",
     "shell.execute_reply": "2021-07-04T09:49:43.593632Z",
     "shell.execute_reply.started": "2021-07-04T09:46:22.063500Z"
    },
    "papermill": {
     "duration": 0.097204,
     "end_time": "2021-07-04T09:49:43.594319",
     "exception": false,
     "start_time": "2021-07-04T09:49:43.497115",
     "status": "completed"
    },
    "tags": []
   },
   "outputs": [
    {
     "data": {
      "text/html": [
       "<div>\n",
       "<style scoped>\n",
       "    .dataframe tbody tr th:only-of-type {\n",
       "        vertical-align: middle;\n",
       "    }\n",
       "\n",
       "    .dataframe tbody tr th {\n",
       "        vertical-align: top;\n",
       "    }\n",
       "\n",
       "    .dataframe thead th {\n",
       "        text-align: right;\n",
       "    }\n",
       "</style>\n",
       "<table border=\"1\" class=\"dataframe\">\n",
       "  <thead>\n",
       "    <tr style=\"text-align: right;\">\n",
       "      <th>Predicted</th>\n",
       "      <th>False</th>\n",
       "      <th>True</th>\n",
       "      <th>All</th>\n",
       "    </tr>\n",
       "    <tr>\n",
       "      <th>True</th>\n",
       "      <th></th>\n",
       "      <th></th>\n",
       "      <th></th>\n",
       "    </tr>\n",
       "  </thead>\n",
       "  <tbody>\n",
       "    <tr>\n",
       "      <th>False</th>\n",
       "      <td>678</td>\n",
       "      <td>36</td>\n",
       "      <td>714</td>\n",
       "    </tr>\n",
       "    <tr>\n",
       "      <th>True</th>\n",
       "      <td>100</td>\n",
       "      <td>30</td>\n",
       "      <td>130</td>\n",
       "    </tr>\n",
       "    <tr>\n",
       "      <th>All</th>\n",
       "      <td>778</td>\n",
       "      <td>66</td>\n",
       "      <td>844</td>\n",
       "    </tr>\n",
       "  </tbody>\n",
       "</table>\n",
       "</div>"
      ],
      "text/plain": [
       "Predicted  False  True  All\n",
       "True                       \n",
       "False        678    36  714\n",
       "True         100    30  130\n",
       "All          778    66  844"
      ]
     },
     "execution_count": 15,
     "metadata": {},
     "output_type": "execute_result"
    }
   ],
   "source": [
    "pd.crosstab(y_test, y_pred, rownames=['True'], colnames=['Predicted'], margins=True)"
   ]
  },
  {
   "cell_type": "code",
   "execution_count": 16,
   "id": "union-indiana",
   "metadata": {
    "execution": {
     "iopub.execute_input": "2021-07-04T09:49:43.651276Z",
     "iopub.status.busy": "2021-07-04T09:49:43.650299Z",
     "iopub.status.idle": "2021-07-04T09:49:43.652747Z",
     "shell.execute_reply": "2021-07-04T09:49:43.653254Z",
     "shell.execute_reply.started": "2021-07-04T09:46:32.140448Z"
    },
    "papermill": {
     "duration": 0.033032,
     "end_time": "2021-07-04T09:49:43.653422",
     "exception": false,
     "start_time": "2021-07-04T09:49:43.620390",
     "status": "completed"
    },
    "tags": []
   },
   "outputs": [],
   "source": [
    "#import classification_report\n",
    "from sklearn.metrics import classification_report"
   ]
  },
  {
   "cell_type": "code",
   "execution_count": 17,
   "id": "located-iceland",
   "metadata": {
    "execution": {
     "iopub.execute_input": "2021-07-04T09:49:43.709245Z",
     "iopub.status.busy": "2021-07-04T09:49:43.708285Z",
     "iopub.status.idle": "2021-07-04T09:49:43.719741Z",
     "shell.execute_reply": "2021-07-04T09:49:43.719120Z",
     "shell.execute_reply.started": "2021-07-04T09:46:42.613880Z"
    },
    "papermill": {
     "duration": 0.040376,
     "end_time": "2021-07-04T09:49:43.719882",
     "exception": false,
     "start_time": "2021-07-04T09:49:43.679506",
     "status": "completed"
    },
    "tags": []
   },
   "outputs": [
    {
     "name": "stdout",
     "output_type": "stream",
     "text": [
      "              precision    recall  f1-score   support\n",
      "\n",
      "       False       0.87      0.95      0.91       714\n",
      "        True       0.45      0.23      0.31       130\n",
      "\n",
      "    accuracy                           0.84       844\n",
      "   macro avg       0.66      0.59      0.61       844\n",
      "weighted avg       0.81      0.84      0.82       844\n",
      "\n"
     ]
    }
   ],
   "source": [
    "print(classification_report(y_test,y_pred))"
   ]
  },
  {
   "cell_type": "code",
   "execution_count": 18,
   "id": "acute-scanning",
   "metadata": {
    "execution": {
     "iopub.execute_input": "2021-07-04T09:49:43.775992Z",
     "iopub.status.busy": "2021-07-04T09:49:43.775046Z",
     "iopub.status.idle": "2021-07-04T09:49:43.814099Z",
     "shell.execute_reply": "2021-07-04T09:49:43.814962Z",
     "shell.execute_reply.started": "2021-07-04T09:47:02.036188Z"
    },
    "papermill": {
     "duration": 0.069276,
     "end_time": "2021-07-04T09:49:43.815251",
     "exception": false,
     "start_time": "2021-07-04T09:49:43.745975",
     "status": "completed"
    },
    "tags": []
   },
   "outputs": [],
   "source": [
    "y_pred_proba = knn.predict_proba(X_test)[:,1]"
   ]
  },
  {
   "cell_type": "code",
   "execution_count": 19,
   "id": "palestinian-tokyo",
   "metadata": {
    "execution": {
     "iopub.execute_input": "2021-07-04T09:49:43.911133Z",
     "iopub.status.busy": "2021-07-04T09:49:43.910425Z",
     "iopub.status.idle": "2021-07-04T09:49:43.912997Z",
     "shell.execute_reply": "2021-07-04T09:49:43.912446Z",
     "shell.execute_reply.started": "2021-07-04T09:47:06.655408Z"
    },
    "papermill": {
     "duration": 0.051244,
     "end_time": "2021-07-04T09:49:43.913139",
     "exception": false,
     "start_time": "2021-07-04T09:49:43.861895",
     "status": "completed"
    },
    "tags": []
   },
   "outputs": [],
   "source": [
    "from sklearn.metrics import roc_curve"
   ]
  },
  {
   "cell_type": "code",
   "execution_count": 20,
   "id": "alive-coral",
   "metadata": {
    "execution": {
     "iopub.execute_input": "2021-07-04T09:49:43.969053Z",
     "iopub.status.busy": "2021-07-04T09:49:43.968403Z",
     "iopub.status.idle": "2021-07-04T09:49:43.972594Z",
     "shell.execute_reply": "2021-07-04T09:49:43.973086Z",
     "shell.execute_reply.started": "2021-07-04T09:47:29.612009Z"
    },
    "papermill": {
     "duration": 0.033664,
     "end_time": "2021-07-04T09:49:43.973251",
     "exception": false,
     "start_time": "2021-07-04T09:49:43.939587",
     "status": "completed"
    },
    "tags": []
   },
   "outputs": [],
   "source": [
    "fpr, tpr, thresholds = roc_curve(y_test, y_pred_proba)"
   ]
  },
  {
   "cell_type": "code",
   "execution_count": 21,
   "id": "characteristic-intent",
   "metadata": {
    "execution": {
     "iopub.execute_input": "2021-07-04T09:49:44.029295Z",
     "iopub.status.busy": "2021-07-04T09:49:44.028662Z",
     "iopub.status.idle": "2021-07-04T09:49:44.166512Z",
     "shell.execute_reply": "2021-07-04T09:49:44.165990Z",
     "shell.execute_reply.started": "2021-07-04T09:47:40.516590Z"
    },
    "papermill": {
     "duration": 0.166898,
     "end_time": "2021-07-04T09:49:44.166654",
     "exception": false,
     "start_time": "2021-07-04T09:49:43.999756",
     "status": "completed"
    },
    "tags": []
   },
   "outputs": [
    {
     "data": {
      "image/png": "[encoded data removed]",
      "text/plain": [
       "<Figure size 432x288 with 1 Axes>"
      ]
     },
     "metadata": {
      "needs_background": "light"
     },
     "output_type": "display_data"
    }
   ],
   "source": [
    "plt.plot([0,1],[0,1],'k--')\n",
    "plt.plot(fpr,tpr, label='Knn')\n",
    "plt.xlabel('fpr')\n",
    "plt.ylabel('tpr')\n",
    "plt.title('Knn(n_neighbors=7) ROC curve')\n",
    "plt.show()"
   ]
  },
  {
   "cell_type": "code",
   "execution_count": 22,
   "id": "cathedral-hamilton",
   "metadata": {
    "execution": {
     "iopub.execute_input": "2021-07-04T09:49:44.226654Z",
     "iopub.status.busy": "2021-07-04T09:49:44.225983Z",
     "iopub.status.idle": "2021-07-04T09:49:44.232378Z",
     "shell.execute_reply": "2021-07-04T09:49:44.232833Z",
     "shell.execute_reply.started": "2021-07-04T09:47:52.859749Z"
    },
    "papermill": {
     "duration": 0.038806,
     "end_time": "2021-07-04T09:49:44.233024",
     "exception": false,
     "start_time": "2021-07-04T09:49:44.194218",
     "status": "completed"
    },
    "tags": []
   },
   "outputs": [
    {
     "data": {
      "text/plain": [
       "0.7363714716655894"
      ]
     },
     "execution_count": 22,
     "metadata": {},
     "output_type": "execute_result"
    }
   ],
   "source": [
    "#Area under ROC curve\n",
    "from sklearn.metrics import roc_auc_score\n",
    "roc_auc_score(y_test,y_pred_proba)"
   ]
  },
  {
   "cell_type": "code",
   "execution_count": 23,
   "id": "established-tissue",
   "metadata": {
    "execution": {
     "iopub.execute_input": "2021-07-04T09:49:44.293248Z",
     "iopub.status.busy": "2021-07-04T09:49:44.292592Z",
     "iopub.status.idle": "2021-07-04T09:49:44.296009Z",
     "shell.execute_reply": "2021-07-04T09:49:44.295434Z",
     "shell.execute_reply.started": "2021-07-04T09:48:03.661563Z"
    },
    "papermill": {
     "duration": 0.035194,
     "end_time": "2021-07-04T09:49:44.296155",
     "exception": false,
     "start_time": "2021-07-04T09:49:44.260961",
     "status": "completed"
    },
    "tags": []
   },
   "outputs": [],
   "source": [
    "#import GridSearchCV\n",
    "from sklearn.model_selection import GridSearchCV"
   ]
  },
  {
   "cell_type": "code",
   "execution_count": 24,
   "id": "involved-omega",
   "metadata": {
    "execution": {
     "iopub.execute_input": "2021-07-04T09:49:44.354901Z",
     "iopub.status.busy": "2021-07-04T09:49:44.354019Z",
     "iopub.status.idle": "2021-07-04T09:49:44.358098Z",
     "shell.execute_reply": "2021-07-04T09:49:44.358670Z",
     "shell.execute_reply.started": "2021-07-04T09:48:31.311752Z"
    },
    "papermill": {
     "duration": 0.035082,
     "end_time": "2021-07-04T09:49:44.358827",
     "exception": false,
     "start_time": "2021-07-04T09:49:44.323745",
     "status": "completed"
    },
    "tags": []
   },
   "outputs": [],
   "source": [
    "#In case of classifier like knn the parameter to be tuned is n_neighbors\n",
    "param_grid = {'n_neighbors':np.arange(1,50)}"
   ]
  },
  {
   "cell_type": "code",
   "execution_count": 25,
   "id": "endangered-coaching",
   "metadata": {
    "execution": {
     "iopub.execute_input": "2021-07-04T09:49:44.417198Z",
     "iopub.status.busy": "2021-07-04T09:49:44.416206Z",
     "iopub.status.idle": "2021-07-04T09:49:55.720676Z",
     "shell.execute_reply": "2021-07-04T09:49:55.721525Z",
     "shell.execute_reply.started": "2021-07-04T09:48:34.762424Z"
    },
    "papermill": {
     "duration": 11.335839,
     "end_time": "2021-07-04T09:49:55.721809",
     "exception": false,
     "start_time": "2021-07-04T09:49:44.385970",
     "status": "completed"
    },
    "tags": []
   },
   "outputs": [
    {
     "data": {
      "text/plain": [
       "GridSearchCV(cv=5, estimator=KNeighborsClassifier(),\n",
       "             param_grid={'n_neighbors': array([ 1,  2,  3,  4,  5,  6,  7,  8,  9, 10, 11, 12, 13, 14, 15, 16, 17,\n",
       "       18, 19, 20, 21, 22, 23, 24, 25, 26, 27, 28, 29, 30, 31, 32, 33, 34,\n",
       "       35, 36, 37, 38, 39, 40, 41, 42, 43, 44, 45, 46, 47, 48, 49])})"
      ]
     },
     "execution_count": 25,
     "metadata": {},
     "output_type": "execute_result"
    }
   ],
   "source": [
    "knn = KNeighborsClassifier()\n",
    "knn_cv= GridSearchCV(knn,param_grid,cv=5)\n",
    "knn_cv.fit(X,y)"
   ]
  },
  {
   "cell_type": "code",
   "execution_count": 26,
   "id": "alien-abortion",
   "metadata": {
    "execution": {
     "iopub.execute_input": "2021-07-04T09:49:55.810624Z",
     "iopub.status.busy": "2021-07-04T09:49:55.809900Z",
     "iopub.status.idle": "2021-07-04T09:49:55.812504Z",
     "shell.execute_reply": "2021-07-04T09:49:55.813028Z",
     "shell.execute_reply.started": "2021-07-04T09:49:00.960075Z"
    },
    "papermill": {
     "duration": 0.042299,
     "end_time": "2021-07-04T09:49:55.813210",
     "exception": false,
     "start_time": "2021-07-04T09:49:55.770911",
     "status": "completed"
    },
    "tags": []
   },
   "outputs": [
    {
     "data": {
      "text/plain": [
       "0.8492283099368464"
      ]
     },
     "execution_count": 26,
     "metadata": {},
     "output_type": "execute_result"
    }
   ],
   "source": [
    "knn_cv.best_score_"
   ]
  },
  {
   "cell_type": "code",
   "execution_count": 27,
   "id": "humanitarian-tribe",
   "metadata": {
    "execution": {
     "iopub.execute_input": "2021-07-04T09:49:55.873592Z",
     "iopub.status.busy": "2021-07-04T09:49:55.872957Z",
     "iopub.status.idle": "2021-07-04T09:49:55.877145Z",
     "shell.execute_reply": "2021-07-04T09:49:55.877627Z",
     "shell.execute_reply.started": "2021-07-04T09:49:05.652794Z"
    },
    "papermill": {
     "duration": 0.035943,
     "end_time": "2021-07-04T09:49:55.877786",
     "exception": false,
     "start_time": "2021-07-04T09:49:55.841843",
     "status": "completed"
    },
    "tags": []
   },
   "outputs": [
    {
     "data": {
      "text/plain": [
       "{'n_neighbors': 47}"
      ]
     },
     "execution_count": 27,
     "metadata": {},
     "output_type": "execute_result"
    }
   ],
   "source": [
    "knn_cv.best_params_"
   ]
  }
 ],
 "metadata": {
  "kernelspec": {
   "display_name": "Python 3",
   "language": "python",
   "name": "python3"
  },
  "language_info": {
   "codemirror_mode": {
    "name": "ipython",
    "version": 3
   },
   "file_extension": ".py",
   "mimetype": "text/x-python",
   "name": "python",
   "nbconvert_exporter": "python",
   "pygments_lexer": "ipython3",
   "version": "3.7.9"
  },
  "papermill": {
   "default_parameters": {},
   "duration": 28.780306,
   "end_time": "2021-07-04T09:49:57.016626",
   "environment_variables": {},
   "exception": null,
   "input_path": "__notebook__.ipynb",
   "output_path": "__notebook__.ipynb",
   "parameters": {},
   "start_time": "2021-07-04T09:49:28.236320",
   "version": "2.3.2"
  }
 },
 "nbformat": 4,
 "nbformat_minor": 5
}
