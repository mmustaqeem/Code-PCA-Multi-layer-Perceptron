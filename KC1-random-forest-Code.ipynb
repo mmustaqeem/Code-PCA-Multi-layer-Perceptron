{
 "cells": [
  {
   "cell_type": "code",
   "execution_count": 1,
   "id": "nutritional-decimal",
   "metadata": {
    "_cell_guid": "b1076dfc-b9ad-4769-8c92-a6c4dae69d19",
    "_uuid": "8f2839f25d086af736a60e9eeb907d3b93b6e0e5",
    "execution": {
     "iopub.execute_input": "2021-07-04T09:24:07.352356Z",
     "iopub.status.busy": "2021-07-04T09:24:07.351833Z",
     "iopub.status.idle": "2021-07-04T09:24:07.364885Z",
     "shell.execute_reply": "2021-07-04T09:24:07.364070Z",
     "shell.execute_reply.started": "2021-07-04T09:01:49.596351Z"
    },
    "papermill": {
     "duration": 0.03498,
     "end_time": "2021-07-04T09:24:07.365050",
     "exception": false,
     "start_time": "2021-07-04T09:24:07.330070",
     "status": "completed"
    },
    "tags": []
   },
   "outputs": [
    {
     "name": "stdout",
     "output_type": "stream",
     "text": [
      "/kaggle/input/kc1-csvsdmlp/kc1_csv.csv\n"
     ]
    }
   ],
   "source": [
    "# This Python 3 environment comes with many helpful analytics libraries installed\n",
    "# It is defined by the kaggle/python Docker image: https://github.com/kaggle/docker-python\n",
    "# For example, here's several helpful packages to load\n",
    "\n",
    "import numpy as np # linear algebra\n",
    "import pandas as pd # data processing, CSV file I/O (e.g. pd.read_csv)\n",
    "\n",
    "# Input data files are available in the read-only \"../input/\" directory\n",
    "# For example, running this (by clicking run or pressing Shift+Enter) will list all files under the input directory\n",
    "\n",
    "import os\n",
    "for dirname, _, filenames in os.walk('/kaggle/input'):\n",
    "    for filename in filenames:\n",
    "        print(os.path.join(dirname, filename))\n",
    "\n",
    "# You can write up to 20GB to the current directory (/kaggle/working/) that gets preserved as output when you create a version using \"Save & Run All\" \n",
    "# You can also write temporary files to /kaggle/temp/, but they won't be saved outside of the current session"
   ]
  },
  {
   "cell_type": "code",
   "execution_count": 2,
   "id": "signal-brooklyn",
   "metadata": {
    "execution": {
     "iopub.execute_input": "2021-07-04T09:24:07.400427Z",
     "iopub.status.busy": "2021-07-04T09:24:07.399832Z",
     "iopub.status.idle": "2021-07-04T09:24:08.274522Z",
     "shell.execute_reply": "2021-07-04T09:24:08.275354Z",
     "shell.execute_reply.started": "2021-07-04T09:01:55.224295Z"
    },
    "papermill": {
     "duration": 0.894601,
     "end_time": "2021-07-04T09:24:08.275542",
     "exception": false,
     "start_time": "2021-07-04T09:24:07.380941",
     "status": "completed"
    },
    "tags": []
   },
   "outputs": [],
   "source": [
    "import seaborn as sns\n",
    "import matplotlib.pyplot as plt\n",
    "%matplotlib inline\n",
    "\n",
    "sns.set(style=\"whitegrid\")"
   ]
  },
  {
   "cell_type": "code",
   "execution_count": 3,
   "id": "oriental-error",
   "metadata": {
    "execution": {
     "iopub.execute_input": "2021-07-04T09:24:08.309102Z",
     "iopub.status.busy": "2021-07-04T09:24:08.308527Z",
     "iopub.status.idle": "2021-07-04T09:24:13.703098Z",
     "shell.execute_reply": "2021-07-04T09:24:13.702433Z",
     "shell.execute_reply.started": "2021-07-04T09:04:52.472975Z"
    },
    "papermill": {
     "duration": 5.413389,
     "end_time": "2021-07-04T09:24:13.703235",
     "exception": false,
     "start_time": "2021-07-04T09:24:08.289846",
     "status": "completed"
    },
    "tags": []
   },
   "outputs": [],
   "source": [
    "import tensorflow as tf\n",
    "import pandas as pd\n",
    "import numpy as np\n",
    "import matplotlib.pyplot as plt\n",
    "import seaborn as sns\n",
    "from sklearn.model_selection import train_test_split\n",
    "from sklearn.preprocessing import MinMaxScaler, Normalizer\n",
    "from sklearn.decomposition import PCA as sklearnPCA\n",
    "\n",
    "# Supress unnecessary warnings so that presentation looks clean\n",
    "import warnings\n",
    "warnings.filterwarnings(\"ignore\")"
   ]
  },
  {
   "cell_type": "code",
   "execution_count": 4,
   "id": "convinced-archive",
   "metadata": {
    "execution": {
     "iopub.execute_input": "2021-07-04T09:24:13.736623Z",
     "iopub.status.busy": "2021-07-04T09:24:13.736036Z",
     "iopub.status.idle": "2021-07-04T09:24:13.763056Z",
     "shell.execute_reply": "2021-07-04T09:24:13.762494Z",
     "shell.execute_reply.started": "2021-07-04T09:05:10.243185Z"
    },
    "papermill": {
     "duration": 0.04543,
     "end_time": "2021-07-04T09:24:13.763191",
     "exception": false,
     "start_time": "2021-07-04T09:24:13.717761",
     "status": "completed"
    },
    "tags": []
   },
   "outputs": [],
   "source": [
    "data = '../input/kc1-csvsdmlp/kc1_csv.csv'\n",
    "\n",
    "df = pd.read_csv(data)"
   ]
  },
  {
   "cell_type": "code",
   "execution_count": 5,
   "id": "packed-association",
   "metadata": {
    "execution": {
     "iopub.execute_input": "2021-07-04T09:24:13.798261Z",
     "iopub.status.busy": "2021-07-04T09:24:13.797472Z",
     "iopub.status.idle": "2021-07-04T09:24:13.801335Z",
     "shell.execute_reply": "2021-07-04T09:24:13.800603Z",
     "shell.execute_reply.started": "2021-07-04T09:05:13.970474Z"
    },
    "papermill": {
     "duration": 0.022574,
     "end_time": "2021-07-04T09:24:13.801498",
     "exception": false,
     "start_time": "2021-07-04T09:24:13.778924",
     "status": "completed"
    },
    "tags": []
   },
   "outputs": [
    {
     "name": "stdout",
     "output_type": "stream",
     "text": [
      "The shape of the dataset :  (2109, 22)\n"
     ]
    }
   ],
   "source": [
    "# print the shape\n",
    "print('The shape of the dataset : ', df.shape)"
   ]
  },
  {
   "cell_type": "code",
   "execution_count": 6,
   "id": "pacific-installation",
   "metadata": {
    "execution": {
     "iopub.execute_input": "2021-07-04T09:24:13.848772Z",
     "iopub.status.busy": "2021-07-04T09:24:13.848160Z",
     "iopub.status.idle": "2021-07-04T09:24:13.873981Z",
     "shell.execute_reply": "2021-07-04T09:24:13.873486Z",
     "shell.execute_reply.started": "2021-07-04T09:05:18.936680Z"
    },
    "papermill": {
     "duration": 0.056936,
     "end_time": "2021-07-04T09:24:13.874106",
     "exception": false,
     "start_time": "2021-07-04T09:24:13.817170",
     "status": "completed"
    },
    "tags": []
   },
   "outputs": [
    {
     "data": {
      "text/html": [
       "<div>\n",
       "<style scoped>\n",
       "    .dataframe tbody tr th:only-of-type {\n",
       "        vertical-align: middle;\n",
       "    }\n",
       "\n",
       "    .dataframe tbody tr th {\n",
       "        vertical-align: top;\n",
       "    }\n",
       "\n",
       "    .dataframe thead th {\n",
       "        text-align: right;\n",
       "    }\n",
       "</style>\n",
       "<table border=\"1\" class=\"dataframe\">\n",
       "  <thead>\n",
       "    <tr style=\"text-align: right;\">\n",
       "      <th></th>\n",
       "      <th>loc</th>\n",
       "      <th>v(g)</th>\n",
       "      <th>ev(g)</th>\n",
       "      <th>iv(g)</th>\n",
       "      <th>n</th>\n",
       "      <th>v</th>\n",
       "      <th>l</th>\n",
       "      <th>d</th>\n",
       "      <th>i</th>\n",
       "      <th>e</th>\n",
       "      <th>...</th>\n",
       "      <th>lOCode</th>\n",
       "      <th>lOComment</th>\n",
       "      <th>lOBlank</th>\n",
       "      <th>locCodeAndComment</th>\n",
       "      <th>uniq_Op</th>\n",
       "      <th>uniq_Opnd</th>\n",
       "      <th>total_Op</th>\n",
       "      <th>total_Opnd</th>\n",
       "      <th>branchCount</th>\n",
       "      <th>defects</th>\n",
       "    </tr>\n",
       "  </thead>\n",
       "  <tbody>\n",
       "    <tr>\n",
       "      <th>0</th>\n",
       "      <td>1.1</td>\n",
       "      <td>1.4</td>\n",
       "      <td>1.4</td>\n",
       "      <td>1.4</td>\n",
       "      <td>1.3</td>\n",
       "      <td>1.30</td>\n",
       "      <td>1.30</td>\n",
       "      <td>1.30</td>\n",
       "      <td>1.30</td>\n",
       "      <td>1.30</td>\n",
       "      <td>...</td>\n",
       "      <td>2</td>\n",
       "      <td>2</td>\n",
       "      <td>2</td>\n",
       "      <td>2</td>\n",
       "      <td>1.2</td>\n",
       "      <td>1.2</td>\n",
       "      <td>1.2</td>\n",
       "      <td>1.2</td>\n",
       "      <td>1.4</td>\n",
       "      <td>False</td>\n",
       "    </tr>\n",
       "    <tr>\n",
       "      <th>1</th>\n",
       "      <td>1.0</td>\n",
       "      <td>1.0</td>\n",
       "      <td>1.0</td>\n",
       "      <td>1.0</td>\n",
       "      <td>1.0</td>\n",
       "      <td>1.00</td>\n",
       "      <td>1.00</td>\n",
       "      <td>1.00</td>\n",
       "      <td>1.00</td>\n",
       "      <td>1.00</td>\n",
       "      <td>...</td>\n",
       "      <td>1</td>\n",
       "      <td>1</td>\n",
       "      <td>1</td>\n",
       "      <td>1</td>\n",
       "      <td>1.0</td>\n",
       "      <td>1.0</td>\n",
       "      <td>1.0</td>\n",
       "      <td>1.0</td>\n",
       "      <td>1.0</td>\n",
       "      <td>True</td>\n",
       "    </tr>\n",
       "    <tr>\n",
       "      <th>2</th>\n",
       "      <td>83.0</td>\n",
       "      <td>11.0</td>\n",
       "      <td>1.0</td>\n",
       "      <td>11.0</td>\n",
       "      <td>171.0</td>\n",
       "      <td>927.89</td>\n",
       "      <td>0.04</td>\n",
       "      <td>23.04</td>\n",
       "      <td>40.27</td>\n",
       "      <td>21378.61</td>\n",
       "      <td>...</td>\n",
       "      <td>65</td>\n",
       "      <td>10</td>\n",
       "      <td>6</td>\n",
       "      <td>0</td>\n",
       "      <td>18.0</td>\n",
       "      <td>25.0</td>\n",
       "      <td>107.0</td>\n",
       "      <td>64.0</td>\n",
       "      <td>21.0</td>\n",
       "      <td>True</td>\n",
       "    </tr>\n",
       "    <tr>\n",
       "      <th>3</th>\n",
       "      <td>46.0</td>\n",
       "      <td>8.0</td>\n",
       "      <td>6.0</td>\n",
       "      <td>8.0</td>\n",
       "      <td>141.0</td>\n",
       "      <td>769.78</td>\n",
       "      <td>0.07</td>\n",
       "      <td>14.86</td>\n",
       "      <td>51.81</td>\n",
       "      <td>11436.73</td>\n",
       "      <td>...</td>\n",
       "      <td>37</td>\n",
       "      <td>2</td>\n",
       "      <td>5</td>\n",
       "      <td>0</td>\n",
       "      <td>16.0</td>\n",
       "      <td>28.0</td>\n",
       "      <td>89.0</td>\n",
       "      <td>52.0</td>\n",
       "      <td>15.0</td>\n",
       "      <td>True</td>\n",
       "    </tr>\n",
       "    <tr>\n",
       "      <th>4</th>\n",
       "      <td>25.0</td>\n",
       "      <td>3.0</td>\n",
       "      <td>1.0</td>\n",
       "      <td>3.0</td>\n",
       "      <td>58.0</td>\n",
       "      <td>254.75</td>\n",
       "      <td>0.11</td>\n",
       "      <td>9.35</td>\n",
       "      <td>27.25</td>\n",
       "      <td>2381.95</td>\n",
       "      <td>...</td>\n",
       "      <td>21</td>\n",
       "      <td>0</td>\n",
       "      <td>2</td>\n",
       "      <td>0</td>\n",
       "      <td>11.0</td>\n",
       "      <td>10.0</td>\n",
       "      <td>41.0</td>\n",
       "      <td>17.0</td>\n",
       "      <td>5.0</td>\n",
       "      <td>True</td>\n",
       "    </tr>\n",
       "  </tbody>\n",
       "</table>\n",
       "<p>5 rows × 22 columns</p>\n",
       "</div>"
      ],
      "text/plain": [
       "    loc  v(g)  ev(g)  iv(g)      n       v     l      d      i         e  ...  \\\n",
       "0   1.1   1.4    1.4    1.4    1.3    1.30  1.30   1.30   1.30      1.30  ...   \n",
       "1   1.0   1.0    1.0    1.0    1.0    1.00  1.00   1.00   1.00      1.00  ...   \n",
       "2  83.0  11.0    1.0   11.0  171.0  927.89  0.04  23.04  40.27  21378.61  ...   \n",
       "3  46.0   8.0    6.0    8.0  141.0  769.78  0.07  14.86  51.81  11436.73  ...   \n",
       "4  25.0   3.0    1.0    3.0   58.0  254.75  0.11   9.35  27.25   2381.95  ...   \n",
       "\n",
       "   lOCode  lOComment  lOBlank  locCodeAndComment  uniq_Op  uniq_Opnd  \\\n",
       "0       2          2        2                  2      1.2        1.2   \n",
       "1       1          1        1                  1      1.0        1.0   \n",
       "2      65         10        6                  0     18.0       25.0   \n",
       "3      37          2        5                  0     16.0       28.0   \n",
       "4      21          0        2                  0     11.0       10.0   \n",
       "\n",
       "   total_Op  total_Opnd  branchCount  defects  \n",
       "0       1.2         1.2          1.4    False  \n",
       "1       1.0         1.0          1.0     True  \n",
       "2     107.0        64.0         21.0     True  \n",
       "3      89.0        52.0         15.0     True  \n",
       "4      41.0        17.0          5.0     True  \n",
       "\n",
       "[5 rows x 22 columns]"
      ]
     },
     "execution_count": 6,
     "metadata": {},
     "output_type": "execute_result"
    }
   ],
   "source": [
    "df.head()"
   ]
  },
  {
   "cell_type": "code",
   "execution_count": 7,
   "id": "noble-ambassador",
   "metadata": {
    "execution": {
     "iopub.execute_input": "2021-07-04T09:24:13.909871Z",
     "iopub.status.busy": "2021-07-04T09:24:13.909205Z",
     "iopub.status.idle": "2021-07-04T09:24:13.916494Z",
     "shell.execute_reply": "2021-07-04T09:24:13.916052Z",
     "shell.execute_reply.started": "2021-07-04T09:05:22.931843Z"
    },
    "papermill": {
     "duration": 0.027551,
     "end_time": "2021-07-04T09:24:13.916647",
     "exception": false,
     "start_time": "2021-07-04T09:24:13.889096",
     "status": "completed"
    },
    "tags": []
   },
   "outputs": [
    {
     "name": "stdout",
     "output_type": "stream",
     "text": [
      "Training Data : (1476, 22)\n",
      "Testing Data : (633, 22)\n"
     ]
    }
   ],
   "source": [
    "train,test = train_test_split(df, test_size=0.3, random_state=5)\n",
    "print(\"Training Data :\",train.shape)\n",
    "print(\"Testing Data :\",test.shape)"
   ]
  },
  {
   "cell_type": "code",
   "execution_count": 8,
   "id": "impaired-minute",
   "metadata": {
    "execution": {
     "iopub.execute_input": "2021-07-04T09:24:13.952158Z",
     "iopub.status.busy": "2021-07-04T09:24:13.951529Z",
     "iopub.status.idle": "2021-07-04T09:24:13.955215Z",
     "shell.execute_reply": "2021-07-04T09:24:13.955847Z",
     "shell.execute_reply.started": "2021-07-04T09:06:51.515484Z"
    },
    "papermill": {
     "duration": 0.02414,
     "end_time": "2021-07-04T09:24:13.956067",
     "exception": false,
     "start_time": "2021-07-04T09:24:13.931927",
     "status": "completed"
    },
    "tags": []
   },
   "outputs": [
    {
     "name": "stdout",
     "output_type": "stream",
     "text": [
      "Training Data : (1476, 22)\n",
      "Testing Data : (633, 22)\n"
     ]
    }
   ],
   "source": [
    "train_data = train.iloc[:,:]\n",
    "test_data = test.iloc[:,:]\n",
    "\n",
    "print(\"Training Data :\",train_data.shape)\n",
    "print(\"Testing Data :\",test_data.shape)"
   ]
  },
  {
   "cell_type": "code",
   "execution_count": 9,
   "id": "posted-lebanon",
   "metadata": {
    "execution": {
     "iopub.execute_input": "2021-07-04T09:24:13.993964Z",
     "iopub.status.busy": "2021-07-04T09:24:13.993385Z",
     "iopub.status.idle": "2021-07-04T09:24:13.996146Z",
     "shell.execute_reply": "2021-07-04T09:24:13.995570Z",
     "shell.execute_reply.started": "2021-07-04T09:13:36.028292Z"
    },
    "papermill": {
     "duration": 0.023917,
     "end_time": "2021-07-04T09:24:13.996273",
     "exception": false,
     "start_time": "2021-07-04T09:24:13.972356",
     "status": "completed"
    },
    "tags": []
   },
   "outputs": [],
   "source": [
    "X = df.drop(['defects'], axis=1)\n",
    "\n",
    "y = df['defects']"
   ]
  },
  {
   "cell_type": "code",
   "execution_count": 10,
   "id": "capital-gates",
   "metadata": {
    "execution": {
     "iopub.execute_input": "2021-07-04T09:24:14.032657Z",
     "iopub.status.busy": "2021-07-04T09:24:14.031968Z",
     "iopub.status.idle": "2021-07-04T09:24:14.036640Z",
     "shell.execute_reply": "2021-07-04T09:24:14.036165Z",
     "shell.execute_reply.started": "2021-07-04T09:13:56.808783Z"
    },
    "papermill": {
     "duration": 0.024925,
     "end_time": "2021-07-04T09:24:14.036770",
     "exception": false,
     "start_time": "2021-07-04T09:24:14.011845",
     "status": "completed"
    },
    "tags": []
   },
   "outputs": [],
   "source": [
    "from sklearn.model_selection import train_test_split\n",
    "\n",
    "X_train, X_test, y_train, y_test = train_test_split(X, y, test_size = 0.3, random_state = 0)"
   ]
  },
  {
   "cell_type": "code",
   "execution_count": 11,
   "id": "fewer-python",
   "metadata": {
    "execution": {
     "iopub.execute_input": "2021-07-04T09:24:14.072615Z",
     "iopub.status.busy": "2021-07-04T09:24:14.072009Z",
     "iopub.status.idle": "2021-07-04T09:24:14.075566Z",
     "shell.execute_reply": "2021-07-04T09:24:14.075049Z",
     "shell.execute_reply.started": "2021-07-04T09:14:09.299630Z"
    },
    "papermill": {
     "duration": 0.023396,
     "end_time": "2021-07-04T09:24:14.075706",
     "exception": false,
     "start_time": "2021-07-04T09:24:14.052310",
     "status": "completed"
    },
    "tags": []
   },
   "outputs": [
    {
     "data": {
      "text/plain": [
       "((1476, 21), (633, 21))"
      ]
     },
     "execution_count": 11,
     "metadata": {},
     "output_type": "execute_result"
    }
   ],
   "source": [
    "# check the shape of X_train and X_test\n",
    "\n",
    "X_train.shape, X_test.shape"
   ]
  },
  {
   "cell_type": "code",
   "execution_count": 12,
   "id": "specified-logan",
   "metadata": {
    "execution": {
     "iopub.execute_input": "2021-07-04T09:24:14.132493Z",
     "iopub.status.busy": "2021-07-04T09:24:14.119097Z",
     "iopub.status.idle": "2021-07-04T09:24:14.137128Z",
     "shell.execute_reply": "2021-07-04T09:24:14.136556Z",
     "shell.execute_reply.started": "2021-07-04T09:14:20.461566Z"
    },
    "papermill": {
     "duration": 0.04559,
     "end_time": "2021-07-04T09:24:14.137254",
     "exception": false,
     "start_time": "2021-07-04T09:24:14.091664",
     "status": "completed"
    },
    "tags": []
   },
   "outputs": [
    {
     "data": {
      "text/html": [
       "<div>\n",
       "<style scoped>\n",
       "    .dataframe tbody tr th:only-of-type {\n",
       "        vertical-align: middle;\n",
       "    }\n",
       "\n",
       "    .dataframe tbody tr th {\n",
       "        vertical-align: top;\n",
       "    }\n",
       "\n",
       "    .dataframe thead th {\n",
       "        text-align: right;\n",
       "    }\n",
       "</style>\n",
       "<table border=\"1\" class=\"dataframe\">\n",
       "  <thead>\n",
       "    <tr style=\"text-align: right;\">\n",
       "      <th></th>\n",
       "      <th>loc</th>\n",
       "      <th>v(g)</th>\n",
       "      <th>ev(g)</th>\n",
       "      <th>iv(g)</th>\n",
       "      <th>n</th>\n",
       "      <th>v</th>\n",
       "      <th>l</th>\n",
       "      <th>d</th>\n",
       "      <th>i</th>\n",
       "      <th>e</th>\n",
       "      <th>...</th>\n",
       "      <th>t</th>\n",
       "      <th>lOCode</th>\n",
       "      <th>lOComment</th>\n",
       "      <th>lOBlank</th>\n",
       "      <th>locCodeAndComment</th>\n",
       "      <th>uniq_Op</th>\n",
       "      <th>uniq_Opnd</th>\n",
       "      <th>total_Op</th>\n",
       "      <th>total_Opnd</th>\n",
       "      <th>branchCount</th>\n",
       "    </tr>\n",
       "  </thead>\n",
       "  <tbody>\n",
       "    <tr>\n",
       "      <th>1240</th>\n",
       "      <td>1.0</td>\n",
       "      <td>1.0</td>\n",
       "      <td>1.0</td>\n",
       "      <td>1.0</td>\n",
       "      <td>4.0</td>\n",
       "      <td>8.00</td>\n",
       "      <td>0.67</td>\n",
       "      <td>1.5</td>\n",
       "      <td>5.33</td>\n",
       "      <td>12.00</td>\n",
       "      <td>...</td>\n",
       "      <td>0.67</td>\n",
       "      <td>0</td>\n",
       "      <td>0</td>\n",
       "      <td>0</td>\n",
       "      <td>0</td>\n",
       "      <td>3.0</td>\n",
       "      <td>1.0</td>\n",
       "      <td>3.0</td>\n",
       "      <td>1.0</td>\n",
       "      <td>1.0</td>\n",
       "    </tr>\n",
       "    <tr>\n",
       "      <th>794</th>\n",
       "      <td>2.0</td>\n",
       "      <td>1.0</td>\n",
       "      <td>1.0</td>\n",
       "      <td>1.0</td>\n",
       "      <td>4.0</td>\n",
       "      <td>8.00</td>\n",
       "      <td>0.67</td>\n",
       "      <td>1.5</td>\n",
       "      <td>5.33</td>\n",
       "      <td>12.00</td>\n",
       "      <td>...</td>\n",
       "      <td>0.67</td>\n",
       "      <td>0</td>\n",
       "      <td>0</td>\n",
       "      <td>0</td>\n",
       "      <td>0</td>\n",
       "      <td>3.0</td>\n",
       "      <td>1.0</td>\n",
       "      <td>3.0</td>\n",
       "      <td>1.0</td>\n",
       "      <td>1.0</td>\n",
       "    </tr>\n",
       "    <tr>\n",
       "      <th>1814</th>\n",
       "      <td>4.0</td>\n",
       "      <td>1.0</td>\n",
       "      <td>1.0</td>\n",
       "      <td>1.0</td>\n",
       "      <td>5.0</td>\n",
       "      <td>11.61</td>\n",
       "      <td>0.50</td>\n",
       "      <td>2.0</td>\n",
       "      <td>5.80</td>\n",
       "      <td>23.22</td>\n",
       "      <td>...</td>\n",
       "      <td>1.29</td>\n",
       "      <td>2</td>\n",
       "      <td>0</td>\n",
       "      <td>0</td>\n",
       "      <td>0</td>\n",
       "      <td>4.0</td>\n",
       "      <td>1.0</td>\n",
       "      <td>4.0</td>\n",
       "      <td>1.0</td>\n",
       "      <td>1.0</td>\n",
       "    </tr>\n",
       "    <tr>\n",
       "      <th>1412</th>\n",
       "      <td>3.0</td>\n",
       "      <td>1.0</td>\n",
       "      <td>1.0</td>\n",
       "      <td>1.0</td>\n",
       "      <td>5.0</td>\n",
       "      <td>11.61</td>\n",
       "      <td>0.67</td>\n",
       "      <td>1.5</td>\n",
       "      <td>7.74</td>\n",
       "      <td>17.41</td>\n",
       "      <td>...</td>\n",
       "      <td>0.97</td>\n",
       "      <td>0</td>\n",
       "      <td>0</td>\n",
       "      <td>0</td>\n",
       "      <td>0</td>\n",
       "      <td>3.0</td>\n",
       "      <td>2.0</td>\n",
       "      <td>3.0</td>\n",
       "      <td>2.0</td>\n",
       "      <td>1.0</td>\n",
       "    </tr>\n",
       "    <tr>\n",
       "      <th>1490</th>\n",
       "      <td>6.0</td>\n",
       "      <td>1.0</td>\n",
       "      <td>1.0</td>\n",
       "      <td>1.0</td>\n",
       "      <td>5.0</td>\n",
       "      <td>11.61</td>\n",
       "      <td>0.67</td>\n",
       "      <td>1.5</td>\n",
       "      <td>7.74</td>\n",
       "      <td>17.41</td>\n",
       "      <td>...</td>\n",
       "      <td>0.97</td>\n",
       "      <td>2</td>\n",
       "      <td>2</td>\n",
       "      <td>0</td>\n",
       "      <td>0</td>\n",
       "      <td>3.0</td>\n",
       "      <td>2.0</td>\n",
       "      <td>3.0</td>\n",
       "      <td>2.0</td>\n",
       "      <td>1.0</td>\n",
       "    </tr>\n",
       "  </tbody>\n",
       "</table>\n",
       "<p>5 rows × 21 columns</p>\n",
       "</div>"
      ],
      "text/plain": [
       "      loc  v(g)  ev(g)  iv(g)    n      v     l    d     i      e  ...     t  \\\n",
       "1240  1.0   1.0    1.0    1.0  4.0   8.00  0.67  1.5  5.33  12.00  ...  0.67   \n",
       "794   2.0   1.0    1.0    1.0  4.0   8.00  0.67  1.5  5.33  12.00  ...  0.67   \n",
       "1814  4.0   1.0    1.0    1.0  5.0  11.61  0.50  2.0  5.80  23.22  ...  1.29   \n",
       "1412  3.0   1.0    1.0    1.0  5.0  11.61  0.67  1.5  7.74  17.41  ...  0.97   \n",
       "1490  6.0   1.0    1.0    1.0  5.0  11.61  0.67  1.5  7.74  17.41  ...  0.97   \n",
       "\n",
       "      lOCode  lOComment  lOBlank  locCodeAndComment  uniq_Op  uniq_Opnd  \\\n",
       "1240       0          0        0                  0      3.0        1.0   \n",
       "794        0          0        0                  0      3.0        1.0   \n",
       "1814       2          0        0                  0      4.0        1.0   \n",
       "1412       0          0        0                  0      3.0        2.0   \n",
       "1490       2          2        0                  0      3.0        2.0   \n",
       "\n",
       "      total_Op  total_Opnd  branchCount  \n",
       "1240       3.0         1.0          1.0  \n",
       "794        3.0         1.0          1.0  \n",
       "1814       4.0         1.0          1.0  \n",
       "1412       3.0         2.0          1.0  \n",
       "1490       3.0         2.0          1.0  \n",
       "\n",
       "[5 rows x 21 columns]"
      ]
     },
     "execution_count": 12,
     "metadata": {},
     "output_type": "execute_result"
    }
   ],
   "source": [
    "X_train.head()"
   ]
  },
  {
   "cell_type": "code",
   "execution_count": 13,
   "id": "continuous-analysis",
   "metadata": {
    "execution": {
     "iopub.execute_input": "2021-07-04T09:24:14.174974Z",
     "iopub.status.busy": "2021-07-04T09:24:14.174041Z",
     "iopub.status.idle": "2021-07-04T09:24:14.177532Z",
     "shell.execute_reply": "2021-07-04T09:24:14.177973Z",
     "shell.execute_reply.started": "2021-07-04T09:14:38.012096Z"
    },
    "papermill": {
     "duration": 0.024395,
     "end_time": "2021-07-04T09:24:14.178138",
     "exception": false,
     "start_time": "2021-07-04T09:24:14.153743",
     "status": "completed"
    },
    "tags": []
   },
   "outputs": [
    {
     "data": {
      "text/plain": [
       "(1476, 21)"
      ]
     },
     "execution_count": 13,
     "metadata": {},
     "output_type": "execute_result"
    }
   ],
   "source": [
    "X_train.shape"
   ]
  },
  {
   "cell_type": "code",
   "execution_count": 14,
   "id": "fabulous-breed",
   "metadata": {
    "execution": {
     "iopub.execute_input": "2021-07-04T09:24:14.215253Z",
     "iopub.status.busy": "2021-07-04T09:24:14.214685Z",
     "iopub.status.idle": "2021-07-04T09:24:14.217429Z",
     "shell.execute_reply": "2021-07-04T09:24:14.216957Z",
     "shell.execute_reply.started": "2021-07-04T09:16:41.745249Z"
    },
    "papermill": {
     "duration": 0.023108,
     "end_time": "2021-07-04T09:24:14.217550",
     "exception": false,
     "start_time": "2021-07-04T09:24:14.194442",
     "status": "completed"
    },
    "tags": []
   },
   "outputs": [],
   "source": [
    "cols = X_train.columns"
   ]
  },
  {
   "cell_type": "code",
   "execution_count": 15,
   "id": "detected-prayer",
   "metadata": {
    "execution": {
     "iopub.execute_input": "2021-07-04T09:24:14.256886Z",
     "iopub.status.busy": "2021-07-04T09:24:14.256256Z",
     "iopub.status.idle": "2021-07-04T09:24:14.269737Z",
     "shell.execute_reply": "2021-07-04T09:24:14.270140Z",
     "shell.execute_reply.started": "2021-07-04T09:16:56.003485Z"
    },
    "papermill": {
     "duration": 0.036395,
     "end_time": "2021-07-04T09:24:14.270305",
     "exception": false,
     "start_time": "2021-07-04T09:24:14.233910",
     "status": "completed"
    },
    "tags": []
   },
   "outputs": [],
   "source": [
    "from sklearn.preprocessing import RobustScaler\n",
    "\n",
    "scaler = RobustScaler()\n",
    "\n",
    "X_train = scaler.fit_transform(X_train)\n",
    "\n",
    "X_test = scaler.transform(X_test)"
   ]
  },
  {
   "cell_type": "code",
   "execution_count": 16,
   "id": "pressed-vintage",
   "metadata": {
    "execution": {
     "iopub.execute_input": "2021-07-04T09:24:14.306718Z",
     "iopub.status.busy": "2021-07-04T09:24:14.305872Z",
     "iopub.status.idle": "2021-07-04T09:24:14.312644Z",
     "shell.execute_reply": "2021-07-04T09:24:14.313022Z",
     "shell.execute_reply.started": "2021-07-04T09:17:16.473480Z"
    },
    "papermill": {
     "duration": 0.026432,
     "end_time": "2021-07-04T09:24:14.313189",
     "exception": false,
     "start_time": "2021-07-04T09:24:14.286757",
     "status": "completed"
    },
    "tags": []
   },
   "outputs": [],
   "source": [
    "X_train = pd.DataFrame(X_train, columns=[cols])"
   ]
  },
  {
   "cell_type": "code",
   "execution_count": 17,
   "id": "muslim-football",
   "metadata": {
    "execution": {
     "iopub.execute_input": "2021-07-04T09:24:14.349679Z",
     "iopub.status.busy": "2021-07-04T09:24:14.348815Z",
     "iopub.status.idle": "2021-07-04T09:24:14.353225Z",
     "shell.execute_reply": "2021-07-04T09:24:14.353666Z",
     "shell.execute_reply.started": "2021-07-04T09:17:25.599491Z"
    },
    "papermill": {
     "duration": 0.024218,
     "end_time": "2021-07-04T09:24:14.353835",
     "exception": false,
     "start_time": "2021-07-04T09:24:14.329617",
     "status": "completed"
    },
    "tags": []
   },
   "outputs": [],
   "source": [
    "X_test = pd.DataFrame(X_test, columns=[cols])"
   ]
  },
  {
   "cell_type": "code",
   "execution_count": 18,
   "id": "promotional-tribe",
   "metadata": {
    "execution": {
     "iopub.execute_input": "2021-07-04T09:24:14.392372Z",
     "iopub.status.busy": "2021-07-04T09:24:14.391759Z",
     "iopub.status.idle": "2021-07-04T09:24:14.772529Z",
     "shell.execute_reply": "2021-07-04T09:24:14.772073Z",
     "shell.execute_reply.started": "2021-07-04T09:17:57.793199Z"
    },
    "papermill": {
     "duration": 0.402473,
     "end_time": "2021-07-04T09:24:14.772690",
     "exception": false,
     "start_time": "2021-07-04T09:24:14.370217",
     "status": "completed"
    },
    "tags": []
   },
   "outputs": [
    {
     "name": "stdout",
     "output_type": "stream",
     "text": [
      "Model accuracy score with 10 decision-trees : 0.8373\n"
     ]
    }
   ],
   "source": [
    "# import Random Forest classifier\n",
    "\n",
    "from sklearn.ensemble import RandomForestClassifier\n",
    "\n",
    "\n",
    "\n",
    "# instantiate the classifier \n",
    "\n",
    "rfc = RandomForestClassifier(random_state=0)\n",
    "\n",
    "\n",
    "\n",
    "# fit the model\n",
    "\n",
    "rfc.fit(X_train, y_train)\n",
    "\n",
    "\n",
    "\n",
    "# Predict the Test set results\n",
    "\n",
    "y_pred = rfc.predict(X_test)\n",
    "\n",
    "\n",
    "\n",
    "# Check accuracy score \n",
    "\n",
    "from sklearn.metrics import accuracy_score\n",
    "\n",
    "print('Model accuracy score with 10 decision-trees : {0:0.4f}'. format(accuracy_score(y_test, y_pred)))"
   ]
  },
  {
   "cell_type": "code",
   "execution_count": 19,
   "id": "collected-refrigerator",
   "metadata": {
    "execution": {
     "iopub.execute_input": "2021-07-04T09:24:14.813476Z",
     "iopub.status.busy": "2021-07-04T09:24:14.812910Z",
     "iopub.status.idle": "2021-07-04T09:24:15.099078Z",
     "shell.execute_reply": "2021-07-04T09:24:15.098216Z",
     "shell.execute_reply.started": "2021-07-04T09:18:38.061636Z"
    },
    "papermill": {
     "duration": 0.309445,
     "end_time": "2021-07-04T09:24:15.099267",
     "exception": false,
     "start_time": "2021-07-04T09:24:14.789822",
     "status": "completed"
    },
    "tags": []
   },
   "outputs": [
    {
     "name": "stdout",
     "output_type": "stream",
     "text": [
      "Model accuracy score with 100 decision-trees : 0.8373\n"
     ]
    }
   ],
   "source": [
    "# instantiate the classifier with n_estimators = 100\n",
    "\n",
    "rfc_100 = RandomForestClassifier(n_estimators=100, random_state=0)\n",
    "\n",
    "\n",
    "\n",
    "# fit the model to the training set\n",
    "\n",
    "rfc_100.fit(X_train, y_train)\n",
    "\n",
    "\n",
    "\n",
    "# Predict on the test set results\n",
    "\n",
    "y_pred_100 = rfc_100.predict(X_test)\n",
    "\n",
    "\n",
    "\n",
    "# Check accuracy score \n",
    "\n",
    "print('Model accuracy score with 100 decision-trees : {0:0.4f}'. format(accuracy_score(y_test, y_pred_100)))"
   ]
  },
  {
   "cell_type": "code",
   "execution_count": 20,
   "id": "insured-restriction",
   "metadata": {
    "execution": {
     "iopub.execute_input": "2021-07-04T09:24:15.141401Z",
     "iopub.status.busy": "2021-07-04T09:24:15.140798Z",
     "iopub.status.idle": "2021-07-04T09:24:15.402052Z",
     "shell.execute_reply": "2021-07-04T09:24:15.401533Z",
     "shell.execute_reply.started": "2021-07-04T09:21:41.298634Z"
    },
    "papermill": {
     "duration": 0.28506,
     "end_time": "2021-07-04T09:24:15.402185",
     "exception": false,
     "start_time": "2021-07-04T09:24:15.117125",
     "status": "completed"
    },
    "tags": []
   },
   "outputs": [
    {
     "data": {
      "text/plain": [
       "RandomForestClassifier(random_state=0)"
      ]
     },
     "execution_count": 20,
     "metadata": {},
     "output_type": "execute_result"
    }
   ],
   "source": [
    "# create the classifier with n_estimators = 100\n",
    "\n",
    "clf = RandomForestClassifier(n_estimators=100, random_state=0)\n",
    "\n",
    "\n",
    "\n",
    "# fit the model to the training set\n",
    "\n",
    "clf.fit(X_train, y_train)"
   ]
  },
  {
   "cell_type": "code",
   "execution_count": 21,
   "id": "starting-better",
   "metadata": {
    "execution": {
     "iopub.execute_input": "2021-07-04T09:24:15.446206Z",
     "iopub.status.busy": "2021-07-04T09:24:15.444822Z",
     "iopub.status.idle": "2021-07-04T09:24:15.460236Z",
     "shell.execute_reply": "2021-07-04T09:24:15.459739Z",
     "shell.execute_reply.started": "2021-07-04T09:21:55.205452Z"
    },
    "papermill": {
     "duration": 0.04101,
     "end_time": "2021-07-04T09:24:15.460372",
     "exception": false,
     "start_time": "2021-07-04T09:24:15.419362",
     "status": "completed"
    },
    "tags": []
   },
   "outputs": [
    {
     "data": {
      "text/plain": [
       "e                    0.086498\n",
       "d                    0.086433\n",
       "t                    0.071997\n",
       "v                    0.071779\n",
       "loc                  0.069293\n",
       "total_Opnd           0.060678\n",
       "n                    0.059000\n",
       "lOCode               0.058926\n",
       "i                    0.055343\n",
       "total_Op             0.052841\n",
       "uniq_Opnd            0.046635\n",
       "uniq_Op              0.039147\n",
       "b                    0.037292\n",
       "lOBlank              0.036537\n",
       "branchCount          0.033403\n",
       "v(g)                 0.027282\n",
       "lOComment            0.027154\n",
       "l                    0.026499\n",
       "iv(g)                0.022844\n",
       "locCodeAndComment    0.016209\n",
       "ev(g)                0.014208\n",
       "dtype: float64"
      ]
     },
     "execution_count": 21,
     "metadata": {},
     "output_type": "execute_result"
    }
   ],
   "source": [
    "# view the feature scores\n",
    "\n",
    "feature_scores = pd.Series(clf.feature_importances_, index=X_train.columns).sort_values(ascending=False)\n",
    "\n",
    "feature_scores"
   ]
  },
  {
   "cell_type": "code",
   "execution_count": 22,
   "id": "protecting-headquarters",
   "metadata": {
    "execution": {
     "iopub.execute_input": "2021-07-04T09:24:15.500321Z",
     "iopub.status.busy": "2021-07-04T09:24:15.499707Z",
     "iopub.status.idle": "2021-07-04T09:24:15.506756Z",
     "shell.execute_reply": "2021-07-04T09:24:15.506236Z",
     "shell.execute_reply.started": "2021-07-04T09:22:13.507284Z"
    },
    "papermill": {
     "duration": 0.028834,
     "end_time": "2021-07-04T09:24:15.506889",
     "exception": false,
     "start_time": "2021-07-04T09:24:15.478055",
     "status": "completed"
    },
    "tags": []
   },
   "outputs": [
    {
     "name": "stdout",
     "output_type": "stream",
     "text": [
      "Confusion matrix\n",
      "\n",
      " [[503  23]\n",
      " [ 80  27]]\n"
     ]
    }
   ],
   "source": [
    "# Print the Confusion Matrix and slice it into four pieces\n",
    "\n",
    "from sklearn.metrics import confusion_matrix\n",
    "\n",
    "cm = confusion_matrix(y_test, y_pred)\n",
    "\n",
    "print('Confusion matrix\\n\\n', cm)"
   ]
  },
  {
   "cell_type": "code",
   "execution_count": 23,
   "id": "wound-cooperative",
   "metadata": {
    "execution": {
     "iopub.execute_input": "2021-07-04T09:24:15.561913Z",
     "iopub.status.busy": "2021-07-04T09:24:15.561183Z",
     "iopub.status.idle": "2021-07-04T09:24:15.788915Z",
     "shell.execute_reply": "2021-07-04T09:24:15.788229Z",
     "shell.execute_reply.started": "2021-07-04T09:22:28.530634Z"
    },
    "papermill": {
     "duration": 0.264295,
     "end_time": "2021-07-04T09:24:15.789057",
     "exception": false,
     "start_time": "2021-07-04T09:24:15.524762",
     "status": "completed"
    },
    "tags": []
   },
   "outputs": [
    {
     "data": {
      "text/plain": [
       "<AxesSubplot:>"
      ]
     },
     "execution_count": 23,
     "metadata": {},
     "output_type": "execute_result"
    },
    {
     "data": {
      "image/png": "[encoded data removed]",
      "text/plain": [
       "<Figure size 432x288 with 2 Axes>"
      ]
     },
     "metadata": {},
     "output_type": "display_data"
    }
   ],
   "source": [
    "# visualize confusion matrix with seaborn heatmap\n",
    "\n",
    "cm_matrix = pd.DataFrame(data=cm, columns=['Actual Positive:1', 'Actual Negative:0'], \n",
    "                                 index=['Predict Positive:1', 'Predict Negative:0'])\n",
    "\n",
    "sns.heatmap(cm_matrix, annot=True, fmt='d', cmap='YlGnBu')"
   ]
  },
  {
   "cell_type": "code",
   "execution_count": 24,
   "id": "integrated-wealth",
   "metadata": {
    "execution": {
     "iopub.execute_input": "2021-07-04T09:24:15.831904Z",
     "iopub.status.busy": "2021-07-04T09:24:15.831236Z",
     "iopub.status.idle": "2021-07-04T09:24:15.839148Z",
     "shell.execute_reply": "2021-07-04T09:24:15.838572Z",
     "shell.execute_reply.started": "2021-07-04T09:23:01.581177Z"
    },
    "papermill": {
     "duration": 0.030759,
     "end_time": "2021-07-04T09:24:15.839268",
     "exception": false,
     "start_time": "2021-07-04T09:24:15.808509",
     "status": "completed"
    },
    "tags": []
   },
   "outputs": [
    {
     "name": "stdout",
     "output_type": "stream",
     "text": [
      "              precision    recall  f1-score   support\n",
      "\n",
      "       False       0.86      0.96      0.91       526\n",
      "        True       0.54      0.25      0.34       107\n",
      "\n",
      "    accuracy                           0.84       633\n",
      "   macro avg       0.70      0.60      0.63       633\n",
      "weighted avg       0.81      0.84      0.81       633\n",
      "\n"
     ]
    }
   ],
   "source": [
    "from sklearn.metrics import classification_report\n",
    "\n",
    "print(classification_report(y_test, y_pred))"
   ]
  }
 ],
 "metadata": {
  "kernelspec": {
   "display_name": "Python 3",
   "language": "python",
   "name": "python3"
  },
  "language_info": {
   "codemirror_mode": {
    "name": "ipython",
    "version": 3
   },
   "file_extension": ".py",
   "mimetype": "text/x-python",
   "name": "python",
   "nbconvert_exporter": "python",
   "pygments_lexer": "ipython3",
   "version": "3.7.9"
  },
  "papermill": {
   "default_parameters": {},
   "duration": 14.853867,
   "end_time": "2021-07-04T09:24:16.867294",
   "environment_variables": {},
   "exception": null,
   "input_path": "__notebook__.ipynb",
   "output_path": "__notebook__.ipynb",
   "parameters": {},
   "start_time": "2021-07-04T09:24:02.013427",
   "version": "2.3.2"
  }
 },
 "nbformat": 4,
 "nbformat_minor": 5
}
