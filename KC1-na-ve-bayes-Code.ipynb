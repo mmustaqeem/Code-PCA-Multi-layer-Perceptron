{
 "cells": [
  {
   "cell_type": "code",
   "execution_count": 1,
   "id": "bored-roller",
   "metadata": {
    "_cell_guid": "b1076dfc-b9ad-4769-8c92-a6c4dae69d19",
    "_uuid": "8f2839f25d086af736a60e9eeb907d3b93b6e0e5",
    "execution": {
     "iopub.execute_input": "2021-07-04T08:05:02.629479Z",
     "iopub.status.busy": "2021-07-04T08:05:02.628702Z",
     "iopub.status.idle": "2021-07-04T08:05:02.645450Z",
     "shell.execute_reply": "2021-07-04T08:05:02.644549Z",
     "shell.execute_reply.started": "2021-07-04T07:47:19.110611Z"
    },
    "papermill": {
     "duration": 0.051378,
     "end_time": "2021-07-04T08:05:02.645634",
     "exception": false,
     "start_time": "2021-07-04T08:05:02.594256",
     "status": "completed"
    },
    "tags": []
   },
   "outputs": [
    {
     "name": "stdout",
     "output_type": "stream",
     "text": [
      "/kaggle/input/kc1-csvsdmlp/kc1_csv.csv\n"
     ]
    }
   ],
   "source": [
    "# This Python 3 environment comes with many helpful analytics libraries installed\n",
    "# It is defined by the kaggle/python Docker image: https://github.com/kaggle/docker-python\n",
    "# For example, here's several helpful packages to load\n",
    "\n",
    "import numpy as np # linear algebra\n",
    "import pandas as pd # data processing, CSV file I/O (e.g. pd.read_csv)\n",
    "\n",
    "# Input data files are available in the read-only \"../input/\" directory\n",
    "# For example, running this (by clicking run or pressing Shift+Enter) will list all files under the input directory\n",
    "\n",
    "import os\n",
    "for dirname, _, filenames in os.walk('/kaggle/input'):\n",
    "    for filename in filenames:\n",
    "        print(os.path.join(dirname, filename))\n",
    "\n",
    "# You can write up to 20GB to the current directory (/kaggle/working/) that gets preserved as output when you create a version using \"Save & Run All\" \n",
    "# You can also write temporary files to /kaggle/temp/, but they won't be saved outside of the current session"
   ]
  },
  {
   "cell_type": "code",
   "execution_count": 2,
   "id": "smoking-peter",
   "metadata": {
    "execution": {
     "iopub.execute_input": "2021-07-04T08:05:02.700537Z",
     "iopub.status.busy": "2021-07-04T08:05:02.699826Z",
     "iopub.status.idle": "2021-07-04T08:05:09.742798Z",
     "shell.execute_reply": "2021-07-04T08:05:09.742252Z",
     "shell.execute_reply.started": "2021-07-04T07:52:30.477734Z"
    },
    "papermill": {
     "duration": 7.072918,
     "end_time": "2021-07-04T08:05:09.742961",
     "exception": false,
     "start_time": "2021-07-04T08:05:02.670043",
     "status": "completed"
    },
    "tags": []
   },
   "outputs": [],
   "source": [
    "import tensorflow as tf\n",
    "import pandas as pd\n",
    "import numpy as np\n",
    "import matplotlib.pyplot as plt\n",
    "import seaborn as sns\n",
    "from sklearn.model_selection import train_test_split\n",
    "from sklearn.preprocessing import MinMaxScaler, Normalizer\n",
    "from sklearn.decomposition import PCA as sklearnPCA\n",
    "\n",
    "# Supress unnecessary warnings so that presentation looks clean\n",
    "import warnings\n",
    "warnings.filterwarnings(\"ignore\")"
   ]
  },
  {
   "cell_type": "code",
   "execution_count": 3,
   "id": "starting-response",
   "metadata": {
    "execution": {
     "iopub.execute_input": "2021-07-04T08:05:09.798382Z",
     "iopub.status.busy": "2021-07-04T08:05:09.797717Z",
     "iopub.status.idle": "2021-07-04T08:05:09.799833Z",
     "shell.execute_reply": "2021-07-04T08:05:09.800426Z",
     "shell.execute_reply.started": "2021-07-04T07:49:28.066603Z"
    },
    "papermill": {
     "duration": 0.033057,
     "end_time": "2021-07-04T08:05:09.800604",
     "exception": false,
     "start_time": "2021-07-04T08:05:09.767547",
     "status": "completed"
    },
    "tags": []
   },
   "outputs": [],
   "source": [
    "import pandas  as pd\n",
    "import matplotlib.pyplot as plt\n",
    "import numpy as np\n",
    "\n",
    "%matplotlib inline"
   ]
  },
  {
   "cell_type": "code",
   "execution_count": 4,
   "id": "measured-tuning",
   "metadata": {
    "execution": {
     "iopub.execute_input": "2021-07-04T08:05:09.853501Z",
     "iopub.status.busy": "2021-07-04T08:05:09.852733Z",
     "iopub.status.idle": "2021-07-04T08:05:09.933928Z",
     "shell.execute_reply": "2021-07-04T08:05:09.934470Z",
     "shell.execute_reply.started": "2021-07-04T07:49:47.889932Z"
    },
    "papermill": {
     "duration": 0.109717,
     "end_time": "2021-07-04T08:05:09.934666",
     "exception": false,
     "start_time": "2021-07-04T08:05:09.824949",
     "status": "completed"
    },
    "tags": []
   },
   "outputs": [
    {
     "data": {
      "text/html": [
       "<div>\n",
       "<style scoped>\n",
       "    .dataframe tbody tr th:only-of-type {\n",
       "        vertical-align: middle;\n",
       "    }\n",
       "\n",
       "    .dataframe tbody tr th {\n",
       "        vertical-align: top;\n",
       "    }\n",
       "\n",
       "    .dataframe thead th {\n",
       "        text-align: right;\n",
       "    }\n",
       "</style>\n",
       "<table border=\"1\" class=\"dataframe\">\n",
       "  <thead>\n",
       "    <tr style=\"text-align: right;\">\n",
       "      <th></th>\n",
       "      <th>loc</th>\n",
       "      <th>v(g)</th>\n",
       "      <th>ev(g)</th>\n",
       "      <th>iv(g)</th>\n",
       "      <th>n</th>\n",
       "      <th>v</th>\n",
       "      <th>l</th>\n",
       "      <th>d</th>\n",
       "      <th>i</th>\n",
       "      <th>e</th>\n",
       "      <th>...</th>\n",
       "      <th>lOCode</th>\n",
       "      <th>lOComment</th>\n",
       "      <th>lOBlank</th>\n",
       "      <th>locCodeAndComment</th>\n",
       "      <th>uniq_Op</th>\n",
       "      <th>uniq_Opnd</th>\n",
       "      <th>total_Op</th>\n",
       "      <th>total_Opnd</th>\n",
       "      <th>branchCount</th>\n",
       "      <th>defects</th>\n",
       "    </tr>\n",
       "  </thead>\n",
       "  <tbody>\n",
       "    <tr>\n",
       "      <th>0</th>\n",
       "      <td>1.1</td>\n",
       "      <td>1.4</td>\n",
       "      <td>1.4</td>\n",
       "      <td>1.4</td>\n",
       "      <td>1.3</td>\n",
       "      <td>1.30</td>\n",
       "      <td>1.30</td>\n",
       "      <td>1.30</td>\n",
       "      <td>1.30</td>\n",
       "      <td>1.30</td>\n",
       "      <td>...</td>\n",
       "      <td>2</td>\n",
       "      <td>2</td>\n",
       "      <td>2</td>\n",
       "      <td>2</td>\n",
       "      <td>1.2</td>\n",
       "      <td>1.2</td>\n",
       "      <td>1.2</td>\n",
       "      <td>1.2</td>\n",
       "      <td>1.4</td>\n",
       "      <td>False</td>\n",
       "    </tr>\n",
       "    <tr>\n",
       "      <th>1</th>\n",
       "      <td>1.0</td>\n",
       "      <td>1.0</td>\n",
       "      <td>1.0</td>\n",
       "      <td>1.0</td>\n",
       "      <td>1.0</td>\n",
       "      <td>1.00</td>\n",
       "      <td>1.00</td>\n",
       "      <td>1.00</td>\n",
       "      <td>1.00</td>\n",
       "      <td>1.00</td>\n",
       "      <td>...</td>\n",
       "      <td>1</td>\n",
       "      <td>1</td>\n",
       "      <td>1</td>\n",
       "      <td>1</td>\n",
       "      <td>1.0</td>\n",
       "      <td>1.0</td>\n",
       "      <td>1.0</td>\n",
       "      <td>1.0</td>\n",
       "      <td>1.0</td>\n",
       "      <td>True</td>\n",
       "    </tr>\n",
       "    <tr>\n",
       "      <th>2</th>\n",
       "      <td>83.0</td>\n",
       "      <td>11.0</td>\n",
       "      <td>1.0</td>\n",
       "      <td>11.0</td>\n",
       "      <td>171.0</td>\n",
       "      <td>927.89</td>\n",
       "      <td>0.04</td>\n",
       "      <td>23.04</td>\n",
       "      <td>40.27</td>\n",
       "      <td>21378.61</td>\n",
       "      <td>...</td>\n",
       "      <td>65</td>\n",
       "      <td>10</td>\n",
       "      <td>6</td>\n",
       "      <td>0</td>\n",
       "      <td>18.0</td>\n",
       "      <td>25.0</td>\n",
       "      <td>107.0</td>\n",
       "      <td>64.0</td>\n",
       "      <td>21.0</td>\n",
       "      <td>True</td>\n",
       "    </tr>\n",
       "    <tr>\n",
       "      <th>3</th>\n",
       "      <td>46.0</td>\n",
       "      <td>8.0</td>\n",
       "      <td>6.0</td>\n",
       "      <td>8.0</td>\n",
       "      <td>141.0</td>\n",
       "      <td>769.78</td>\n",
       "      <td>0.07</td>\n",
       "      <td>14.86</td>\n",
       "      <td>51.81</td>\n",
       "      <td>11436.73</td>\n",
       "      <td>...</td>\n",
       "      <td>37</td>\n",
       "      <td>2</td>\n",
       "      <td>5</td>\n",
       "      <td>0</td>\n",
       "      <td>16.0</td>\n",
       "      <td>28.0</td>\n",
       "      <td>89.0</td>\n",
       "      <td>52.0</td>\n",
       "      <td>15.0</td>\n",
       "      <td>True</td>\n",
       "    </tr>\n",
       "    <tr>\n",
       "      <th>4</th>\n",
       "      <td>25.0</td>\n",
       "      <td>3.0</td>\n",
       "      <td>1.0</td>\n",
       "      <td>3.0</td>\n",
       "      <td>58.0</td>\n",
       "      <td>254.75</td>\n",
       "      <td>0.11</td>\n",
       "      <td>9.35</td>\n",
       "      <td>27.25</td>\n",
       "      <td>2381.95</td>\n",
       "      <td>...</td>\n",
       "      <td>21</td>\n",
       "      <td>0</td>\n",
       "      <td>2</td>\n",
       "      <td>0</td>\n",
       "      <td>11.0</td>\n",
       "      <td>10.0</td>\n",
       "      <td>41.0</td>\n",
       "      <td>17.0</td>\n",
       "      <td>5.0</td>\n",
       "      <td>True</td>\n",
       "    </tr>\n",
       "    <tr>\n",
       "      <th>5</th>\n",
       "      <td>43.0</td>\n",
       "      <td>3.0</td>\n",
       "      <td>1.0</td>\n",
       "      <td>3.0</td>\n",
       "      <td>115.0</td>\n",
       "      <td>569.73</td>\n",
       "      <td>0.09</td>\n",
       "      <td>11.27</td>\n",
       "      <td>50.53</td>\n",
       "      <td>6423.73</td>\n",
       "      <td>...</td>\n",
       "      <td>35</td>\n",
       "      <td>2</td>\n",
       "      <td>4</td>\n",
       "      <td>0</td>\n",
       "      <td>11.0</td>\n",
       "      <td>20.0</td>\n",
       "      <td>74.0</td>\n",
       "      <td>41.0</td>\n",
       "      <td>5.0</td>\n",
       "      <td>True</td>\n",
       "    </tr>\n",
       "  </tbody>\n",
       "</table>\n",
       "<p>6 rows × 22 columns</p>\n",
       "</div>"
      ],
      "text/plain": [
       "    loc  v(g)  ev(g)  iv(g)      n       v     l      d      i         e  ...  \\\n",
       "0   1.1   1.4    1.4    1.4    1.3    1.30  1.30   1.30   1.30      1.30  ...   \n",
       "1   1.0   1.0    1.0    1.0    1.0    1.00  1.00   1.00   1.00      1.00  ...   \n",
       "2  83.0  11.0    1.0   11.0  171.0  927.89  0.04  23.04  40.27  21378.61  ...   \n",
       "3  46.0   8.0    6.0    8.0  141.0  769.78  0.07  14.86  51.81  11436.73  ...   \n",
       "4  25.0   3.0    1.0    3.0   58.0  254.75  0.11   9.35  27.25   2381.95  ...   \n",
       "5  43.0   3.0    1.0    3.0  115.0  569.73  0.09  11.27  50.53   6423.73  ...   \n",
       "\n",
       "   lOCode  lOComment  lOBlank  locCodeAndComment  uniq_Op  uniq_Opnd  \\\n",
       "0       2          2        2                  2      1.2        1.2   \n",
       "1       1          1        1                  1      1.0        1.0   \n",
       "2      65         10        6                  0     18.0       25.0   \n",
       "3      37          2        5                  0     16.0       28.0   \n",
       "4      21          0        2                  0     11.0       10.0   \n",
       "5      35          2        4                  0     11.0       20.0   \n",
       "\n",
       "   total_Op  total_Opnd  branchCount  defects  \n",
       "0       1.2         1.2          1.4    False  \n",
       "1       1.0         1.0          1.0     True  \n",
       "2     107.0        64.0         21.0     True  \n",
       "3      89.0        52.0         15.0     True  \n",
       "4      41.0        17.0          5.0     True  \n",
       "5      74.0        41.0          5.0     True  \n",
       "\n",
       "[6 rows x 22 columns]"
      ]
     },
     "execution_count": 4,
     "metadata": {},
     "output_type": "execute_result"
    }
   ],
   "source": [
    "data = pd.read_csv('../input/kc1-csvsdmlp/kc1_csv.csv')\n",
    "df = pd.DataFrame(data)\n",
    "data.head(6)"
   ]
  },
  {
   "cell_type": "code",
   "execution_count": 5,
   "id": "blessed-syntax",
   "metadata": {
    "execution": {
     "iopub.execute_input": "2021-07-04T08:05:09.989059Z",
     "iopub.status.busy": "2021-07-04T08:05:09.988353Z",
     "iopub.status.idle": "2021-07-04T08:05:09.992893Z",
     "shell.execute_reply": "2021-07-04T08:05:09.993612Z",
     "shell.execute_reply.started": "2021-07-04T07:50:07.745675Z"
    },
    "papermill": {
     "duration": 0.033036,
     "end_time": "2021-07-04T08:05:09.993813",
     "exception": false,
     "start_time": "2021-07-04T08:05:09.960777",
     "status": "completed"
    },
    "tags": []
   },
   "outputs": [
    {
     "data": {
      "text/plain": [
       "(2109, 22)"
      ]
     },
     "execution_count": 5,
     "metadata": {},
     "output_type": "execute_result"
    }
   ],
   "source": [
    "df.shape"
   ]
  },
  {
   "cell_type": "code",
   "execution_count": 6,
   "id": "israeli-entity",
   "metadata": {
    "execution": {
     "iopub.execute_input": "2021-07-04T08:05:10.049027Z",
     "iopub.status.busy": "2021-07-04T08:05:10.048107Z",
     "iopub.status.idle": "2021-07-04T08:05:10.058684Z",
     "shell.execute_reply": "2021-07-04T08:05:10.059459Z",
     "shell.execute_reply.started": "2021-07-04T07:52:48.174843Z"
    },
    "papermill": {
     "duration": 0.039057,
     "end_time": "2021-07-04T08:05:10.059696",
     "exception": false,
     "start_time": "2021-07-04T08:05:10.020639",
     "status": "completed"
    },
    "tags": []
   },
   "outputs": [
    {
     "name": "stdout",
     "output_type": "stream",
     "text": [
      "Training Data : (1476, 22)\n",
      "Testing Data : (633, 22)\n"
     ]
    }
   ],
   "source": [
    "train,test = train_test_split(df, test_size=0.3, random_state=5)\n",
    "print(\"Training Data :\",train.shape)\n",
    "print(\"Testing Data :\",test.shape)"
   ]
  },
  {
   "cell_type": "code",
   "execution_count": 7,
   "id": "buried-singing",
   "metadata": {
    "execution": {
     "iopub.execute_input": "2021-07-04T08:05:10.113842Z",
     "iopub.status.busy": "2021-07-04T08:05:10.113203Z",
     "iopub.status.idle": "2021-07-04T08:05:10.119885Z",
     "shell.execute_reply": "2021-07-04T08:05:10.119333Z",
     "shell.execute_reply.started": "2021-07-04T07:53:05.539561Z"
    },
    "papermill": {
     "duration": 0.034658,
     "end_time": "2021-07-04T08:05:10.120076",
     "exception": false,
     "start_time": "2021-07-04T08:05:10.085418",
     "status": "completed"
    },
    "tags": []
   },
   "outputs": [
    {
     "name": "stdout",
     "output_type": "stream",
     "text": [
      "Training Data : (1476, 22)\n",
      "Testing Data : (633, 22)\n"
     ]
    }
   ],
   "source": [
    "train_data = train.iloc[:,:]\n",
    "test_data = test.iloc[:,:]\n",
    "\n",
    "print(\"Training Data :\",train_data.shape)\n",
    "print(\"Testing Data :\",test_data.shape)"
   ]
  },
  {
   "cell_type": "code",
   "execution_count": 8,
   "id": "lightweight-brick",
   "metadata": {
    "execution": {
     "iopub.execute_input": "2021-07-04T08:05:10.179493Z",
     "iopub.status.busy": "2021-07-04T08:05:10.178720Z",
     "iopub.status.idle": "2021-07-04T08:05:10.194627Z",
     "shell.execute_reply": "2021-07-04T08:05:10.193531Z",
     "shell.execute_reply.started": "2021-07-04T07:53:25.075415Z"
    },
    "papermill": {
     "duration": 0.049553,
     "end_time": "2021-07-04T08:05:10.194875",
     "exception": false,
     "start_time": "2021-07-04T08:05:10.145322",
     "status": "completed"
    },
    "tags": []
   },
   "outputs": [
    {
     "name": "stdout",
     "output_type": "stream",
     "text": [
      "Training Data : (1476, 21)\n",
      "Testing Data : (633, 21)\n"
     ]
    }
   ],
   "source": [
    "# Training Data\n",
    "train_x = train_data.iloc[:,:-1]\n",
    "train_x = MinMaxScaler().fit_transform(train_x)\n",
    "print(\"Training Data :\", train_x.shape)\n",
    "\n",
    "# Testing Data\n",
    "test_x = test_data.iloc[:,:-1]\n",
    "test_x = MinMaxScaler().fit_transform(test_x)\n",
    "print(\"Testing Data :\", test_x.shape)"
   ]
  },
  {
   "cell_type": "code",
   "execution_count": 9,
   "id": "saved-blind",
   "metadata": {
    "execution": {
     "iopub.execute_input": "2021-07-04T08:05:10.252967Z",
     "iopub.status.busy": "2021-07-04T08:05:10.252280Z",
     "iopub.status.idle": "2021-07-04T08:05:10.280520Z",
     "shell.execute_reply": "2021-07-04T08:05:10.279952Z",
     "shell.execute_reply.started": "2021-07-04T07:53:40.807075Z"
    },
    "papermill": {
     "duration": 0.059672,
     "end_time": "2021-07-04T08:05:10.280676",
     "exception": false,
     "start_time": "2021-07-04T08:05:10.221004",
     "status": "completed"
    },
    "tags": []
   },
   "outputs": [
    {
     "name": "stdout",
     "output_type": "stream",
     "text": [
      "Training Data : (1476, 1)\n",
      "Testing Data : (633, 1)\n"
     ]
    }
   ],
   "source": [
    "# Training Data\n",
    "train_y = train_data.iloc[:,-1:]\n",
    "train_y[train_y==False] = 0\n",
    "train_y[train_y==True] = 1\n",
    "print(\"Training Data :\", train_y.shape)\n",
    "\n",
    "# Testing Data\n",
    "test_y = test_data.iloc[:,-1:]\n",
    "test_y[test_y==False] = 0\n",
    "test_y[test_y==True] = 1\n",
    "print(\"Testing Data :\", test_y.shape)"
   ]
  },
  {
   "cell_type": "code",
   "execution_count": 10,
   "id": "suited-manufacturer",
   "metadata": {
    "execution": {
     "iopub.execute_input": "2021-07-04T08:05:10.337257Z",
     "iopub.status.busy": "2021-07-04T08:05:10.336194Z",
     "iopub.status.idle": "2021-07-04T08:05:10.341447Z",
     "shell.execute_reply": "2021-07-04T08:05:10.340902Z",
     "shell.execute_reply.started": "2021-07-04T07:54:30.285110Z"
    },
    "papermill": {
     "duration": 0.035658,
     "end_time": "2021-07-04T08:05:10.341591",
     "exception": false,
     "start_time": "2021-07-04T08:05:10.305933",
     "status": "completed"
    },
    "tags": []
   },
   "outputs": [
    {
     "data": {
      "text/plain": [
       "((1476, 21), (633, 21))"
      ]
     },
     "execution_count": 10,
     "metadata": {},
     "output_type": "execute_result"
    }
   ],
   "source": [
    "# check the shape of X_train and X_test\n",
    "\n",
    "train_x.shape, test_x.shape"
   ]
  },
  {
   "cell_type": "code",
   "execution_count": 11,
   "id": "joined-imagination",
   "metadata": {
    "execution": {
     "iopub.execute_input": "2021-07-04T08:05:10.399478Z",
     "iopub.status.busy": "2021-07-04T08:05:10.398730Z",
     "iopub.status.idle": "2021-07-04T08:05:10.412644Z",
     "shell.execute_reply": "2021-07-04T08:05:10.411934Z",
     "shell.execute_reply.started": "2021-07-04T07:55:17.179772Z"
    },
    "papermill": {
     "duration": 0.044928,
     "end_time": "2021-07-04T08:05:10.412803",
     "exception": false,
     "start_time": "2021-07-04T08:05:10.367875",
     "status": "completed"
    },
    "tags": []
   },
   "outputs": [],
   "source": [
    "from sklearn.preprocessing import RobustScaler\n",
    "\n",
    "scaler = RobustScaler()\n",
    "\n",
    "train_x = scaler.fit_transform(train_x)\n",
    "\n",
    "test_x = scaler.transform(test_x)"
   ]
  },
  {
   "cell_type": "code",
   "execution_count": 12,
   "id": "distributed-extension",
   "metadata": {
    "execution": {
     "iopub.execute_input": "2021-07-04T08:05:10.470558Z",
     "iopub.status.busy": "2021-07-04T08:05:10.469509Z",
     "iopub.status.idle": "2021-07-04T08:05:10.481906Z",
     "shell.execute_reply": "2021-07-04T08:05:10.481255Z",
     "shell.execute_reply.started": "2021-07-04T07:56:52.865535Z"
    },
    "papermill": {
     "duration": 0.043286,
     "end_time": "2021-07-04T08:05:10.482058",
     "exception": false,
     "start_time": "2021-07-04T08:05:10.438772",
     "status": "completed"
    },
    "tags": []
   },
   "outputs": [
    {
     "data": {
      "text/plain": [
       "GaussianNB()"
      ]
     },
     "execution_count": 12,
     "metadata": {},
     "output_type": "execute_result"
    }
   ],
   "source": [
    "# train a Gaussian Naive Bayes classifier on the training set\n",
    "from sklearn.naive_bayes import GaussianNB\n",
    "\n",
    "\n",
    "# instantiate the model\n",
    "gnb = GaussianNB()\n",
    "\n",
    "\n",
    "# fit the model\n",
    "gnb.fit(train_x, train_y)"
   ]
  },
  {
   "cell_type": "code",
   "execution_count": 13,
   "id": "massive-specific",
   "metadata": {
    "execution": {
     "iopub.execute_input": "2021-07-04T08:05:10.539364Z",
     "iopub.status.busy": "2021-07-04T08:05:10.538665Z",
     "iopub.status.idle": "2021-07-04T08:05:10.552409Z",
     "shell.execute_reply": "2021-07-04T08:05:10.551813Z",
     "shell.execute_reply.started": "2021-07-04T07:57:23.853737Z"
    },
    "papermill": {
     "duration": 0.044377,
     "end_time": "2021-07-04T08:05:10.552559",
     "exception": false,
     "start_time": "2021-07-04T08:05:10.508182",
     "status": "completed"
    },
    "tags": []
   },
   "outputs": [
    {
     "data": {
      "text/plain": [
       "array([1., 0., 0., 0., 1., 1., 0., 0., 1., 0., 0., 0., 0., 1., 1., 0., 0.,\n",
       "       0., 0., 0., 0., 0., 0., 0., 0., 0., 0., 1., 0., 0., 1., 0., 0., 0.,\n",
       "       0., 0., 0., 0., 0., 0., 1., 0., 1., 0., 0., 0., 0., 0., 0., 0., 0.,\n",
       "       0., 0., 0., 0., 0., 0., 0., 0., 0., 1., 0., 0., 0., 0., 0., 1., 1.,\n",
       "       1., 1., 0., 0., 0., 0., 0., 0., 0., 0., 0., 0., 0., 0., 0., 0., 1.,\n",
       "       0., 0., 0., 0., 0., 0., 0., 0., 0., 1., 0., 1., 0., 0., 0., 0., 0.,\n",
       "       0., 0., 0., 0., 0., 0., 0., 0., 0., 0., 0., 0., 1., 1., 0., 0., 0.,\n",
       "       1., 0., 0., 0., 0., 0., 0., 0., 0., 0., 0., 0., 0., 0., 0., 0., 0.,\n",
       "       0., 1., 0., 0., 0., 0., 1., 0., 0., 0., 0., 0., 0., 0., 0., 0., 0.,\n",
       "       0., 1., 0., 0., 0., 1., 0., 0., 0., 0., 0., 1., 0., 0., 0., 1., 0.,\n",
       "       0., 1., 0., 0., 1., 0., 1., 0., 0., 0., 0., 1., 0., 1., 0., 0., 0.,\n",
       "       0., 0., 1., 0., 0., 0., 0., 0., 0., 1., 0., 0., 1., 0., 0., 0., 0.,\n",
       "       0., 0., 0., 0., 0., 0., 0., 1., 1., 0., 1., 0., 0., 0., 0., 0., 0.,\n",
       "       0., 0., 1., 1., 0., 0., 0., 0., 0., 0., 0., 1., 1., 0., 0., 0., 1.,\n",
       "       0., 0., 0., 0., 0., 0., 0., 0., 0., 0., 0., 0., 0., 0., 0., 1., 0.,\n",
       "       0., 0., 0., 0., 0., 0., 0., 0., 0., 0., 0., 0., 1., 0., 0., 0., 0.,\n",
       "       0., 0., 0., 0., 0., 0., 1., 1., 0., 0., 0., 0., 0., 0., 0., 0., 0.,\n",
       "       0., 0., 0., 0., 0., 0., 0., 0., 0., 0., 0., 0., 0., 0., 0., 0., 0.,\n",
       "       0., 0., 1., 0., 0., 0., 0., 0., 0., 0., 0., 0., 0., 0., 0., 0., 0.,\n",
       "       0., 0., 0., 0., 1., 0., 0., 0., 0., 0., 0., 0., 0., 0., 0., 0., 0.,\n",
       "       0., 0., 0., 0., 0., 0., 0., 0., 0., 0., 1., 1., 0., 1., 0., 0., 1.,\n",
       "       0., 0., 0., 0., 1., 0., 0., 0., 0., 0., 1., 0., 0., 0., 0., 0., 0.,\n",
       "       0., 0., 0., 0., 0., 0., 1., 0., 0., 0., 0., 0., 0., 0., 0., 0., 1.,\n",
       "       0., 0., 0., 0., 1., 0., 0., 0., 0., 0., 0., 0., 0., 0., 1., 0., 0.,\n",
       "       1., 0., 0., 0., 1., 0., 1., 0., 0., 0., 0., 0., 0., 0., 0., 0., 0.,\n",
       "       0., 0., 0., 0., 0., 0., 0., 0., 0., 0., 1., 1., 0., 1., 0., 0., 0.,\n",
       "       0., 0., 0., 0., 1., 1., 0., 0., 0., 0., 0., 1., 0., 0., 0., 0., 0.,\n",
       "       0., 0., 0., 0., 0., 0., 0., 0., 0., 1., 0., 0., 0., 0., 0., 1., 0.,\n",
       "       0., 0., 0., 0., 0., 0., 0., 0., 0., 0., 1., 0., 0., 0., 0., 1., 0.,\n",
       "       0., 0., 1., 0., 0., 0., 1., 0., 0., 1., 1., 0., 0., 0., 0., 0., 0.,\n",
       "       0., 0., 0., 0., 0., 0., 0., 1., 0., 0., 0., 0., 0., 0., 1., 1., 1.,\n",
       "       0., 0., 0., 1., 0., 1., 0., 0., 0., 1., 0., 0., 1., 0., 0., 0., 0.,\n",
       "       0., 0., 0., 0., 0., 0., 0., 0., 1., 0., 0., 0., 0., 1., 0., 0., 0.,\n",
       "       0., 0., 0., 0., 0., 0., 0., 0., 0., 0., 0., 0., 1., 0., 0., 0., 0.,\n",
       "       0., 0., 0., 0., 0., 0., 0., 0., 0., 0., 0., 0., 0., 0., 1., 0., 0.,\n",
       "       1., 0., 0., 1., 0., 0., 0., 0., 0., 0., 0., 0., 0., 0., 0., 1., 0.,\n",
       "       0., 1., 0., 0., 0., 0., 0., 0., 1., 0., 0., 0., 0., 0., 0., 0., 0.,\n",
       "       0., 0., 0., 0.])"
      ]
     },
     "execution_count": 13,
     "metadata": {},
     "output_type": "execute_result"
    }
   ],
   "source": [
    "y_pred = gnb.predict(test_x)\n",
    "\n",
    "y_pred"
   ]
  },
  {
   "cell_type": "code",
   "execution_count": 14,
   "id": "raising-victor",
   "metadata": {
    "execution": {
     "iopub.execute_input": "2021-07-04T08:05:10.610356Z",
     "iopub.status.busy": "2021-07-04T08:05:10.609363Z",
     "iopub.status.idle": "2021-07-04T08:05:10.614862Z",
     "shell.execute_reply": "2021-07-04T08:05:10.615529Z",
     "shell.execute_reply.started": "2021-07-04T07:59:00.841490Z"
    },
    "papermill": {
     "duration": 0.036985,
     "end_time": "2021-07-04T08:05:10.615752",
     "exception": false,
     "start_time": "2021-07-04T08:05:10.578767",
     "status": "completed"
    },
    "tags": []
   },
   "outputs": [
    {
     "name": "stdout",
     "output_type": "stream",
     "text": [
      "Model accuracy score: 0.8215\n"
     ]
    }
   ],
   "source": [
    "from sklearn.metrics import accuracy_score\n",
    "\n",
    "print('Model accuracy score: {0:0.4f}'. format(accuracy_score(test_y, y_pred)))"
   ]
  },
  {
   "cell_type": "code",
   "execution_count": 15,
   "id": "inside-hollywood",
   "metadata": {
    "execution": {
     "iopub.execute_input": "2021-07-04T08:05:10.674854Z",
     "iopub.status.busy": "2021-07-04T08:05:10.673761Z",
     "iopub.status.idle": "2021-07-04T08:05:10.680129Z",
     "shell.execute_reply": "2021-07-04T08:05:10.679425Z",
     "shell.execute_reply.started": "2021-07-04T07:59:24.955392Z"
    },
    "papermill": {
     "duration": 0.037489,
     "end_time": "2021-07-04T08:05:10.680294",
     "exception": false,
     "start_time": "2021-07-04T08:05:10.642805",
     "status": "completed"
    },
    "tags": []
   },
   "outputs": [
    {
     "data": {
      "text/plain": [
       "array([0., 0., 0., ..., 0., 0., 0.])"
      ]
     },
     "execution_count": 15,
     "metadata": {},
     "output_type": "execute_result"
    }
   ],
   "source": [
    "y_pred_train = gnb.predict(train_x)\n",
    "\n",
    "y_pred_train"
   ]
  },
  {
   "cell_type": "code",
   "execution_count": 16,
   "id": "otherwise-desire",
   "metadata": {
    "execution": {
     "iopub.execute_input": "2021-07-04T08:05:10.739854Z",
     "iopub.status.busy": "2021-07-04T08:05:10.739200Z",
     "iopub.status.idle": "2021-07-04T08:05:10.745219Z",
     "shell.execute_reply": "2021-07-04T08:05:10.744107Z",
     "shell.execute_reply.started": "2021-07-04T07:59:43.819230Z"
    },
    "papermill": {
     "duration": 0.038007,
     "end_time": "2021-07-04T08:05:10.745470",
     "exception": false,
     "start_time": "2021-07-04T08:05:10.707463",
     "status": "completed"
    },
    "tags": []
   },
   "outputs": [
    {
     "name": "stdout",
     "output_type": "stream",
     "text": [
      "Training-set accuracy score: 0.8178\n"
     ]
    }
   ],
   "source": [
    "print('Training-set accuracy score: {0:0.4f}'. format(accuracy_score(train_y, y_pred_train)))"
   ]
  },
  {
   "cell_type": "code",
   "execution_count": 17,
   "id": "frozen-queens",
   "metadata": {
    "execution": {
     "iopub.execute_input": "2021-07-04T08:05:10.807857Z",
     "iopub.status.busy": "2021-07-04T08:05:10.807131Z",
     "iopub.status.idle": "2021-07-04T08:05:10.814394Z",
     "shell.execute_reply": "2021-07-04T08:05:10.814905Z",
     "shell.execute_reply.started": "2021-07-04T08:00:21.608342Z"
    },
    "papermill": {
     "duration": 0.040727,
     "end_time": "2021-07-04T08:05:10.815083",
     "exception": false,
     "start_time": "2021-07-04T08:05:10.774356",
     "status": "completed"
    },
    "tags": []
   },
   "outputs": [
    {
     "name": "stdout",
     "output_type": "stream",
     "text": [
      "Training set score: 0.8178\n",
      "Test set score: 0.8215\n"
     ]
    }
   ],
   "source": [
    "# print the scores on training and test set\n",
    "\n",
    "print('Training set score: {:.4f}'.format(gnb.score(train_x, train_y)))\n",
    "\n",
    "print('Test set score: {:.4f}'.format(gnb.score(test_x, test_y)))"
   ]
  },
  {
   "cell_type": "code",
   "execution_count": 18,
   "id": "executive-commitment",
   "metadata": {
    "execution": {
     "iopub.execute_input": "2021-07-04T08:05:10.881262Z",
     "iopub.status.busy": "2021-07-04T08:05:10.880522Z",
     "iopub.status.idle": "2021-07-04T08:05:10.884291Z",
     "shell.execute_reply": "2021-07-04T08:05:10.884823Z",
     "shell.execute_reply.started": "2021-07-04T08:00:48.538540Z"
    },
    "papermill": {
     "duration": 0.042231,
     "end_time": "2021-07-04T08:05:10.885021",
     "exception": false,
     "start_time": "2021-07-04T08:05:10.842790",
     "status": "completed"
    },
    "tags": []
   },
   "outputs": [
    {
     "data": {
      "text/plain": [
       "defects\n",
       "0.0        545\n",
       "1.0         88\n",
       "dtype: int64"
      ]
     },
     "execution_count": 18,
     "metadata": {},
     "output_type": "execute_result"
    }
   ],
   "source": [
    "# check class distribution in test set\n",
    "\n",
    "test_y.value_counts()"
   ]
  },
  {
   "cell_type": "code",
   "execution_count": 19,
   "id": "valid-desperate",
   "metadata": {
    "execution": {
     "iopub.execute_input": "2021-07-04T08:05:10.950029Z",
     "iopub.status.busy": "2021-07-04T08:05:10.948987Z",
     "iopub.status.idle": "2021-07-04T08:05:10.953837Z",
     "shell.execute_reply": "2021-07-04T08:05:10.953277Z",
     "shell.execute_reply.started": "2021-07-04T08:01:25.199467Z"
    },
    "papermill": {
     "duration": 0.038272,
     "end_time": "2021-07-04T08:05:10.953982",
     "exception": false,
     "start_time": "2021-07-04T08:05:10.915710",
     "status": "completed"
    },
    "tags": []
   },
   "outputs": [
    {
     "name": "stdout",
     "output_type": "stream",
     "text": [
      "Null accuracy score: 0.7582\n"
     ]
    }
   ],
   "source": [
    "# check null accuracy score\n",
    "\n",
    "null_accuracy = (7407/(7407+2362))\n",
    "\n",
    "print('Null accuracy score: {0:0.4f}'. format(null_accuracy))"
   ]
  },
  {
   "cell_type": "code",
   "execution_count": 20,
   "id": "happy-tender",
   "metadata": {
    "execution": {
     "iopub.execute_input": "2021-07-04T08:05:11.018045Z",
     "iopub.status.busy": "2021-07-04T08:05:11.017350Z",
     "iopub.status.idle": "2021-07-04T08:05:11.027954Z",
     "shell.execute_reply": "2021-07-04T08:05:11.027362Z",
     "shell.execute_reply.started": "2021-07-04T08:02:07.001319Z"
    },
    "papermill": {
     "duration": 0.045826,
     "end_time": "2021-07-04T08:05:11.028128",
     "exception": false,
     "start_time": "2021-07-04T08:05:10.982302",
     "status": "completed"
    },
    "tags": []
   },
   "outputs": [
    {
     "name": "stdout",
     "output_type": "stream",
     "text": [
      "Confusion matrix\n",
      "\n",
      " [[486  59]\n",
      " [ 54  34]]\n",
      "\n",
      "True Positives(TP) =  486\n",
      "\n",
      "True Negatives(TN) =  34\n",
      "\n",
      "False Positives(FP) =  59\n",
      "\n",
      "False Negatives(FN) =  54\n"
     ]
    }
   ],
   "source": [
    "# Print the Confusion Matrix and slice it into four pieces\n",
    "\n",
    "from sklearn.metrics import confusion_matrix\n",
    "\n",
    "cm = confusion_matrix(test_y, y_pred)\n",
    "\n",
    "print('Confusion matrix\\n\\n', cm)\n",
    "\n",
    "print('\\nTrue Positives(TP) = ', cm[0,0])\n",
    "\n",
    "print('\\nTrue Negatives(TN) = ', cm[1,1])\n",
    "\n",
    "print('\\nFalse Positives(FP) = ', cm[0,1])\n",
    "\n",
    "print('\\nFalse Negatives(FN) = ', cm[1,0])"
   ]
  },
  {
   "cell_type": "code",
   "execution_count": 21,
   "id": "collaborative-ensemble",
   "metadata": {
    "execution": {
     "iopub.execute_input": "2021-07-04T08:05:11.112331Z",
     "iopub.status.busy": "2021-07-04T08:05:11.111464Z",
     "iopub.status.idle": "2021-07-04T08:05:11.358158Z",
     "shell.execute_reply": "2021-07-04T08:05:11.357605Z",
     "shell.execute_reply.started": "2021-07-04T08:02:25.875815Z"
    },
    "papermill": {
     "duration": 0.300882,
     "end_time": "2021-07-04T08:05:11.358314",
     "exception": false,
     "start_time": "2021-07-04T08:05:11.057432",
     "status": "completed"
    },
    "tags": []
   },
   "outputs": [
    {
     "data": {
      "text/plain": [
       "<AxesSubplot:>"
      ]
     },
     "execution_count": 21,
     "metadata": {},
     "output_type": "execute_result"
    },
    {
     "data": {
      "image/png": "[encoded data removed]",
      "text/plain": [
       "<Figure size 432x288 with 2 Axes>"
      ]
     },
     "metadata": {
      "needs_background": "light"
     },
     "output_type": "display_data"
    }
   ],
   "source": [
    "# visualize confusion matrix with seaborn heatmap\n",
    "\n",
    "cm_matrix = pd.DataFrame(data=cm, columns=['Actual Positive:1', 'Actual Negative:0'], \n",
    "                                 index=['Predict Positive:1', 'Predict Negative:0'])\n",
    "\n",
    "sns.heatmap(cm_matrix, annot=True, fmt='d', cmap='YlGnBu')"
   ]
  },
  {
   "cell_type": "code",
   "execution_count": 22,
   "id": "stupid-rental",
   "metadata": {
    "execution": {
     "iopub.execute_input": "2021-07-04T08:05:11.426696Z",
     "iopub.status.busy": "2021-07-04T08:05:11.425960Z",
     "iopub.status.idle": "2021-07-04T08:05:11.437921Z",
     "shell.execute_reply": "2021-07-04T08:05:11.437031Z",
     "shell.execute_reply.started": "2021-07-04T08:02:48.136806Z"
    },
    "papermill": {
     "duration": 0.049877,
     "end_time": "2021-07-04T08:05:11.438239",
     "exception": false,
     "start_time": "2021-07-04T08:05:11.388362",
     "status": "completed"
    },
    "tags": []
   },
   "outputs": [
    {
     "name": "stdout",
     "output_type": "stream",
     "text": [
      "              precision    recall  f1-score   support\n",
      "\n",
      "         0.0       0.90      0.89      0.90       545\n",
      "         1.0       0.37      0.39      0.38        88\n",
      "\n",
      "    accuracy                           0.82       633\n",
      "   macro avg       0.63      0.64      0.64       633\n",
      "weighted avg       0.83      0.82      0.82       633\n",
      "\n"
     ]
    }
   ],
   "source": [
    "from sklearn.metrics import classification_report\n",
    "\n",
    "print(classification_report(test_y, y_pred))"
   ]
  },
  {
   "cell_type": "code",
   "execution_count": 23,
   "id": "accompanied-homeless",
   "metadata": {
    "execution": {
     "iopub.execute_input": "2021-07-04T08:05:11.504813Z",
     "iopub.status.busy": "2021-07-04T08:05:11.503836Z",
     "iopub.status.idle": "2021-07-04T08:05:11.507442Z",
     "shell.execute_reply": "2021-07-04T08:05:11.506859Z",
     "shell.execute_reply.started": "2021-07-04T08:03:28.422693Z"
    },
    "papermill": {
     "duration": 0.038594,
     "end_time": "2021-07-04T08:05:11.507594",
     "exception": false,
     "start_time": "2021-07-04T08:05:11.469000",
     "status": "completed"
    },
    "tags": []
   },
   "outputs": [],
   "source": [
    "TP = cm[0,0]\n",
    "TN = cm[1,1]\n",
    "FP = cm[0,1]\n",
    "FN = cm[1,0]"
   ]
  },
  {
   "cell_type": "code",
   "execution_count": 24,
   "id": "utility-phone",
   "metadata": {
    "execution": {
     "iopub.execute_input": "2021-07-04T08:05:11.574444Z",
     "iopub.status.busy": "2021-07-04T08:05:11.573506Z",
     "iopub.status.idle": "2021-07-04T08:05:11.578230Z",
     "shell.execute_reply": "2021-07-04T08:05:11.577338Z",
     "shell.execute_reply.started": "2021-07-04T08:03:31.809733Z"
    },
    "papermill": {
     "duration": 0.040645,
     "end_time": "2021-07-04T08:05:11.578420",
     "exception": false,
     "start_time": "2021-07-04T08:05:11.537775",
     "status": "completed"
    },
    "tags": []
   },
   "outputs": [
    {
     "name": "stdout",
     "output_type": "stream",
     "text": [
      "Classification accuracy : 0.8215\n"
     ]
    }
   ],
   "source": [
    "# print classification accuracy\n",
    "\n",
    "classification_accuracy = (TP + TN) / float(TP + TN + FP + FN)\n",
    "\n",
    "print('Classification accuracy : {0:0.4f}'.format(classification_accuracy))"
   ]
  },
  {
   "cell_type": "code",
   "execution_count": 25,
   "id": "modular-contemporary",
   "metadata": {
    "execution": {
     "iopub.execute_input": "2021-07-04T08:05:11.647323Z",
     "iopub.status.busy": "2021-07-04T08:05:11.646484Z",
     "iopub.status.idle": "2021-07-04T08:05:11.649812Z",
     "shell.execute_reply": "2021-07-04T08:05:11.650431Z",
     "shell.execute_reply.started": "2021-07-04T08:03:49.662789Z"
    },
    "papermill": {
     "duration": 0.040079,
     "end_time": "2021-07-04T08:05:11.650606",
     "exception": false,
     "start_time": "2021-07-04T08:05:11.610527",
     "status": "completed"
    },
    "tags": []
   },
   "outputs": [
    {
     "name": "stdout",
     "output_type": "stream",
     "text": [
      "Classification error : 0.1785\n"
     ]
    }
   ],
   "source": [
    "# print classification error\n",
    "\n",
    "classification_error = (FP + FN) / float(TP + TN + FP + FN)\n",
    "\n",
    "print('Classification error : {0:0.4f}'.format(classification_error))"
   ]
  },
  {
   "cell_type": "code",
   "execution_count": 26,
   "id": "illegal-daughter",
   "metadata": {
    "execution": {
     "iopub.execute_input": "2021-07-04T08:05:11.717431Z",
     "iopub.status.busy": "2021-07-04T08:05:11.716584Z",
     "iopub.status.idle": "2021-07-04T08:05:11.719697Z",
     "shell.execute_reply": "2021-07-04T08:05:11.720361Z",
     "shell.execute_reply.started": "2021-07-04T08:04:05.656613Z"
    },
    "papermill": {
     "duration": 0.039264,
     "end_time": "2021-07-04T08:05:11.720552",
     "exception": false,
     "start_time": "2021-07-04T08:05:11.681288",
     "status": "completed"
    },
    "tags": []
   },
   "outputs": [
    {
     "name": "stdout",
     "output_type": "stream",
     "text": [
      "Precision : 0.8917\n"
     ]
    }
   ],
   "source": [
    "# print precision score\n",
    "\n",
    "precision = TP / float(TP + FP)\n",
    "\n",
    "\n",
    "print('Precision : {0:0.4f}'.format(precision))"
   ]
  },
  {
   "cell_type": "code",
   "execution_count": 27,
   "id": "peaceful-typing",
   "metadata": {
    "execution": {
     "iopub.execute_input": "2021-07-04T08:05:11.789801Z",
     "iopub.status.busy": "2021-07-04T08:05:11.788965Z",
     "iopub.status.idle": "2021-07-04T08:05:11.791898Z",
     "shell.execute_reply": "2021-07-04T08:05:11.792426Z",
     "shell.execute_reply.started": "2021-07-04T08:04:25.147155Z"
    },
    "papermill": {
     "duration": 0.039802,
     "end_time": "2021-07-04T08:05:11.792599",
     "exception": false,
     "start_time": "2021-07-04T08:05:11.752797",
     "status": "completed"
    },
    "tags": []
   },
   "outputs": [
    {
     "name": "stdout",
     "output_type": "stream",
     "text": [
      "Recall or Sensitivity : 0.9000\n"
     ]
    }
   ],
   "source": [
    "recall = TP / float(TP + FN)\n",
    "\n",
    "print('Recall or Sensitivity : {0:0.4f}'.format(recall))"
   ]
  },
  {
   "cell_type": "code",
   "execution_count": null,
   "id": "laughing-warren",
   "metadata": {
    "papermill": {
     "duration": 0.031138,
     "end_time": "2021-07-04T08:05:11.855069",
     "exception": false,
     "start_time": "2021-07-04T08:05:11.823931",
     "status": "completed"
    },
    "tags": []
   },
   "outputs": [],
   "source": []
  }
 ],
 "metadata": {
  "kernelspec": {
   "display_name": "Python 3",
   "language": "python",
   "name": "python3"
  },
  "language_info": {
   "codemirror_mode": {
    "name": "ipython",
    "version": 3
   },
   "file_extension": ".py",
   "mimetype": "text/x-python",
   "name": "python",
   "nbconvert_exporter": "python",
   "pygments_lexer": "ipython3",
   "version": "3.7.9"
  },
  "papermill": {
   "default_parameters": {},
   "duration": 17.898801,
   "end_time": "2021-07-04T08:05:13.947871",
   "environment_variables": {},
   "exception": null,
   "input_path": "__notebook__.ipynb",
   "output_path": "__notebook__.ipynb",
   "parameters": {},
   "start_time": "2021-07-04T08:04:56.049070",
   "version": "2.3.2"
  }
 },
 "nbformat": 4,
 "nbformat_minor": 5
}
