{
 "cells": [
  {
   "cell_type": "code",
   "execution_count": 1,
   "id": "collect-senator",
   "metadata": {
    "_cell_guid": "b1076dfc-b9ad-4769-8c92-a6c4dae69d19",
    "_uuid": "8f2839f25d086af736a60e9eeb907d3b93b6e0e5",
    "execution": {
     "iopub.execute_input": "2021-07-05T06:46:11.762527Z",
     "iopub.status.busy": "2021-07-05T06:46:11.761992Z",
     "iopub.status.idle": "2021-07-05T06:46:11.777210Z",
     "shell.execute_reply": "2021-07-05T06:46:11.777611Z",
     "shell.execute_reply.started": "2021-07-05T06:43:28.638276Z"
    },
    "papermill": {
     "duration": 0.035581,
     "end_time": "2021-07-05T06:46:11.777913",
     "exception": false,
     "start_time": "2021-07-05T06:46:11.742332",
     "status": "completed"
    },
    "tags": []
   },
   "outputs": [
    {
     "name": "stdout",
     "output_type": "stream",
     "text": [
      "/kaggle/input/kc1-csvsdmlp/kc1_csv.csv\n"
     ]
    }
   ],
   "source": [
    "# This Python 3 environment comes with many helpful analytics libraries installed\n",
    "# It is defined by the kaggle/python Docker image: https://github.com/kaggle/docker-python\n",
    "# For example, here's several helpful packages to load\n",
    "\n",
    "import numpy as np # linear algebra\n",
    "import pandas as pd # data processing, CSV file I/O (e.g. pd.read_csv)\n",
    "\n",
    "# Input data files are available in the read-only \"../input/\" directory\n",
    "# For example, running this (by clicking run or pressing Shift+Enter) will list all files under the input directory\n",
    "\n",
    "import os\n",
    "for dirname, _, filenames in os.walk('/kaggle/input'):\n",
    "    for filename in filenames:\n",
    "        print(os.path.join(dirname, filename))\n",
    "\n",
    "# You can write up to 20GB to the current directory (/kaggle/working/) that gets preserved as output when you create a version using \"Save & Run All\" \n",
    "# You can also write temporary files to /kaggle/temp/, but they won't be saved outside of the current session"
   ]
  },
  {
   "cell_type": "code",
   "execution_count": 2,
   "id": "normal-stadium",
   "metadata": {
    "execution": {
     "iopub.execute_input": "2021-07-05T06:46:11.804312Z",
     "iopub.status.busy": "2021-07-05T06:46:11.803761Z",
     "iopub.status.idle": "2021-07-05T06:46:17.523683Z",
     "shell.execute_reply": "2021-07-05T06:46:17.522815Z",
     "shell.execute_reply.started": "2021-07-05T06:44:16.940373Z"
    },
    "papermill": {
     "duration": 5.734742,
     "end_time": "2021-07-05T06:46:17.523817",
     "exception": false,
     "start_time": "2021-07-05T06:46:11.789075",
     "status": "completed"
    },
    "tags": []
   },
   "outputs": [],
   "source": [
    "import tensorflow as tf\n",
    "import pandas as pd\n",
    "import numpy as np\n",
    "import matplotlib.pyplot as plt\n",
    "import seaborn as sns\n",
    "from sklearn.model_selection import train_test_split\n",
    "from sklearn.preprocessing import MinMaxScaler, Normalizer\n",
    "from sklearn.decomposition import PCA as sklearnPCA\n",
    "\n",
    "# Supress unnecessary warnings so that presentation looks clean\n",
    "import warnings\n",
    "warnings.filterwarnings(\"ignore\")"
   ]
  },
  {
   "cell_type": "code",
   "execution_count": 3,
   "id": "cultural-tactics",
   "metadata": {
    "execution": {
     "iopub.execute_input": "2021-07-05T06:46:17.550534Z",
     "iopub.status.busy": "2021-07-05T06:46:17.550010Z",
     "iopub.status.idle": "2021-07-05T06:46:17.551606Z",
     "shell.execute_reply": "2021-07-05T06:46:17.552037Z",
     "shell.execute_reply.started": "2021-07-05T06:44:25.635056Z"
    },
    "papermill": {
     "duration": 0.017803,
     "end_time": "2021-07-05T06:46:17.552188",
     "exception": false,
     "start_time": "2021-07-05T06:46:17.534385",
     "status": "completed"
    },
    "tags": []
   },
   "outputs": [],
   "source": [
    "import pandas  as pd\n",
    "import matplotlib.pyplot as plt\n",
    "import numpy as np\n",
    "\n",
    "%matplotlib inline"
   ]
  },
  {
   "cell_type": "code",
   "execution_count": 4,
   "id": "monthly-search",
   "metadata": {
    "execution": {
     "iopub.execute_input": "2021-07-05T06:46:17.575613Z",
     "iopub.status.busy": "2021-07-05T06:46:17.575102Z",
     "iopub.status.idle": "2021-07-05T06:46:17.639089Z",
     "shell.execute_reply": "2021-07-05T06:46:17.638619Z",
     "shell.execute_reply.started": "2021-07-05T06:44:33.618136Z"
    },
    "papermill": {
     "duration": 0.076689,
     "end_time": "2021-07-05T06:46:17.639221",
     "exception": false,
     "start_time": "2021-07-05T06:46:17.562532",
     "status": "completed"
    },
    "tags": []
   },
   "outputs": [
    {
     "data": {
      "text/html": [
       "<div>\n",
       "<style scoped>\n",
       "    .dataframe tbody tr th:only-of-type {\n",
       "        vertical-align: middle;\n",
       "    }\n",
       "\n",
       "    .dataframe tbody tr th {\n",
       "        vertical-align: top;\n",
       "    }\n",
       "\n",
       "    .dataframe thead th {\n",
       "        text-align: right;\n",
       "    }\n",
       "</style>\n",
       "<table border=\"1\" class=\"dataframe\">\n",
       "  <thead>\n",
       "    <tr style=\"text-align: right;\">\n",
       "      <th></th>\n",
       "      <th>loc</th>\n",
       "      <th>v(g)</th>\n",
       "      <th>ev(g)</th>\n",
       "      <th>iv(g)</th>\n",
       "      <th>n</th>\n",
       "      <th>v</th>\n",
       "      <th>l</th>\n",
       "      <th>d</th>\n",
       "      <th>i</th>\n",
       "      <th>e</th>\n",
       "      <th>...</th>\n",
       "      <th>lOCode</th>\n",
       "      <th>lOComment</th>\n",
       "      <th>lOBlank</th>\n",
       "      <th>locCodeAndComment</th>\n",
       "      <th>uniq_Op</th>\n",
       "      <th>uniq_Opnd</th>\n",
       "      <th>total_Op</th>\n",
       "      <th>total_Opnd</th>\n",
       "      <th>branchCount</th>\n",
       "      <th>defects</th>\n",
       "    </tr>\n",
       "  </thead>\n",
       "  <tbody>\n",
       "    <tr>\n",
       "      <th>0</th>\n",
       "      <td>1.1</td>\n",
       "      <td>1.4</td>\n",
       "      <td>1.4</td>\n",
       "      <td>1.4</td>\n",
       "      <td>1.3</td>\n",
       "      <td>1.30</td>\n",
       "      <td>1.30</td>\n",
       "      <td>1.30</td>\n",
       "      <td>1.30</td>\n",
       "      <td>1.30</td>\n",
       "      <td>...</td>\n",
       "      <td>2</td>\n",
       "      <td>2</td>\n",
       "      <td>2</td>\n",
       "      <td>2</td>\n",
       "      <td>1.2</td>\n",
       "      <td>1.2</td>\n",
       "      <td>1.2</td>\n",
       "      <td>1.2</td>\n",
       "      <td>1.4</td>\n",
       "      <td>False</td>\n",
       "    </tr>\n",
       "    <tr>\n",
       "      <th>1</th>\n",
       "      <td>1.0</td>\n",
       "      <td>1.0</td>\n",
       "      <td>1.0</td>\n",
       "      <td>1.0</td>\n",
       "      <td>1.0</td>\n",
       "      <td>1.00</td>\n",
       "      <td>1.00</td>\n",
       "      <td>1.00</td>\n",
       "      <td>1.00</td>\n",
       "      <td>1.00</td>\n",
       "      <td>...</td>\n",
       "      <td>1</td>\n",
       "      <td>1</td>\n",
       "      <td>1</td>\n",
       "      <td>1</td>\n",
       "      <td>1.0</td>\n",
       "      <td>1.0</td>\n",
       "      <td>1.0</td>\n",
       "      <td>1.0</td>\n",
       "      <td>1.0</td>\n",
       "      <td>True</td>\n",
       "    </tr>\n",
       "    <tr>\n",
       "      <th>2</th>\n",
       "      <td>83.0</td>\n",
       "      <td>11.0</td>\n",
       "      <td>1.0</td>\n",
       "      <td>11.0</td>\n",
       "      <td>171.0</td>\n",
       "      <td>927.89</td>\n",
       "      <td>0.04</td>\n",
       "      <td>23.04</td>\n",
       "      <td>40.27</td>\n",
       "      <td>21378.61</td>\n",
       "      <td>...</td>\n",
       "      <td>65</td>\n",
       "      <td>10</td>\n",
       "      <td>6</td>\n",
       "      <td>0</td>\n",
       "      <td>18.0</td>\n",
       "      <td>25.0</td>\n",
       "      <td>107.0</td>\n",
       "      <td>64.0</td>\n",
       "      <td>21.0</td>\n",
       "      <td>True</td>\n",
       "    </tr>\n",
       "    <tr>\n",
       "      <th>3</th>\n",
       "      <td>46.0</td>\n",
       "      <td>8.0</td>\n",
       "      <td>6.0</td>\n",
       "      <td>8.0</td>\n",
       "      <td>141.0</td>\n",
       "      <td>769.78</td>\n",
       "      <td>0.07</td>\n",
       "      <td>14.86</td>\n",
       "      <td>51.81</td>\n",
       "      <td>11436.73</td>\n",
       "      <td>...</td>\n",
       "      <td>37</td>\n",
       "      <td>2</td>\n",
       "      <td>5</td>\n",
       "      <td>0</td>\n",
       "      <td>16.0</td>\n",
       "      <td>28.0</td>\n",
       "      <td>89.0</td>\n",
       "      <td>52.0</td>\n",
       "      <td>15.0</td>\n",
       "      <td>True</td>\n",
       "    </tr>\n",
       "    <tr>\n",
       "      <th>4</th>\n",
       "      <td>25.0</td>\n",
       "      <td>3.0</td>\n",
       "      <td>1.0</td>\n",
       "      <td>3.0</td>\n",
       "      <td>58.0</td>\n",
       "      <td>254.75</td>\n",
       "      <td>0.11</td>\n",
       "      <td>9.35</td>\n",
       "      <td>27.25</td>\n",
       "      <td>2381.95</td>\n",
       "      <td>...</td>\n",
       "      <td>21</td>\n",
       "      <td>0</td>\n",
       "      <td>2</td>\n",
       "      <td>0</td>\n",
       "      <td>11.0</td>\n",
       "      <td>10.0</td>\n",
       "      <td>41.0</td>\n",
       "      <td>17.0</td>\n",
       "      <td>5.0</td>\n",
       "      <td>True</td>\n",
       "    </tr>\n",
       "    <tr>\n",
       "      <th>5</th>\n",
       "      <td>43.0</td>\n",
       "      <td>3.0</td>\n",
       "      <td>1.0</td>\n",
       "      <td>3.0</td>\n",
       "      <td>115.0</td>\n",
       "      <td>569.73</td>\n",
       "      <td>0.09</td>\n",
       "      <td>11.27</td>\n",
       "      <td>50.53</td>\n",
       "      <td>6423.73</td>\n",
       "      <td>...</td>\n",
       "      <td>35</td>\n",
       "      <td>2</td>\n",
       "      <td>4</td>\n",
       "      <td>0</td>\n",
       "      <td>11.0</td>\n",
       "      <td>20.0</td>\n",
       "      <td>74.0</td>\n",
       "      <td>41.0</td>\n",
       "      <td>5.0</td>\n",
       "      <td>True</td>\n",
       "    </tr>\n",
       "  </tbody>\n",
       "</table>\n",
       "<p>6 rows × 22 columns</p>\n",
       "</div>"
      ],
      "text/plain": [
       "    loc  v(g)  ev(g)  iv(g)      n       v     l      d      i         e  ...  \\\n",
       "0   1.1   1.4    1.4    1.4    1.3    1.30  1.30   1.30   1.30      1.30  ...   \n",
       "1   1.0   1.0    1.0    1.0    1.0    1.00  1.00   1.00   1.00      1.00  ...   \n",
       "2  83.0  11.0    1.0   11.0  171.0  927.89  0.04  23.04  40.27  21378.61  ...   \n",
       "3  46.0   8.0    6.0    8.0  141.0  769.78  0.07  14.86  51.81  11436.73  ...   \n",
       "4  25.0   3.0    1.0    3.0   58.0  254.75  0.11   9.35  27.25   2381.95  ...   \n",
       "5  43.0   3.0    1.0    3.0  115.0  569.73  0.09  11.27  50.53   6423.73  ...   \n",
       "\n",
       "   lOCode  lOComment  lOBlank  locCodeAndComment  uniq_Op  uniq_Opnd  \\\n",
       "0       2          2        2                  2      1.2        1.2   \n",
       "1       1          1        1                  1      1.0        1.0   \n",
       "2      65         10        6                  0     18.0       25.0   \n",
       "3      37          2        5                  0     16.0       28.0   \n",
       "4      21          0        2                  0     11.0       10.0   \n",
       "5      35          2        4                  0     11.0       20.0   \n",
       "\n",
       "   total_Op  total_Opnd  branchCount  defects  \n",
       "0       1.2         1.2          1.4    False  \n",
       "1       1.0         1.0          1.0     True  \n",
       "2     107.0        64.0         21.0     True  \n",
       "3      89.0        52.0         15.0     True  \n",
       "4      41.0        17.0          5.0     True  \n",
       "5      74.0        41.0          5.0     True  \n",
       "\n",
       "[6 rows x 22 columns]"
      ]
     },
     "execution_count": 4,
     "metadata": {},
     "output_type": "execute_result"
    }
   ],
   "source": [
    "data = pd.read_csv('../input/kc1-csvsdmlp/kc1_csv.csv')\n",
    "df = pd.DataFrame(data)\n",
    "data.head(6)"
   ]
  },
  {
   "cell_type": "code",
   "execution_count": 5,
   "id": "looking-warehouse",
   "metadata": {
    "execution": {
     "iopub.execute_input": "2021-07-05T06:46:17.687234Z",
     "iopub.status.busy": "2021-07-05T06:46:17.686622Z",
     "iopub.status.idle": "2021-07-05T06:46:17.690514Z",
     "shell.execute_reply": "2021-07-05T06:46:17.690083Z",
     "shell.execute_reply.started": "2021-07-05T06:44:37.661871Z"
    },
    "papermill": {
     "duration": 0.040333,
     "end_time": "2021-07-05T06:46:17.690651",
     "exception": false,
     "start_time": "2021-07-05T06:46:17.650318",
     "status": "completed"
    },
    "tags": []
   },
   "outputs": [
    {
     "data": {
      "text/html": [
       "<div>\n",
       "<style scoped>\n",
       "    .dataframe tbody tr th:only-of-type {\n",
       "        vertical-align: middle;\n",
       "    }\n",
       "\n",
       "    .dataframe tbody tr th {\n",
       "        vertical-align: top;\n",
       "    }\n",
       "\n",
       "    .dataframe thead th {\n",
       "        text-align: right;\n",
       "    }\n",
       "</style>\n",
       "<table border=\"1\" class=\"dataframe\">\n",
       "  <thead>\n",
       "    <tr style=\"text-align: right;\">\n",
       "      <th></th>\n",
       "      <th>loc</th>\n",
       "      <th>v(g)</th>\n",
       "      <th>ev(g)</th>\n",
       "      <th>iv(g)</th>\n",
       "      <th>n</th>\n",
       "      <th>v</th>\n",
       "      <th>l</th>\n",
       "      <th>d</th>\n",
       "      <th>i</th>\n",
       "      <th>e</th>\n",
       "      <th>...</th>\n",
       "      <th>t</th>\n",
       "      <th>lOCode</th>\n",
       "      <th>lOComment</th>\n",
       "      <th>lOBlank</th>\n",
       "      <th>locCodeAndComment</th>\n",
       "      <th>uniq_Op</th>\n",
       "      <th>uniq_Opnd</th>\n",
       "      <th>total_Op</th>\n",
       "      <th>total_Opnd</th>\n",
       "      <th>branchCount</th>\n",
       "    </tr>\n",
       "  </thead>\n",
       "  <tbody>\n",
       "    <tr>\n",
       "      <th>0</th>\n",
       "      <td>1.1</td>\n",
       "      <td>1.4</td>\n",
       "      <td>1.4</td>\n",
       "      <td>1.4</td>\n",
       "      <td>1.3</td>\n",
       "      <td>1.30</td>\n",
       "      <td>1.30</td>\n",
       "      <td>1.30</td>\n",
       "      <td>1.30</td>\n",
       "      <td>1.30</td>\n",
       "      <td>...</td>\n",
       "      <td>1.30</td>\n",
       "      <td>2</td>\n",
       "      <td>2</td>\n",
       "      <td>2</td>\n",
       "      <td>2</td>\n",
       "      <td>1.2</td>\n",
       "      <td>1.2</td>\n",
       "      <td>1.2</td>\n",
       "      <td>1.2</td>\n",
       "      <td>1.4</td>\n",
       "    </tr>\n",
       "    <tr>\n",
       "      <th>1</th>\n",
       "      <td>1.0</td>\n",
       "      <td>1.0</td>\n",
       "      <td>1.0</td>\n",
       "      <td>1.0</td>\n",
       "      <td>1.0</td>\n",
       "      <td>1.00</td>\n",
       "      <td>1.00</td>\n",
       "      <td>1.00</td>\n",
       "      <td>1.00</td>\n",
       "      <td>1.00</td>\n",
       "      <td>...</td>\n",
       "      <td>1.00</td>\n",
       "      <td>1</td>\n",
       "      <td>1</td>\n",
       "      <td>1</td>\n",
       "      <td>1</td>\n",
       "      <td>1.0</td>\n",
       "      <td>1.0</td>\n",
       "      <td>1.0</td>\n",
       "      <td>1.0</td>\n",
       "      <td>1.0</td>\n",
       "    </tr>\n",
       "    <tr>\n",
       "      <th>2</th>\n",
       "      <td>83.0</td>\n",
       "      <td>11.0</td>\n",
       "      <td>1.0</td>\n",
       "      <td>11.0</td>\n",
       "      <td>171.0</td>\n",
       "      <td>927.89</td>\n",
       "      <td>0.04</td>\n",
       "      <td>23.04</td>\n",
       "      <td>40.27</td>\n",
       "      <td>21378.61</td>\n",
       "      <td>...</td>\n",
       "      <td>1187.70</td>\n",
       "      <td>65</td>\n",
       "      <td>10</td>\n",
       "      <td>6</td>\n",
       "      <td>0</td>\n",
       "      <td>18.0</td>\n",
       "      <td>25.0</td>\n",
       "      <td>107.0</td>\n",
       "      <td>64.0</td>\n",
       "      <td>21.0</td>\n",
       "    </tr>\n",
       "    <tr>\n",
       "      <th>3</th>\n",
       "      <td>46.0</td>\n",
       "      <td>8.0</td>\n",
       "      <td>6.0</td>\n",
       "      <td>8.0</td>\n",
       "      <td>141.0</td>\n",
       "      <td>769.78</td>\n",
       "      <td>0.07</td>\n",
       "      <td>14.86</td>\n",
       "      <td>51.81</td>\n",
       "      <td>11436.73</td>\n",
       "      <td>...</td>\n",
       "      <td>635.37</td>\n",
       "      <td>37</td>\n",
       "      <td>2</td>\n",
       "      <td>5</td>\n",
       "      <td>0</td>\n",
       "      <td>16.0</td>\n",
       "      <td>28.0</td>\n",
       "      <td>89.0</td>\n",
       "      <td>52.0</td>\n",
       "      <td>15.0</td>\n",
       "    </tr>\n",
       "    <tr>\n",
       "      <th>4</th>\n",
       "      <td>25.0</td>\n",
       "      <td>3.0</td>\n",
       "      <td>1.0</td>\n",
       "      <td>3.0</td>\n",
       "      <td>58.0</td>\n",
       "      <td>254.75</td>\n",
       "      <td>0.11</td>\n",
       "      <td>9.35</td>\n",
       "      <td>27.25</td>\n",
       "      <td>2381.95</td>\n",
       "      <td>...</td>\n",
       "      <td>132.33</td>\n",
       "      <td>21</td>\n",
       "      <td>0</td>\n",
       "      <td>2</td>\n",
       "      <td>0</td>\n",
       "      <td>11.0</td>\n",
       "      <td>10.0</td>\n",
       "      <td>41.0</td>\n",
       "      <td>17.0</td>\n",
       "      <td>5.0</td>\n",
       "    </tr>\n",
       "  </tbody>\n",
       "</table>\n",
       "<p>5 rows × 21 columns</p>\n",
       "</div>"
      ],
      "text/plain": [
       "    loc  v(g)  ev(g)  iv(g)      n       v     l      d      i         e  ...  \\\n",
       "0   1.1   1.4    1.4    1.4    1.3    1.30  1.30   1.30   1.30      1.30  ...   \n",
       "1   1.0   1.0    1.0    1.0    1.0    1.00  1.00   1.00   1.00      1.00  ...   \n",
       "2  83.0  11.0    1.0   11.0  171.0  927.89  0.04  23.04  40.27  21378.61  ...   \n",
       "3  46.0   8.0    6.0    8.0  141.0  769.78  0.07  14.86  51.81  11436.73  ...   \n",
       "4  25.0   3.0    1.0    3.0   58.0  254.75  0.11   9.35  27.25   2381.95  ...   \n",
       "\n",
       "         t  lOCode  lOComment  lOBlank  locCodeAndComment  uniq_Op  uniq_Opnd  \\\n",
       "0     1.30       2          2        2                  2      1.2        1.2   \n",
       "1     1.00       1          1        1                  1      1.0        1.0   \n",
       "2  1187.70      65         10        6                  0     18.0       25.0   \n",
       "3   635.37      37          2        5                  0     16.0       28.0   \n",
       "4   132.33      21          0        2                  0     11.0       10.0   \n",
       "\n",
       "   total_Op  total_Opnd  branchCount  \n",
       "0       1.2         1.2          1.4  \n",
       "1       1.0         1.0          1.0  \n",
       "2     107.0        64.0         21.0  \n",
       "3      89.0        52.0         15.0  \n",
       "4      41.0        17.0          5.0  \n",
       "\n",
       "[5 rows x 21 columns]"
      ]
     },
     "execution_count": 5,
     "metadata": {},
     "output_type": "execute_result"
    }
   ],
   "source": [
    "# Assigning X and y values for the dataset\n",
    "X = df.loc[:,df.columns!='defects']\n",
    "X.head()"
   ]
  },
  {
   "cell_type": "code",
   "execution_count": 6,
   "id": "narrative-declaration",
   "metadata": {
    "execution": {
     "iopub.execute_input": "2021-07-05T06:46:17.720642Z",
     "iopub.status.busy": "2021-07-05T06:46:17.719874Z",
     "iopub.status.idle": "2021-07-05T06:46:17.723174Z",
     "shell.execute_reply": "2021-07-05T06:46:17.723526Z",
     "shell.execute_reply.started": "2021-07-05T06:44:46.271645Z"
    },
    "papermill": {
     "duration": 0.021722,
     "end_time": "2021-07-05T06:46:17.723712",
     "exception": false,
     "start_time": "2021-07-05T06:46:17.701990",
     "status": "completed"
    },
    "tags": []
   },
   "outputs": [
    {
     "data": {
      "text/plain": [
       "0    False\n",
       "1     True\n",
       "2     True\n",
       "3     True\n",
       "4     True\n",
       "Name: defects, dtype: bool"
      ]
     },
     "execution_count": 6,
     "metadata": {},
     "output_type": "execute_result"
    }
   ],
   "source": [
    "y = df['defects']\n",
    "y.head()"
   ]
  },
  {
   "cell_type": "code",
   "execution_count": 7,
   "id": "absolute-playlist",
   "metadata": {
    "execution": {
     "iopub.execute_input": "2021-07-05T06:46:17.752780Z",
     "iopub.status.busy": "2021-07-05T06:46:17.752032Z",
     "iopub.status.idle": "2021-07-05T06:46:17.755576Z",
     "shell.execute_reply": "2021-07-05T06:46:17.755180Z",
     "shell.execute_reply.started": "2021-07-05T06:44:49.926291Z"
    },
    "papermill": {
     "duration": 0.020637,
     "end_time": "2021-07-05T06:46:17.755713",
     "exception": false,
     "start_time": "2021-07-05T06:46:17.735076",
     "status": "completed"
    },
    "tags": []
   },
   "outputs": [],
   "source": [
    "# Splitting Train and Test values\n",
    "from sklearn.model_selection import train_test_split\n",
    "X_train, X_test, y_train, y_test = train_test_split(X, y, test_size=0.3, random_state=None)"
   ]
  },
  {
   "cell_type": "code",
   "execution_count": 8,
   "id": "proud-rotation",
   "metadata": {
    "execution": {
     "iopub.execute_input": "2021-07-05T06:46:17.784694Z",
     "iopub.status.busy": "2021-07-05T06:46:17.784108Z",
     "iopub.status.idle": "2021-07-05T06:46:17.791443Z",
     "shell.execute_reply": "2021-07-05T06:46:17.791012Z",
     "shell.execute_reply.started": "2021-07-05T06:44:53.324006Z"
    },
    "papermill": {
     "duration": 0.024323,
     "end_time": "2021-07-05T06:46:17.791583",
     "exception": false,
     "start_time": "2021-07-05T06:46:17.767260",
     "status": "completed"
    },
    "tags": []
   },
   "outputs": [],
   "source": [
    "# Feature Scaling\n",
    "from sklearn.preprocessing import StandardScaler\n",
    "sc = StandardScaler()\n",
    "X_train = sc.fit_transform(X_train)\n",
    "X_test = sc.transform(X_test)"
   ]
  },
  {
   "cell_type": "code",
   "execution_count": 9,
   "id": "painful-playing",
   "metadata": {
    "execution": {
     "iopub.execute_input": "2021-07-05T06:46:17.819013Z",
     "iopub.status.busy": "2021-07-05T06:46:17.818421Z",
     "iopub.status.idle": "2021-07-05T06:46:17.877492Z",
     "shell.execute_reply": "2021-07-05T06:46:17.877924Z",
     "shell.execute_reply.started": "2021-07-05T06:44:57.124614Z"
    },
    "papermill": {
     "duration": 0.074902,
     "end_time": "2021-07-05T06:46:17.878078",
     "exception": false,
     "start_time": "2021-07-05T06:46:17.803176",
     "status": "completed"
    },
    "tags": []
   },
   "outputs": [
    {
     "data": {
      "text/plain": [
       "SVC()"
      ]
     },
     "execution_count": 9,
     "metadata": {},
     "output_type": "execute_result"
    }
   ],
   "source": [
    "# import svc\n",
    "from sklearn.svm import SVC\n",
    "\n",
    "# Creating a instance\n",
    "classifier = SVC(kernel='rbf',random_state=None)\n",
    "\n",
    "# Fitting the model\n",
    "classifier.fit(X_train, y_train)"
   ]
  },
  {
   "cell_type": "code",
   "execution_count": 10,
   "id": "formal-showcase",
   "metadata": {
    "execution": {
     "iopub.execute_input": "2021-07-05T06:46:17.903929Z",
     "iopub.status.busy": "2021-07-05T06:46:17.903386Z",
     "iopub.status.idle": "2021-07-05T06:46:17.908351Z",
     "shell.execute_reply": "2021-07-05T06:46:17.907966Z",
     "shell.execute_reply.started": "2021-07-05T06:45:00.558157Z"
    },
    "papermill": {
     "duration": 0.018652,
     "end_time": "2021-07-05T06:46:17.908467",
     "exception": false,
     "start_time": "2021-07-05T06:46:17.889815",
     "status": "completed"
    },
    "tags": []
   },
   "outputs": [
    {
     "data": {
      "text/plain": [
       "array([-0.22196583])"
      ]
     },
     "execution_count": 10,
     "metadata": {},
     "output_type": "execute_result"
    }
   ],
   "source": [
    "classifier.intercept_"
   ]
  },
  {
   "cell_type": "code",
   "execution_count": 11,
   "id": "infinite-advertising",
   "metadata": {
    "execution": {
     "iopub.execute_input": "2021-07-05T06:46:17.937541Z",
     "iopub.status.busy": "2021-07-05T06:46:17.937034Z",
     "iopub.status.idle": "2021-07-05T06:46:17.940945Z",
     "shell.execute_reply": "2021-07-05T06:46:17.940506Z",
     "shell.execute_reply.started": "2021-07-05T06:45:03.383707Z"
    },
    "papermill": {
     "duration": 0.020665,
     "end_time": "2021-07-05T06:46:17.941076",
     "exception": false,
     "start_time": "2021-07-05T06:46:17.920411",
     "status": "completed"
    },
    "tags": []
   },
   "outputs": [
    {
     "data": {
      "text/plain": [
       "array([255, 223], dtype=int32)"
      ]
     },
     "execution_count": 11,
     "metadata": {},
     "output_type": "execute_result"
    }
   ],
   "source": [
    "classifier.n_support_"
   ]
  },
  {
   "cell_type": "code",
   "execution_count": 12,
   "id": "positive-simon",
   "metadata": {
    "execution": {
     "iopub.execute_input": "2021-07-05T06:46:17.970838Z",
     "iopub.status.busy": "2021-07-05T06:46:17.969832Z",
     "iopub.status.idle": "2021-07-05T06:46:17.973046Z",
     "shell.execute_reply": "2021-07-05T06:46:17.973469Z",
     "shell.execute_reply.started": "2021-07-05T06:45:07.140359Z"
    },
    "papermill": {
     "duration": 0.020356,
     "end_time": "2021-07-05T06:46:17.973616",
     "exception": false,
     "start_time": "2021-07-05T06:46:17.953260",
     "status": "completed"
    },
    "tags": []
   },
   "outputs": [
    {
     "data": {
      "text/plain": [
       "array([[-0.08011917,  0.04289403, -0.30806172, ..., -0.23012386,\n",
       "        -0.36324743, -0.08369994],\n",
       "       [ 0.97423671,  0.29553408,  0.60830084, ...,  1.45726959,\n",
       "         1.17140757,  0.67313756],\n",
       "       [-0.34370814, -0.20974601, -0.30806172, ..., -0.38179968,\n",
       "        -0.39394053, -0.20983952],\n",
       "       ...,\n",
       "       [ 2.52282192,  2.06401441,  2.89920724, ...,  1.79854017,\n",
       "         2.18427986,  2.06067296],\n",
       "       [ 0.08462394, -0.46238606, -0.30806172, ...,  0.18698463,\n",
       "         0.28130767, -0.46211868],\n",
       "       [ 1.04013395,  1.30609427, -0.30806172, ...,  2.19668919,\n",
       "         2.49121086,  1.30383547]])"
      ]
     },
     "execution_count": 12,
     "metadata": {},
     "output_type": "execute_result"
    }
   ],
   "source": [
    "classifier.support_vectors_"
   ]
  },
  {
   "cell_type": "code",
   "execution_count": 13,
   "id": "constant-beach",
   "metadata": {
    "execution": {
     "iopub.execute_input": "2021-07-05T06:46:18.003076Z",
     "iopub.status.busy": "2021-07-05T06:46:18.002486Z",
     "iopub.status.idle": "2021-07-05T06:46:18.080465Z",
     "shell.execute_reply": "2021-07-05T06:46:18.080026Z",
     "shell.execute_reply.started": "2021-07-05T06:45:10.933165Z"
    },
    "papermill": {
     "duration": 0.094403,
     "end_time": "2021-07-05T06:46:18.080606",
     "exception": false,
     "start_time": "2021-07-05T06:46:17.986203",
     "status": "completed"
    },
    "tags": []
   },
   "outputs": [],
   "source": [
    "# Predicting the values\n",
    "y_pred_train = classifier.predict(X_train)\n",
    "y_pred_test = classifier.predict(X_test)"
   ]
  },
  {
   "cell_type": "code",
   "execution_count": 14,
   "id": "functional-prayer",
   "metadata": {
    "execution": {
     "iopub.execute_input": "2021-07-05T06:46:18.110674Z",
     "iopub.status.busy": "2021-07-05T06:46:18.110144Z",
     "iopub.status.idle": "2021-07-05T06:46:18.116982Z",
     "shell.execute_reply": "2021-07-05T06:46:18.116425Z",
     "shell.execute_reply.started": "2021-07-05T06:45:18.259601Z"
    },
    "papermill": {
     "duration": 0.023913,
     "end_time": "2021-07-05T06:46:18.117106",
     "exception": false,
     "start_time": "2021-07-05T06:46:18.093193",
     "status": "completed"
    },
    "tags": []
   },
   "outputs": [
    {
     "name": "stdout",
     "output_type": "stream",
     "text": [
      "[[1232   12]\n",
      " [ 171   61]]\n",
      "[[527  12]\n",
      " [ 79  15]]\n"
     ]
    }
   ],
   "source": [
    "from sklearn.metrics import confusion_matrix, accuracy_score\n",
    "\n",
    "# Confusion matrix\n",
    "cm_train = confusion_matrix(y_train, y_pred_train)\n",
    "print(cm_train)\n",
    "\n",
    "cm_test = confusion_matrix(y_test, y_pred_test)\n",
    "print(cm_test)"
   ]
  },
  {
   "cell_type": "code",
   "execution_count": 15,
   "id": "encouraging-dietary",
   "metadata": {
    "execution": {
     "iopub.execute_input": "2021-07-05T06:46:18.147077Z",
     "iopub.status.busy": "2021-07-05T06:46:18.146229Z",
     "iopub.status.idle": "2021-07-05T06:46:18.151192Z",
     "shell.execute_reply": "2021-07-05T06:46:18.150512Z",
     "shell.execute_reply.started": "2021-07-05T06:45:23.374181Z"
    },
    "papermill": {
     "duration": 0.021398,
     "end_time": "2021-07-05T06:46:18.151359",
     "exception": false,
     "start_time": "2021-07-05T06:46:18.129961",
     "status": "completed"
    },
    "tags": []
   },
   "outputs": [
    {
     "name": "stdout",
     "output_type": "stream",
     "text": [
      "0.8760162601626016\n"
     ]
    }
   ],
   "source": [
    "# Accuracy\n",
    "accuracy_train = accuracy_score(y_train, y_pred_train)\n",
    "print(accuracy_train)"
   ]
  },
  {
   "cell_type": "code",
   "execution_count": 16,
   "id": "established-temple",
   "metadata": {
    "execution": {
     "iopub.execute_input": "2021-07-05T06:46:18.182222Z",
     "iopub.status.busy": "2021-07-05T06:46:18.181369Z",
     "iopub.status.idle": "2021-07-05T06:46:18.185715Z",
     "shell.execute_reply": "2021-07-05T06:46:18.185254Z",
     "shell.execute_reply.started": "2021-07-05T06:45:31.260332Z"
    },
    "papermill": {
     "duration": 0.020854,
     "end_time": "2021-07-05T06:46:18.185832",
     "exception": false,
     "start_time": "2021-07-05T06:46:18.164978",
     "status": "completed"
    },
    "tags": []
   },
   "outputs": [
    {
     "name": "stdout",
     "output_type": "stream",
     "text": [
      "0.8562401263823065\n"
     ]
    }
   ],
   "source": [
    "accuracy_test = accuracy_score(y_test, y_pred_test)\n",
    "print(accuracy_test)"
   ]
  },
  {
   "cell_type": "code",
   "execution_count": 17,
   "id": "lovely-mount",
   "metadata": {
    "execution": {
     "iopub.execute_input": "2021-07-05T06:46:18.215456Z",
     "iopub.status.busy": "2021-07-05T06:46:18.214669Z",
     "iopub.status.idle": "2021-07-05T06:46:18.223406Z",
     "shell.execute_reply": "2021-07-05T06:46:18.224213Z",
     "shell.execute_reply.started": "2021-07-05T06:45:45.153999Z"
    },
    "papermill": {
     "duration": 0.025512,
     "end_time": "2021-07-05T06:46:18.224470",
     "exception": false,
     "start_time": "2021-07-05T06:46:18.198958",
     "status": "completed"
    },
    "tags": []
   },
   "outputs": [
    {
     "name": "stdout",
     "output_type": "stream",
     "text": [
      "              precision    recall  f1-score   support\n",
      "\n",
      "       False       0.87      0.98      0.92       539\n",
      "        True       0.56      0.16      0.25        94\n",
      "\n",
      "    accuracy                           0.86       633\n",
      "   macro avg       0.71      0.57      0.58       633\n",
      "weighted avg       0.82      0.86      0.82       633\n",
      "\n"
     ]
    }
   ],
   "source": [
    "from sklearn.metrics import classification_report\n",
    "\n",
    "print(classification_report(y_test, y_pred_test))"
   ]
  }
 ],
 "metadata": {
  "kernelspec": {
   "display_name": "Python 3",
   "language": "python",
   "name": "python3"
  },
  "language_info": {
   "codemirror_mode": {
    "name": "ipython",
    "version": 3
   },
   "file_extension": ".py",
   "mimetype": "text/x-python",
   "name": "python",
   "nbconvert_exporter": "python",
   "pygments_lexer": "ipython3",
   "version": "3.7.10"
  },
  "papermill": {
   "default_parameters": {},
   "duration": 14.706051,
   "end_time": "2021-07-05T06:46:20.106903",
   "environment_variables": {},
   "exception": null,
   "input_path": "__notebook__.ipynb",
   "output_path": "__notebook__.ipynb",
   "parameters": {},
   "start_time": "2021-07-05T06:46:05.400852",
   "version": "2.3.3"
  }
 },
 "nbformat": 4,
 "nbformat_minor": 5
}
