{
 "cells": [
  {
   "cell_type": "code",
   "execution_count": 1,
   "id": "543026cf",
   "metadata": {
    "_cell_guid": "b1076dfc-b9ad-4769-8c92-a6c4dae69d19",
    "_uuid": "8f2839f25d086af736a60e9eeb907d3b93b6e0e5",
    "execution": {
     "iopub.execute_input": "2022-02-02T13:59:21.081282Z",
     "iopub.status.busy": "2022-02-02T13:59:21.079521Z",
     "iopub.status.idle": "2022-02-02T13:59:21.102532Z",
     "shell.execute_reply": "2022-02-02T13:59:21.101592Z",
     "shell.execute_reply.started": "2022-02-02T13:58:12.837386Z"
    },
    "papermill": {
     "duration": 0.047493,
     "end_time": "2022-02-02T13:59:21.102788",
     "exception": false,
     "start_time": "2022-02-02T13:59:21.055295",
     "status": "completed"
    },
    "tags": []
   },
   "outputs": [
    {
     "name": "stdout",
     "output_type": "stream",
     "text": [
      "/kaggle/input/cm1naivebayes/CM1.csv\n",
      "/kaggle/input/cm1naivebayes/CM1-original-data.txt\n",
      "/kaggle/input/kc1-csvsdmlp/kc1_csv.csv\n"
     ]
    }
   ],
   "source": [
    "# This Python 3 environment comes with many helpful analytics libraries installed\n",
    "# It is defined by the kaggle/python Docker image: https://github.com/kaggle/docker-python\n",
    "# For example, here's several helpful packages to load\n",
    "\n",
    "import numpy as np # linear algebra\n",
    "import pandas as pd # data processing, CSV file I/O (e.g. pd.read_csv)\n",
    "\n",
    "# Input data files are available in the read-only \"../input/\" directory\n",
    "# For example, running this (by clicking run or pressing Shift+Enter) will list all files under the input directory\n",
    "\n",
    "import os\n",
    "for dirname, _, filenames in os.walk('/kaggle/input'):\n",
    "    for filename in filenames:\n",
    "        print(os.path.join(dirname, filename))\n",
    "\n",
    "# You can write up to 20GB to the current directory (/kaggle/working/) that gets preserved as output when you create a version using \"Save & Run All\" \n",
    "# You can also write temporary files to /kaggle/temp/, but they won't be saved outside of the current session"
   ]
  },
  {
   "cell_type": "code",
   "execution_count": 2,
   "id": "69fb22d5",
   "metadata": {
    "execution": {
     "iopub.execute_input": "2022-02-02T13:59:21.147858Z",
     "iopub.status.busy": "2022-02-02T13:59:21.147029Z",
     "iopub.status.idle": "2022-02-02T13:59:28.419881Z",
     "shell.execute_reply": "2022-02-02T13:59:28.419371Z",
     "shell.execute_reply.started": "2022-02-02T13:58:12.847660Z"
    },
    "papermill": {
     "duration": 7.296867,
     "end_time": "2022-02-02T13:59:28.420034",
     "exception": false,
     "start_time": "2022-02-02T13:59:21.123167",
     "status": "completed"
    },
    "tags": []
   },
   "outputs": [],
   "source": [
    "import tensorflow as tf\n",
    "import pandas as pd\n",
    "import numpy as np\n",
    "import matplotlib.pyplot as plt\n",
    "import seaborn as sns\n",
    "from sklearn.model_selection import train_test_split\n",
    "from sklearn.preprocessing import MinMaxScaler, Normalizer\n",
    "from sklearn.decomposition import PCA as sklearnPCA\n",
    "\n",
    "# Supress unnecessary warnings so that presentation looks clean\n",
    "import warnings\n",
    "warnings.filterwarnings(\"ignore\")"
   ]
  },
  {
   "cell_type": "code",
   "execution_count": 3,
   "id": "87f5331a",
   "metadata": {
    "execution": {
     "iopub.execute_input": "2022-02-02T13:59:28.462376Z",
     "iopub.status.busy": "2022-02-02T13:59:28.461755Z",
     "iopub.status.idle": "2022-02-02T13:59:28.530216Z",
     "shell.execute_reply": "2022-02-02T13:59:28.529596Z",
     "shell.execute_reply.started": "2022-02-02T13:58:12.860840Z"
    },
    "papermill": {
     "duration": 0.089827,
     "end_time": "2022-02-02T13:59:28.530357",
     "exception": false,
     "start_time": "2022-02-02T13:59:28.440530",
     "status": "completed"
    },
    "tags": []
   },
   "outputs": [
    {
     "data": {
      "text/html": [
       "<div>\n",
       "<style scoped>\n",
       "    .dataframe tbody tr th:only-of-type {\n",
       "        vertical-align: middle;\n",
       "    }\n",
       "\n",
       "    .dataframe tbody tr th {\n",
       "        vertical-align: top;\n",
       "    }\n",
       "\n",
       "    .dataframe thead th {\n",
       "        text-align: right;\n",
       "    }\n",
       "</style>\n",
       "<table border=\"1\" class=\"dataframe\">\n",
       "  <thead>\n",
       "    <tr style=\"text-align: right;\">\n",
       "      <th></th>\n",
       "      <th>LOC_BLANK</th>\n",
       "      <th>BRANCH_COUNT</th>\n",
       "      <th>CALL_PAIRS</th>\n",
       "      <th>LOC_CODE_AND_COMMENT</th>\n",
       "      <th>LOC_COMMENTS</th>\n",
       "      <th>CONDITION_COUNT</th>\n",
       "      <th>CYCLOMATIC_COMPLEXITY</th>\n",
       "      <th>CYCLOMATIC_DENSITY</th>\n",
       "      <th>DECISION_COUNT</th>\n",
       "      <th>DECISION_DENSITY</th>\n",
       "      <th>...</th>\n",
       "      <th>NODE_COUNT</th>\n",
       "      <th>NORMALIZED_CYLOMATIC_COMPLEXITY</th>\n",
       "      <th>NUM_OPERANDS</th>\n",
       "      <th>NUM_OPERATORS</th>\n",
       "      <th>NUM_UNIQUE_OPERANDS</th>\n",
       "      <th>NUM_UNIQUE_OPERATORS</th>\n",
       "      <th>NUMBER_OF_LINES</th>\n",
       "      <th>PERCENT_COMMENTS</th>\n",
       "      <th>LOC_TOTAL</th>\n",
       "      <th>Defective</th>\n",
       "    </tr>\n",
       "  </thead>\n",
       "  <tbody>\n",
       "    <tr>\n",
       "      <th>0</th>\n",
       "      <td>6.0</td>\n",
       "      <td>9.0</td>\n",
       "      <td>2.0</td>\n",
       "      <td>1.0</td>\n",
       "      <td>0.0</td>\n",
       "      <td>16.0</td>\n",
       "      <td>5.0</td>\n",
       "      <td>0.2</td>\n",
       "      <td>8.0</td>\n",
       "      <td>2.0</td>\n",
       "      <td>...</td>\n",
       "      <td>14.0</td>\n",
       "      <td>0.2</td>\n",
       "      <td>19.0</td>\n",
       "      <td>44.0</td>\n",
       "      <td>15.0</td>\n",
       "      <td>15.0</td>\n",
       "      <td>32.0</td>\n",
       "      <td>4.0</td>\n",
       "      <td>25.0</td>\n",
       "      <td>N</td>\n",
       "    </tr>\n",
       "    <tr>\n",
       "      <th>1</th>\n",
       "      <td>15.0</td>\n",
       "      <td>7.0</td>\n",
       "      <td>3.0</td>\n",
       "      <td>1.0</td>\n",
       "      <td>19.0</td>\n",
       "      <td>12.0</td>\n",
       "      <td>4.0</td>\n",
       "      <td>0.1</td>\n",
       "      <td>6.0</td>\n",
       "      <td>2.0</td>\n",
       "      <td>...</td>\n",
       "      <td>15.0</td>\n",
       "      <td>0.1</td>\n",
       "      <td>51.0</td>\n",
       "      <td>90.0</td>\n",
       "      <td>32.0</td>\n",
       "      <td>27.0</td>\n",
       "      <td>67.0</td>\n",
       "      <td>39.2</td>\n",
       "      <td>32.0</td>\n",
       "      <td>Y</td>\n",
       "    </tr>\n",
       "  </tbody>\n",
       "</table>\n",
       "<p>2 rows × 38 columns</p>\n",
       "</div>"
      ],
      "text/plain": [
       "   LOC_BLANK  BRANCH_COUNT  CALL_PAIRS  LOC_CODE_AND_COMMENT  LOC_COMMENTS  \\\n",
       "0        6.0           9.0         2.0                   1.0           0.0   \n",
       "1       15.0           7.0         3.0                   1.0          19.0   \n",
       "\n",
       "   CONDITION_COUNT  CYCLOMATIC_COMPLEXITY  CYCLOMATIC_DENSITY  DECISION_COUNT  \\\n",
       "0             16.0                    5.0                 0.2             8.0   \n",
       "1             12.0                    4.0                 0.1             6.0   \n",
       "\n",
       "   DECISION_DENSITY  ...  NODE_COUNT  NORMALIZED_CYLOMATIC_COMPLEXITY  \\\n",
       "0               2.0  ...        14.0                              0.2   \n",
       "1               2.0  ...        15.0                              0.1   \n",
       "\n",
       "   NUM_OPERANDS  NUM_OPERATORS  NUM_UNIQUE_OPERANDS  NUM_UNIQUE_OPERATORS  \\\n",
       "0          19.0           44.0                 15.0                  15.0   \n",
       "1          51.0           90.0                 32.0                  27.0   \n",
       "\n",
       "   NUMBER_OF_LINES  PERCENT_COMMENTS  LOC_TOTAL  Defective  \n",
       "0             32.0               4.0       25.0          N  \n",
       "1             67.0              39.2       32.0          Y  \n",
       "\n",
       "[2 rows x 38 columns]"
      ]
     },
     "execution_count": 3,
     "metadata": {},
     "output_type": "execute_result"
    }
   ],
   "source": [
    "df = pd.read_csv(\"../input/cm1naivebayes/CM1.csv\")\n",
    "df.head(2)"
   ]
  },
  {
   "cell_type": "code",
   "execution_count": 4,
   "id": "a60896e5",
   "metadata": {
    "execution": {
     "iopub.execute_input": "2022-02-02T13:59:28.575643Z",
     "iopub.status.busy": "2022-02-02T13:59:28.574908Z",
     "iopub.status.idle": "2022-02-02T13:59:28.578546Z",
     "shell.execute_reply": "2022-02-02T13:59:28.579033Z",
     "shell.execute_reply.started": "2022-02-02T13:58:12.902109Z"
    },
    "papermill": {
     "duration": 0.028904,
     "end_time": "2022-02-02T13:59:28.579204",
     "exception": false,
     "start_time": "2022-02-02T13:59:28.550300",
     "status": "completed"
    },
    "tags": []
   },
   "outputs": [
    {
     "data": {
      "text/plain": [
       "(344, 38)"
      ]
     },
     "execution_count": 4,
     "metadata": {},
     "output_type": "execute_result"
    }
   ],
   "source": [
    "df.shape"
   ]
  },
  {
   "cell_type": "code",
   "execution_count": 5,
   "id": "0f1a900d",
   "metadata": {
    "execution": {
     "iopub.execute_input": "2022-02-02T13:59:28.623253Z",
     "iopub.status.busy": "2022-02-02T13:59:28.622619Z",
     "iopub.status.idle": "2022-02-02T13:59:28.631366Z",
     "shell.execute_reply": "2022-02-02T13:59:28.630830Z",
     "shell.execute_reply.started": "2022-02-02T13:58:12.908312Z"
    },
    "papermill": {
     "duration": 0.032489,
     "end_time": "2022-02-02T13:59:28.631510",
     "exception": false,
     "start_time": "2022-02-02T13:59:28.599021",
     "status": "completed"
    },
    "tags": []
   },
   "outputs": [],
   "source": [
    "df.loc[df.Defective == 'N',\"Defective\"] = 0\n",
    "df.loc[df.Defective == 'Y',\"Defective\"] = 1"
   ]
  },
  {
   "cell_type": "code",
   "execution_count": 6,
   "id": "b5542b1d",
   "metadata": {
    "execution": {
     "iopub.execute_input": "2022-02-02T13:59:28.696040Z",
     "iopub.status.busy": "2022-02-02T13:59:28.695230Z",
     "iopub.status.idle": "2022-02-02T13:59:28.698692Z",
     "shell.execute_reply": "2022-02-02T13:59:28.699142Z",
     "shell.execute_reply.started": "2022-02-02T13:58:12.920581Z"
    },
    "papermill": {
     "duration": 0.047914,
     "end_time": "2022-02-02T13:59:28.699310",
     "exception": false,
     "start_time": "2022-02-02T13:59:28.651396",
     "status": "completed"
    },
    "tags": []
   },
   "outputs": [
    {
     "data": {
      "text/plain": [
       "<bound method NDFrame.head of      LOC_BLANK  BRANCH_COUNT  CALL_PAIRS  LOC_CODE_AND_COMMENT  LOC_COMMENTS  \\\n",
       "0          6.0           9.0         2.0                   1.0           0.0   \n",
       "1         15.0           7.0         3.0                   1.0          19.0   \n",
       "2         27.0           9.0         1.0                   4.0          22.0   \n",
       "3          7.0           3.0         2.0                   0.0           0.0   \n",
       "4         51.0          25.0        13.0                   0.0          14.0   \n",
       "..         ...           ...         ...                   ...           ...   \n",
       "339       17.0          21.0         4.0                   1.0           8.0   \n",
       "340       16.0          13.0         6.0                   0.0           5.0   \n",
       "341       11.0           9.0         6.0                   0.0           4.0   \n",
       "342        1.0           3.0         0.0                   0.0           0.0   \n",
       "343       10.0          13.0         6.0                   1.0          16.0   \n",
       "\n",
       "     CONDITION_COUNT  CYCLOMATIC_COMPLEXITY  CYCLOMATIC_DENSITY  \\\n",
       "0               16.0                    5.0                 0.2   \n",
       "1               12.0                    4.0                 0.1   \n",
       "2               16.0                    5.0                 0.2   \n",
       "3                4.0                    2.0                 0.2   \n",
       "4               48.0                   13.0                 0.1   \n",
       "..               ...                    ...                 ...   \n",
       "339             36.0                   11.0                 0.3   \n",
       "340             24.0                    7.0                 0.1   \n",
       "341             16.0                    5.0                 0.1   \n",
       "342              4.0                    2.0                 0.2   \n",
       "343             24.0                    7.0                 0.2   \n",
       "\n",
       "     DECISION_COUNT  DECISION_DENSITY  ...  NODE_COUNT  \\\n",
       "0               8.0               2.0  ...        14.0   \n",
       "1               6.0               2.0  ...        15.0   \n",
       "2               8.0               2.0  ...        15.0   \n",
       "3               2.0               2.0  ...         6.0   \n",
       "4              24.0               2.0  ...        85.0   \n",
       "..              ...               ...  ...         ...   \n",
       "339            16.0               2.3  ...        34.0   \n",
       "340            12.0               2.0  ...        26.0   \n",
       "341             8.0               2.0  ...        21.0   \n",
       "342             2.0               2.0  ...         5.0   \n",
       "343            12.0               2.0  ...        24.0   \n",
       "\n",
       "     NORMALIZED_CYLOMATIC_COMPLEXITY  NUM_OPERANDS  NUM_OPERATORS  \\\n",
       "0                                0.2          19.0           44.0   \n",
       "1                                0.1          51.0           90.0   \n",
       "2                                0.1          37.0           74.0   \n",
       "3                                0.1           9.0           14.0   \n",
       "4                                0.1         192.0          229.0   \n",
       "..                               ...           ...            ...   \n",
       "339                              0.2          98.0          143.0   \n",
       "340                              0.1         186.0          263.0   \n",
       "341                              0.1          80.0          129.0   \n",
       "342                              0.2           4.0           11.0   \n",
       "343                              0.1          65.0          120.0   \n",
       "\n",
       "     NUM_UNIQUE_OPERANDS  NUM_UNIQUE_OPERATORS  NUMBER_OF_LINES  \\\n",
       "0                   15.0                  15.0             32.0   \n",
       "1                   32.0                  27.0             67.0   \n",
       "2                   33.0                  22.0             83.0   \n",
       "3                    7.0                  10.0             20.0   \n",
       "4                   71.0                  20.0            172.0   \n",
       "..                   ...                   ...              ...   \n",
       "339                 45.0                  33.0             68.0   \n",
       "340                 77.0                  26.0             81.0   \n",
       "341                 41.0                  19.0             58.0   \n",
       "342                  4.0                   7.0             11.0   \n",
       "343                 26.0                  29.0             67.0   \n",
       "\n",
       "     PERCENT_COMMENTS  LOC_TOTAL  Defective  \n",
       "0                 4.0       25.0          0  \n",
       "1                39.2       32.0          1  \n",
       "2                47.3       33.0          1  \n",
       "3                 0.0       12.0          0  \n",
       "4                11.7      106.0          0  \n",
       "..                ...        ...        ...  \n",
       "339              18.0       42.0          0  \n",
       "340               7.8       59.0          0  \n",
       "341               8.7       42.0          0  \n",
       "342               0.0        9.0          0  \n",
       "343              30.4       40.0          0  \n",
       "\n",
       "[344 rows x 38 columns]>"
      ]
     },
     "execution_count": 6,
     "metadata": {},
     "output_type": "execute_result"
    }
   ],
   "source": [
    "df.head"
   ]
  },
  {
   "cell_type": "code",
   "execution_count": 7,
   "id": "c3c6ff9a",
   "metadata": {
    "execution": {
     "iopub.execute_input": "2022-02-02T13:59:28.743044Z",
     "iopub.status.busy": "2022-02-02T13:59:28.742078Z",
     "iopub.status.idle": "2022-02-02T13:59:28.747582Z",
     "shell.execute_reply": "2022-02-02T13:59:28.748016Z",
     "shell.execute_reply.started": "2022-02-02T13:58:12.952723Z"
    },
    "papermill": {
     "duration": 0.029321,
     "end_time": "2022-02-02T13:59:28.748197",
     "exception": false,
     "start_time": "2022-02-02T13:59:28.718876",
     "status": "completed"
    },
    "tags": []
   },
   "outputs": [],
   "source": [
    "df = df[[\"LOC_TOTAL\",\"LOC_CODE_AND_COMMENT\",\"NUM_UNIQUE_OPERANDS\",\"BRANCH_COUNT\",\"NUM_OPERANDS\",\"NUM_UNIQUE_OPERATORS\",\"LOC_BLANK\",\"Defective\"]]"
   ]
  },
  {
   "cell_type": "code",
   "execution_count": 8,
   "id": "ff9e1714",
   "metadata": {
    "execution": {
     "iopub.execute_input": "2022-02-02T13:59:28.793330Z",
     "iopub.status.busy": "2022-02-02T13:59:28.791961Z",
     "iopub.status.idle": "2022-02-02T13:59:28.797690Z",
     "shell.execute_reply": "2022-02-02T13:59:28.798106Z",
     "shell.execute_reply.started": "2022-02-02T13:58:12.959245Z"
    },
    "papermill": {
     "duration": 0.030094,
     "end_time": "2022-02-02T13:59:28.798291",
     "exception": false,
     "start_time": "2022-02-02T13:59:28.768197",
     "status": "completed"
    },
    "tags": []
   },
   "outputs": [
    {
     "data": {
      "text/plain": [
       "(344, 8)"
      ]
     },
     "execution_count": 8,
     "metadata": {},
     "output_type": "execute_result"
    }
   ],
   "source": [
    "df.shape\n"
   ]
  },
  {
   "cell_type": "code",
   "execution_count": 9,
   "id": "3a36ac10",
   "metadata": {
    "execution": {
     "iopub.execute_input": "2022-02-02T13:59:28.845800Z",
     "iopub.status.busy": "2022-02-02T13:59:28.844787Z",
     "iopub.status.idle": "2022-02-02T13:59:28.997452Z",
     "shell.execute_reply": "2022-02-02T13:59:28.996907Z",
     "shell.execute_reply.started": "2022-02-02T13:58:12.972381Z"
    },
    "papermill": {
     "duration": 0.177757,
     "end_time": "2022-02-02T13:59:28.997614",
     "exception": false,
     "start_time": "2022-02-02T13:59:28.819857",
     "status": "completed"
    },
    "tags": []
   },
   "outputs": [
    {
     "data": {
      "text/plain": [
       "<AxesSubplot:xlabel='Defective', ylabel='count'>"
      ]
     },
     "execution_count": 9,
     "metadata": {},
     "output_type": "execute_result"
    },
    {
     "data": {
      "image/png": "[encoded data removed]",
      "text/plain": [
       "<Figure size 432x288 with 1 Axes>"
      ]
     },
     "metadata": {
      "needs_background": "light"
     },
     "output_type": "display_data"
    }
   ],
   "source": [
    "sns.countplot(df['Defective'],label=\"Count\")"
   ]
  },
  {
   "cell_type": "code",
   "execution_count": null,
   "id": "7039cafa",
   "metadata": {
    "papermill": {
     "duration": 0.020391,
     "end_time": "2022-02-02T13:59:29.040127",
     "exception": false,
     "start_time": "2022-02-02T13:59:29.019736",
     "status": "completed"
    },
    "tags": []
   },
   "outputs": [],
   "source": []
  },
  {
   "cell_type": "code",
   "execution_count": 10,
   "id": "c8b90e92",
   "metadata": {
    "execution": {
     "iopub.execute_input": "2022-02-02T13:59:29.092364Z",
     "iopub.status.busy": "2022-02-02T13:59:29.091744Z",
     "iopub.status.idle": "2022-02-02T13:59:29.096951Z",
     "shell.execute_reply": "2022-02-02T13:59:29.097501Z",
     "shell.execute_reply.started": "2022-02-02T13:58:13.102113Z"
    },
    "papermill": {
     "duration": 0.036718,
     "end_time": "2022-02-02T13:59:29.097736",
     "exception": false,
     "start_time": "2022-02-02T13:59:29.061018",
     "status": "completed"
    },
    "tags": []
   },
   "outputs": [
    {
     "data": {
      "text/plain": [
       "0    302\n",
       "1     42\n",
       "Name: Defective, dtype: int64"
      ]
     },
     "execution_count": 10,
     "metadata": {},
     "output_type": "execute_result"
    }
   ],
   "source": [
    "df['Defective'].value_counts()"
   ]
  },
  {
   "cell_type": "code",
   "execution_count": 11,
   "id": "9e62a37d",
   "metadata": {
    "execution": {
     "iopub.execute_input": "2022-02-02T13:59:29.342175Z",
     "iopub.status.busy": "2022-02-02T13:59:29.341463Z",
     "iopub.status.idle": "2022-02-02T13:59:29.654850Z",
     "shell.execute_reply": "2022-02-02T13:59:29.654138Z",
     "shell.execute_reply.started": "2022-02-02T13:58:13.111074Z"
    },
    "papermill": {
     "duration": 0.535187,
     "end_time": "2022-02-02T13:59:29.655006",
     "exception": false,
     "start_time": "2022-02-02T13:59:29.119819",
     "status": "completed"
    },
    "tags": []
   },
   "outputs": [
    {
     "data": {
      "image/png": "[encoded data removed]",
      "text/plain": [
       "<Figure size 432x288 with 2 Axes>"
      ]
     },
     "metadata": {
      "needs_background": "light"
     },
     "output_type": "display_data"
    }
   ],
   "source": [
    "corr_matrix = df.corr().round(2)  # Round to 2 decimal places\n",
    "sns.heatmap(data=corr_matrix)  # Set annot = True to print the values inside the squares\n",
    "plt.show()"
   ]
  },
  {
   "cell_type": "code",
   "execution_count": 12,
   "id": "b7b40ffe",
   "metadata": {
    "execution": {
     "iopub.execute_input": "2022-02-02T13:59:29.709453Z",
     "iopub.status.busy": "2022-02-02T13:59:29.708031Z",
     "iopub.status.idle": "2022-02-02T13:59:29.712092Z",
     "shell.execute_reply": "2022-02-02T13:59:29.712709Z",
     "shell.execute_reply.started": "2022-02-02T13:58:13.439531Z"
    },
    "papermill": {
     "duration": 0.033979,
     "end_time": "2022-02-02T13:59:29.712893",
     "exception": false,
     "start_time": "2022-02-02T13:59:29.678914",
     "status": "completed"
    },
    "tags": []
   },
   "outputs": [
    {
     "name": "stdout",
     "output_type": "stream",
     "text": [
      "2.4.1\n"
     ]
    }
   ],
   "source": [
    "from sklearn.preprocessing import LabelEncoder, OneHotEncoder\n",
    "from sklearn.preprocessing import StandardScaler\n",
    "\n",
    "import tensorflow as tf\n",
    "from tensorflow import keras\n",
    "\n",
    "print(tf.version.VERSION)"
   ]
  },
  {
   "cell_type": "code",
   "execution_count": 13,
   "id": "1849ccf3",
   "metadata": {
    "execution": {
     "iopub.execute_input": "2022-02-02T13:59:29.770993Z",
     "iopub.status.busy": "2022-02-02T13:59:29.770381Z",
     "iopub.status.idle": "2022-02-02T13:59:29.773671Z",
     "shell.execute_reply": "2022-02-02T13:59:29.773061Z",
     "shell.execute_reply.started": "2022-02-02T13:58:13.446055Z"
    },
    "papermill": {
     "duration": 0.035607,
     "end_time": "2022-02-02T13:59:29.773816",
     "exception": false,
     "start_time": "2022-02-02T13:59:29.738209",
     "status": "completed"
    },
    "tags": []
   },
   "outputs": [],
   "source": [
    "y_train = df['Defective']\n",
    "x_train = df.drop(labels =['Defective'],axis=1)\n",
    "\n",
    "x_train, x_test, y_train, y_test = train_test_split(x_train,y_train, test_size = 0.3, random_state = 2)"
   ]
  },
  {
   "cell_type": "code",
   "execution_count": 14,
   "id": "a785a56f",
   "metadata": {
    "execution": {
     "iopub.execute_input": "2022-02-02T13:59:29.826714Z",
     "iopub.status.busy": "2022-02-02T13:59:29.826046Z",
     "iopub.status.idle": "2022-02-02T13:59:29.832319Z",
     "shell.execute_reply": "2022-02-02T13:59:29.831697Z",
     "shell.execute_reply.started": "2022-02-02T13:58:13.463587Z"
    },
    "papermill": {
     "duration": 0.034841,
     "end_time": "2022-02-02T13:59:29.832480",
     "exception": false,
     "start_time": "2022-02-02T13:59:29.797639",
     "status": "completed"
    },
    "tags": []
   },
   "outputs": [
    {
     "data": {
      "text/plain": [
       "(240, 7)"
      ]
     },
     "execution_count": 14,
     "metadata": {},
     "output_type": "execute_result"
    }
   ],
   "source": [
    "x_train.shape"
   ]
  },
  {
   "cell_type": "code",
   "execution_count": 15,
   "id": "73369279",
   "metadata": {
    "execution": {
     "iopub.execute_input": "2022-02-02T13:59:29.886694Z",
     "iopub.status.busy": "2022-02-02T13:59:29.885960Z",
     "iopub.status.idle": "2022-02-02T13:59:30.019669Z",
     "shell.execute_reply": "2022-02-02T13:59:30.019038Z",
     "shell.execute_reply.started": "2022-02-02T13:58:13.473615Z"
    },
    "papermill": {
     "duration": 0.163384,
     "end_time": "2022-02-02T13:59:30.019812",
     "exception": false,
     "start_time": "2022-02-02T13:59:29.856428",
     "status": "completed"
    },
    "tags": []
   },
   "outputs": [
    {
     "name": "stdout",
     "output_type": "stream",
     "text": [
      "Model: \"sequential\"\n",
      "_________________________________________________________________\n",
      "Layer (type)                 Output Shape              Param #   \n",
      "=================================================================\n",
      "dense (Dense)                (None, 512)               4096      \n",
      "_________________________________________________________________\n",
      "dropout (Dropout)            (None, 512)               0         \n",
      "_________________________________________________________________\n",
      "dense_1 (Dense)              (None, 64)                32832     \n",
      "_________________________________________________________________\n",
      "dropout_1 (Dropout)          (None, 64)                0         \n",
      "_________________________________________________________________\n",
      "dense_2 (Dense)              (None, 2)                 130       \n",
      "=================================================================\n",
      "Total params: 37,058\n",
      "Trainable params: 37,058\n",
      "Non-trainable params: 0\n",
      "_________________________________________________________________\n"
     ]
    }
   ],
   "source": [
    "# Define a simple sequential model\n",
    "def create_model():\n",
    "  model = tf.keras.models.Sequential([\n",
    "    keras.layers.Dense(512, activation='relu', input_shape=(7,)),\n",
    "    keras.layers.Dropout(0.2),\n",
    "    keras.layers.Dense(64),\n",
    "    keras.layers.Dropout(0.2),\n",
    "    keras.layers.Dense(2)\n",
    "  ])\n",
    "\n",
    "  model.compile(optimizer='adam',\n",
    "                loss=tf.losses.SparseCategoricalCrossentropy(from_logits=True),\n",
    "                metrics=[tf.metrics.SparseCategoricalAccuracy()])\n",
    "\n",
    "  return model\n",
    "\n",
    "# Create a basic model instance\n",
    "model = create_model()\n",
    "\n",
    "# Display the model's architecture\n",
    "model.summary()"
   ]
  },
  {
   "cell_type": "code",
   "execution_count": 16,
   "id": "4e329a65",
   "metadata": {
    "execution": {
     "iopub.execute_input": "2022-02-02T13:59:30.072590Z",
     "iopub.status.busy": "2022-02-02T13:59:30.071926Z",
     "iopub.status.idle": "2022-02-02T13:59:34.693108Z",
     "shell.execute_reply": "2022-02-02T13:59:34.692478Z",
     "shell.execute_reply.started": "2022-02-02T13:58:13.530544Z"
    },
    "papermill": {
     "duration": 4.650009,
     "end_time": "2022-02-02T13:59:34.693255",
     "exception": false,
     "start_time": "2022-02-02T13:59:30.043246",
     "status": "completed"
    },
    "tags": []
   },
   "outputs": [
    {
     "name": "stdout",
     "output_type": "stream",
     "text": [
      "Epoch 1/100\n",
      "8/8 [==============================] - 1s 3ms/step - loss: 3.9378 - sparse_categorical_accuracy: 0.7264\n",
      "Epoch 2/100\n",
      "8/8 [==============================] - 0s 2ms/step - loss: 2.0499 - sparse_categorical_accuracy: 0.7742\n",
      "Epoch 3/100\n",
      "8/8 [==============================] - 0s 3ms/step - loss: 2.1996 - sparse_categorical_accuracy: 0.7652\n",
      "Epoch 4/100\n",
      "8/8 [==============================] - 0s 2ms/step - loss: 2.0156 - sparse_categorical_accuracy: 0.8303\n",
      "Epoch 5/100\n",
      "8/8 [==============================] - 0s 2ms/step - loss: 2.6374 - sparse_categorical_accuracy: 0.8351\n",
      "Epoch 6/100\n",
      "8/8 [==============================] - 0s 2ms/step - loss: 1.9547 - sparse_categorical_accuracy: 0.7588\n",
      "Epoch 7/100\n",
      "8/8 [==============================] - 0s 2ms/step - loss: 1.2029 - sparse_categorical_accuracy: 0.8379\n",
      "Epoch 8/100\n",
      "8/8 [==============================] - 0s 2ms/step - loss: 2.3874 - sparse_categorical_accuracy: 0.8875\n",
      "Epoch 9/100\n",
      "8/8 [==============================] - 0s 2ms/step - loss: 2.8658 - sparse_categorical_accuracy: 0.7416\n",
      "Epoch 10/100\n",
      "8/8 [==============================] - 0s 2ms/step - loss: 2.9017 - sparse_categorical_accuracy: 0.8500\n",
      "Epoch 11/100\n",
      "8/8 [==============================] - 0s 3ms/step - loss: 1.9785 - sparse_categorical_accuracy: 0.8106\n",
      "Epoch 12/100\n",
      "8/8 [==============================] - 0s 3ms/step - loss: 1.8074 - sparse_categorical_accuracy: 0.8730\n",
      "Epoch 13/100\n",
      "8/8 [==============================] - 0s 2ms/step - loss: 1.5504 - sparse_categorical_accuracy: 0.8480\n",
      "Epoch 14/100\n",
      "8/8 [==============================] - 0s 2ms/step - loss: 1.2802 - sparse_categorical_accuracy: 0.8244\n",
      "Epoch 15/100\n",
      "8/8 [==============================] - 0s 2ms/step - loss: 1.5509 - sparse_categorical_accuracy: 0.8176\n",
      "Epoch 16/100\n",
      "8/8 [==============================] - 0s 2ms/step - loss: 0.8864 - sparse_categorical_accuracy: 0.8762\n",
      "Epoch 17/100\n",
      "8/8 [==============================] - 0s 2ms/step - loss: 0.7989 - sparse_categorical_accuracy: 0.8744\n",
      "Epoch 18/100\n",
      "8/8 [==============================] - 0s 2ms/step - loss: 1.1349 - sparse_categorical_accuracy: 0.8497\n",
      "Epoch 19/100\n",
      "8/8 [==============================] - 0s 2ms/step - loss: 1.1343 - sparse_categorical_accuracy: 0.8717\n",
      "Epoch 20/100\n",
      "8/8 [==============================] - 0s 2ms/step - loss: 0.7982 - sparse_categorical_accuracy: 0.8644\n",
      "Epoch 21/100\n",
      "8/8 [==============================] - 0s 2ms/step - loss: 1.4710 - sparse_categorical_accuracy: 0.7938\n",
      "Epoch 22/100\n",
      "8/8 [==============================] - 0s 2ms/step - loss: 1.8613 - sparse_categorical_accuracy: 0.8641\n",
      "Epoch 23/100\n",
      "8/8 [==============================] - 0s 2ms/step - loss: 1.1543 - sparse_categorical_accuracy: 0.8421\n",
      "Epoch 24/100\n",
      "8/8 [==============================] - 0s 2ms/step - loss: 0.9448 - sparse_categorical_accuracy: 0.8602\n",
      "Epoch 25/100\n",
      "8/8 [==============================] - 0s 2ms/step - loss: 0.8892 - sparse_categorical_accuracy: 0.8185\n",
      "Epoch 26/100\n",
      "8/8 [==============================] - 0s 2ms/step - loss: 1.2313 - sparse_categorical_accuracy: 0.8612\n",
      "Epoch 27/100\n",
      "8/8 [==============================] - 0s 2ms/step - loss: 0.8490 - sparse_categorical_accuracy: 0.8498\n",
      "Epoch 28/100\n",
      "8/8 [==============================] - 0s 2ms/step - loss: 0.6009 - sparse_categorical_accuracy: 0.8915\n",
      "Epoch 29/100\n",
      "8/8 [==============================] - 0s 2ms/step - loss: 0.5757 - sparse_categorical_accuracy: 0.8659\n",
      "Epoch 30/100\n",
      "8/8 [==============================] - 0s 2ms/step - loss: 0.5652 - sparse_categorical_accuracy: 0.8675\n",
      "Epoch 31/100\n",
      "8/8 [==============================] - 0s 2ms/step - loss: 0.5654 - sparse_categorical_accuracy: 0.8931\n",
      "Epoch 32/100\n",
      "8/8 [==============================] - 0s 2ms/step - loss: 0.8822 - sparse_categorical_accuracy: 0.8348\n",
      "Epoch 33/100\n",
      "8/8 [==============================] - 0s 2ms/step - loss: 0.7881 - sparse_categorical_accuracy: 0.9110\n",
      "Epoch 34/100\n",
      "8/8 [==============================] - 0s 2ms/step - loss: 0.6736 - sparse_categorical_accuracy: 0.8553\n",
      "Epoch 35/100\n",
      "8/8 [==============================] - 0s 2ms/step - loss: 0.7146 - sparse_categorical_accuracy: 0.8626\n",
      "Epoch 36/100\n",
      "8/8 [==============================] - 0s 2ms/step - loss: 0.4306 - sparse_categorical_accuracy: 0.8878\n",
      "Epoch 37/100\n",
      "8/8 [==============================] - 0s 2ms/step - loss: 0.8252 - sparse_categorical_accuracy: 0.8342\n",
      "Epoch 38/100\n",
      "8/8 [==============================] - 0s 2ms/step - loss: 0.4170 - sparse_categorical_accuracy: 0.8814\n",
      "Epoch 39/100\n",
      "8/8 [==============================] - 0s 2ms/step - loss: 0.5472 - sparse_categorical_accuracy: 0.8606\n",
      "Epoch 40/100\n",
      "8/8 [==============================] - 0s 2ms/step - loss: 0.8816 - sparse_categorical_accuracy: 0.8890\n",
      "Epoch 41/100\n",
      "8/8 [==============================] - 0s 2ms/step - loss: 0.6272 - sparse_categorical_accuracy: 0.8707\n",
      "Epoch 42/100\n",
      "8/8 [==============================] - 0s 2ms/step - loss: 0.5301 - sparse_categorical_accuracy: 0.8933\n",
      "Epoch 43/100\n",
      "8/8 [==============================] - 0s 2ms/step - loss: 0.7981 - sparse_categorical_accuracy: 0.8426\n",
      "Epoch 44/100\n",
      "8/8 [==============================] - 0s 2ms/step - loss: 0.8594 - sparse_categorical_accuracy: 0.8484\n",
      "Epoch 45/100\n",
      "8/8 [==============================] - 0s 2ms/step - loss: 0.4105 - sparse_categorical_accuracy: 0.8634\n",
      "Epoch 46/100\n",
      "8/8 [==============================] - 0s 2ms/step - loss: 0.8217 - sparse_categorical_accuracy: 0.8096\n",
      "Epoch 47/100\n",
      "8/8 [==============================] - 0s 2ms/step - loss: 0.5799 - sparse_categorical_accuracy: 0.8723\n",
      "Epoch 48/100\n",
      "8/8 [==============================] - 0s 2ms/step - loss: 0.3288 - sparse_categorical_accuracy: 0.8940\n",
      "Epoch 49/100\n",
      "8/8 [==============================] - 0s 2ms/step - loss: 0.2835 - sparse_categorical_accuracy: 0.8922\n",
      "Epoch 50/100\n",
      "8/8 [==============================] - 0s 2ms/step - loss: 0.4987 - sparse_categorical_accuracy: 0.8622\n",
      "Epoch 51/100\n",
      "8/8 [==============================] - 0s 2ms/step - loss: 0.5848 - sparse_categorical_accuracy: 0.8729\n",
      "Epoch 52/100\n",
      "8/8 [==============================] - 0s 2ms/step - loss: 0.3931 - sparse_categorical_accuracy: 0.8823\n",
      "Epoch 53/100\n",
      "8/8 [==============================] - 0s 2ms/step - loss: 0.5161 - sparse_categorical_accuracy: 0.8996\n",
      "Epoch 54/100\n",
      "8/8 [==============================] - 0s 2ms/step - loss: 0.4309 - sparse_categorical_accuracy: 0.8673\n",
      "Epoch 55/100\n",
      "8/8 [==============================] - 0s 2ms/step - loss: 0.4060 - sparse_categorical_accuracy: 0.9064\n",
      "Epoch 56/100\n",
      "8/8 [==============================] - 0s 2ms/step - loss: 0.3777 - sparse_categorical_accuracy: 0.8603\n",
      "Epoch 57/100\n",
      "8/8 [==============================] - 0s 2ms/step - loss: 0.4867 - sparse_categorical_accuracy: 0.8869\n",
      "Epoch 58/100\n",
      "8/8 [==============================] - 0s 2ms/step - loss: 0.4043 - sparse_categorical_accuracy: 0.9047\n",
      "Epoch 59/100\n",
      "8/8 [==============================] - 0s 2ms/step - loss: 0.4011 - sparse_categorical_accuracy: 0.9162\n",
      "Epoch 60/100\n",
      "8/8 [==============================] - 0s 2ms/step - loss: 0.3245 - sparse_categorical_accuracy: 0.8878\n",
      "Epoch 61/100\n",
      "8/8 [==============================] - 0s 2ms/step - loss: 0.3477 - sparse_categorical_accuracy: 0.8688\n",
      "Epoch 62/100\n",
      "8/8 [==============================] - 0s 2ms/step - loss: 0.5249 - sparse_categorical_accuracy: 0.8975\n",
      "Epoch 63/100\n",
      "8/8 [==============================] - 0s 2ms/step - loss: 0.3137 - sparse_categorical_accuracy: 0.8732\n",
      "Epoch 64/100\n",
      "8/8 [==============================] - 0s 2ms/step - loss: 0.3061 - sparse_categorical_accuracy: 0.8864\n",
      "Epoch 65/100\n",
      "8/8 [==============================] - 0s 2ms/step - loss: 0.2143 - sparse_categorical_accuracy: 0.8997\n",
      "Epoch 66/100\n",
      "8/8 [==============================] - 0s 2ms/step - loss: 0.3364 - sparse_categorical_accuracy: 0.9031\n",
      "Epoch 67/100\n",
      "8/8 [==============================] - 0s 2ms/step - loss: 0.3421 - sparse_categorical_accuracy: 0.9267\n",
      "Epoch 68/100\n",
      "8/8 [==============================] - 0s 2ms/step - loss: 0.2847 - sparse_categorical_accuracy: 0.8896\n",
      "Epoch 69/100\n",
      "8/8 [==============================] - 0s 2ms/step - loss: 0.4335 - sparse_categorical_accuracy: 0.8829\n",
      "Epoch 70/100\n",
      "8/8 [==============================] - 0s 2ms/step - loss: 0.3409 - sparse_categorical_accuracy: 0.8770\n",
      "Epoch 71/100\n",
      "8/8 [==============================] - 0s 2ms/step - loss: 0.2279 - sparse_categorical_accuracy: 0.9132\n",
      "Epoch 72/100\n",
      "8/8 [==============================] - 0s 2ms/step - loss: 0.2559 - sparse_categorical_accuracy: 0.8976\n",
      "Epoch 73/100\n",
      "8/8 [==============================] - 0s 2ms/step - loss: 0.2535 - sparse_categorical_accuracy: 0.9183\n",
      "Epoch 74/100\n",
      "8/8 [==============================] - 0s 3ms/step - loss: 0.3945 - sparse_categorical_accuracy: 0.8939\n",
      "Epoch 75/100\n",
      "8/8 [==============================] - 0s 3ms/step - loss: 0.3244 - sparse_categorical_accuracy: 0.8945\n",
      "Epoch 76/100\n",
      "8/8 [==============================] - 0s 2ms/step - loss: 0.3443 - sparse_categorical_accuracy: 0.8906\n",
      "Epoch 77/100\n",
      "8/8 [==============================] - 0s 2ms/step - loss: 0.4081 - sparse_categorical_accuracy: 0.9109\n",
      "Epoch 78/100\n",
      "8/8 [==============================] - 0s 4ms/step - loss: 0.2591 - sparse_categorical_accuracy: 0.9139\n",
      "Epoch 79/100\n",
      "8/8 [==============================] - 0s 2ms/step - loss: 0.5503 - sparse_categorical_accuracy: 0.8984\n",
      "Epoch 80/100\n",
      "8/8 [==============================] - 0s 2ms/step - loss: 0.2919 - sparse_categorical_accuracy: 0.9283\n",
      "Epoch 81/100\n",
      "8/8 [==============================] - 0s 2ms/step - loss: 0.3129 - sparse_categorical_accuracy: 0.9004\n",
      "Epoch 82/100\n",
      "8/8 [==============================] - 0s 2ms/step - loss: 0.2424 - sparse_categorical_accuracy: 0.9181\n",
      "Epoch 83/100\n",
      "8/8 [==============================] - 0s 2ms/step - loss: 0.2141 - sparse_categorical_accuracy: 0.9211\n",
      "Epoch 84/100\n",
      "8/8 [==============================] - 0s 3ms/step - loss: 0.2311 - sparse_categorical_accuracy: 0.9401\n",
      "Epoch 85/100\n",
      "8/8 [==============================] - 0s 3ms/step - loss: 0.3384 - sparse_categorical_accuracy: 0.8986\n",
      "Epoch 86/100\n",
      "8/8 [==============================] - 0s 2ms/step - loss: 0.2232 - sparse_categorical_accuracy: 0.9157\n",
      "Epoch 87/100\n",
      "8/8 [==============================] - 0s 2ms/step - loss: 0.2019 - sparse_categorical_accuracy: 0.9256\n",
      "Epoch 88/100\n",
      "8/8 [==============================] - 0s 3ms/step - loss: 0.2267 - sparse_categorical_accuracy: 0.9154\n",
      "Epoch 89/100\n",
      "8/8 [==============================] - 0s 3ms/step - loss: 0.3327 - sparse_categorical_accuracy: 0.9025\n",
      "Epoch 90/100\n",
      "8/8 [==============================] - 0s 3ms/step - loss: 0.2112 - sparse_categorical_accuracy: 0.9113\n",
      "Epoch 91/100\n",
      "8/8 [==============================] - 0s 3ms/step - loss: 0.2821 - sparse_categorical_accuracy: 0.9137\n",
      "Epoch 92/100\n",
      "8/8 [==============================] - 0s 3ms/step - loss: 0.3557 - sparse_categorical_accuracy: 0.8962\n",
      "Epoch 93/100\n",
      "8/8 [==============================] - 0s 3ms/step - loss: 0.2890 - sparse_categorical_accuracy: 0.9060\n",
      "Epoch 94/100\n",
      "8/8 [==============================] - 0s 2ms/step - loss: 0.2828 - sparse_categorical_accuracy: 0.8953\n",
      "Epoch 95/100\n",
      "8/8 [==============================] - 0s 2ms/step - loss: 0.1590 - sparse_categorical_accuracy: 0.9441\n",
      "Epoch 96/100\n",
      "8/8 [==============================] - 0s 3ms/step - loss: 0.1624 - sparse_categorical_accuracy: 0.9309\n",
      "Epoch 97/100\n",
      "8/8 [==============================] - 0s 3ms/step - loss: 0.2200 - sparse_categorical_accuracy: 0.9270\n",
      "Epoch 98/100\n",
      "8/8 [==============================] - 0s 2ms/step - loss: 0.3129 - sparse_categorical_accuracy: 0.8952\n",
      "Epoch 99/100\n",
      "8/8 [==============================] - 0s 2ms/step - loss: 0.1602 - sparse_categorical_accuracy: 0.9425\n",
      "Epoch 100/100\n",
      "8/8 [==============================] - 0s 2ms/step - loss: 0.2024 - sparse_categorical_accuracy: 0.9364\n"
     ]
    }
   ],
   "source": [
    "\n",
    "#Considering y variable holds numpy array\n",
    "y_train = tf.convert_to_tensor(y_train, dtype=tf.int64) \n",
    "\n",
    "model.fit(x_train, y_train, epochs=100)\n",
    "\n",
    "# Save the entire model as a SavedModel.\n",
    "!mkdir -p saved_model\n",
    "model.save('saved_model/my_model')"
   ]
  },
  {
   "cell_type": "code",
   "execution_count": 17,
   "id": "26981fa0",
   "metadata": {
    "execution": {
     "iopub.execute_input": "2022-02-02T13:59:34.859859Z",
     "iopub.status.busy": "2022-02-02T13:59:34.859202Z",
     "iopub.status.idle": "2022-02-02T13:59:35.189357Z",
     "shell.execute_reply": "2022-02-02T13:59:35.190044Z",
     "shell.execute_reply.started": "2022-02-02T13:58:17.306647Z"
    },
    "papermill": {
     "duration": 0.415739,
     "end_time": "2022-02-02T13:59:35.190285",
     "exception": false,
     "start_time": "2022-02-02T13:59:34.774546",
     "status": "completed"
    },
    "tags": []
   },
   "outputs": [
    {
     "name": "stdout",
     "output_type": "stream",
     "text": [
      "Model: \"sequential\"\n",
      "_________________________________________________________________\n",
      "Layer (type)                 Output Shape              Param #   \n",
      "=================================================================\n",
      "dense (Dense)                (None, 512)               4096      \n",
      "_________________________________________________________________\n",
      "dropout (Dropout)            (None, 512)               0         \n",
      "_________________________________________________________________\n",
      "dense_1 (Dense)              (None, 64)                32832     \n",
      "_________________________________________________________________\n",
      "dropout_1 (Dropout)          (None, 64)                0         \n",
      "_________________________________________________________________\n",
      "dense_2 (Dense)              (None, 2)                 130       \n",
      "=================================================================\n",
      "Total params: 37,058\n",
      "Trainable params: 37,058\n",
      "Non-trainable params: 0\n",
      "_________________________________________________________________\n"
     ]
    }
   ],
   "source": [
    "new_model = tf.keras.models.load_model('saved_model/my_model')\n",
    "\n",
    "# Check its architecture\n",
    "new_model.summary()"
   ]
  },
  {
   "cell_type": "code",
   "execution_count": 18,
   "id": "85c68e51",
   "metadata": {
    "execution": {
     "iopub.execute_input": "2022-02-02T13:59:35.360222Z",
     "iopub.status.busy": "2022-02-02T13:59:35.359589Z",
     "iopub.status.idle": "2022-02-02T13:59:35.361681Z",
     "shell.execute_reply": "2022-02-02T13:59:35.362193Z",
     "shell.execute_reply.started": "2022-02-02T13:58:17.614929Z"
    },
    "papermill": {
     "duration": 0.089321,
     "end_time": "2022-02-02T13:59:35.362364",
     "exception": false,
     "start_time": "2022-02-02T13:59:35.273043",
     "status": "completed"
    },
    "tags": []
   },
   "outputs": [],
   "source": [
    "#Considering y variable holds numpy array\n",
    "y_test = tf.convert_to_tensor(y_test, dtype=tf.int64)"
   ]
  },
  {
   "cell_type": "code",
   "execution_count": 19,
   "id": "f42b9464",
   "metadata": {
    "execution": {
     "iopub.execute_input": "2022-02-02T13:59:35.524749Z",
     "iopub.status.busy": "2022-02-02T13:59:35.523670Z",
     "iopub.status.idle": "2022-02-02T13:59:35.844308Z",
     "shell.execute_reply": "2022-02-02T13:59:35.843826Z",
     "shell.execute_reply.started": "2022-02-02T13:58:17.620606Z"
    },
    "papermill": {
     "duration": 0.40298,
     "end_time": "2022-02-02T13:59:35.844456",
     "exception": false,
     "start_time": "2022-02-02T13:59:35.441476",
     "status": "completed"
    },
    "tags": []
   },
   "outputs": [
    {
     "name": "stdout",
     "output_type": "stream",
     "text": [
      "4/4 - 0s - loss: 0.8219 - sparse_categorical_accuracy: 0.8269\n",
      "Restored model, accuracy: 82.69%\n",
      "(104, 2)\n"
     ]
    }
   ],
   "source": [
    "# Evaluate the restored model\n",
    "loss, acc = new_model.evaluate(x_test, y_test, verbose=2)\n",
    "print('Restored model, accuracy: {:5.2f}%'.format(100 * acc))\n",
    "\n",
    "print(new_model.predict(x_test).shape)"
   ]
  },
  {
   "cell_type": "code",
   "execution_count": 20,
   "id": "636635b9",
   "metadata": {
    "execution": {
     "iopub.execute_input": "2022-02-02T13:59:36.010923Z",
     "iopub.status.busy": "2022-02-02T13:59:36.010328Z",
     "iopub.status.idle": "2022-02-02T13:59:36.039842Z",
     "shell.execute_reply": "2022-02-02T13:59:36.039313Z",
     "shell.execute_reply.started": "2022-02-02T13:58:17.854298Z"
    },
    "papermill": {
     "duration": 0.113305,
     "end_time": "2022-02-02T13:59:36.039994",
     "exception": false,
     "start_time": "2022-02-02T13:59:35.926689",
     "status": "completed"
    },
    "tags": []
   },
   "outputs": [],
   "source": [
    "model.save('my_model.h5')"
   ]
  },
  {
   "cell_type": "code",
   "execution_count": 21,
   "id": "bf7ef488",
   "metadata": {
    "execution": {
     "iopub.execute_input": "2022-02-02T13:59:36.205119Z",
     "iopub.status.busy": "2022-02-02T13:59:36.204436Z",
     "iopub.status.idle": "2022-02-02T13:59:36.279303Z",
     "shell.execute_reply": "2022-02-02T13:59:36.278807Z",
     "shell.execute_reply.started": "2022-02-02T13:58:17.882963Z"
    },
    "papermill": {
     "duration": 0.159332,
     "end_time": "2022-02-02T13:59:36.279449",
     "exception": false,
     "start_time": "2022-02-02T13:59:36.120117",
     "status": "completed"
    },
    "tags": []
   },
   "outputs": [
    {
     "name": "stdout",
     "output_type": "stream",
     "text": [
      "Model: \"sequential\"\n",
      "_________________________________________________________________\n",
      "Layer (type)                 Output Shape              Param #   \n",
      "=================================================================\n",
      "dense (Dense)                (None, 512)               4096      \n",
      "_________________________________________________________________\n",
      "dropout (Dropout)            (None, 512)               0         \n",
      "_________________________________________________________________\n",
      "dense_1 (Dense)              (None, 64)                32832     \n",
      "_________________________________________________________________\n",
      "dropout_1 (Dropout)          (None, 64)                0         \n",
      "_________________________________________________________________\n",
      "dense_2 (Dense)              (None, 2)                 130       \n",
      "=================================================================\n",
      "Total params: 37,058\n",
      "Trainable params: 37,058\n",
      "Non-trainable params: 0\n",
      "_________________________________________________________________\n"
     ]
    }
   ],
   "source": [
    "# Recreate the exact same model, including its weights and the optimizer\n",
    "new_model = tf.keras.models.load_model('my_model.h5')\n",
    "\n",
    "# Show the model architecture\n",
    "new_model.summary()"
   ]
  },
  {
   "cell_type": "code",
   "execution_count": 22,
   "id": "e3c2c24d",
   "metadata": {
    "execution": {
     "iopub.execute_input": "2022-02-02T13:59:36.444680Z",
     "iopub.status.busy": "2022-02-02T13:59:36.444020Z",
     "iopub.status.idle": "2022-02-02T13:59:36.601917Z",
     "shell.execute_reply": "2022-02-02T13:59:36.601280Z",
     "shell.execute_reply.started": "2022-02-02T13:58:17.959803Z"
    },
    "papermill": {
     "duration": 0.241827,
     "end_time": "2022-02-02T13:59:36.602098",
     "exception": false,
     "start_time": "2022-02-02T13:59:36.360271",
     "status": "completed"
    },
    "tags": []
   },
   "outputs": [
    {
     "name": "stdout",
     "output_type": "stream",
     "text": [
      "4/4 - 0s - loss: 0.8219 - sparse_categorical_accuracy: 0.8269\n",
      "Restored model, accuracy: 82.69%\n"
     ]
    }
   ],
   "source": [
    "loss, acc = new_model.evaluate(x_test, y_test, verbose=2)\n",
    "print('Restored model, accuracy: {:5.2f}%'.format(100 * acc))"
   ]
  },
  {
   "cell_type": "code",
   "execution_count": 23,
   "id": "e0cffd5a",
   "metadata": {
    "execution": {
     "iopub.execute_input": "2022-02-02T13:59:36.780426Z",
     "iopub.status.busy": "2022-02-02T13:59:36.779429Z",
     "iopub.status.idle": "2022-02-02T13:59:36.781912Z",
     "shell.execute_reply": "2022-02-02T13:59:36.782344Z",
     "shell.execute_reply.started": "2022-02-02T13:58:18.116140Z"
    },
    "papermill": {
     "duration": 0.097097,
     "end_time": "2022-02-02T13:59:36.782514",
     "exception": false,
     "start_time": "2022-02-02T13:59:36.685417",
     "status": "completed"
    },
    "tags": []
   },
   "outputs": [],
   "source": [
    "import matplotlib.pyplot as plt\n",
    "import itertools\n",
    "from sklearn.metrics import confusion_matrix, classification_report, accuracy_score\n",
    "def plot_confusion_matrix(cm, classes,\n",
    "                          title='Confusion matrix',\n",
    "                          cmap=plt.cm.Blues):\n",
    "    \"\"\"\n",
    "    This function prints and plots the confusion matrix.\n",
    "    Normalization can be applied by setting `normalize=True`.\n",
    "    \"\"\"\n",
    "\n",
    "    cm = cm.astype('float') / cm.sum(axis=1)[:, np.newaxis]\n",
    "\n",
    "    plt.imshow(cm, interpolation='nearest', cmap=cmap)\n",
    "    plt.title(title, fontsize=20)\n",
    "    plt.colorbar()\n",
    "    tick_marks = np.arange(len(classes))\n",
    "    plt.xticks(tick_marks, classes, fontsize=13)\n",
    "    plt.yticks(tick_marks, classes, fontsize=13)\n",
    "\n",
    "    fmt = '.2f'\n",
    "    thresh = cm.max() / 2.\n",
    "    for i, j in itertools.product(range(cm.shape[0]), range(cm.shape[1])):\n",
    "        plt.text(j, i, format(cm[i, j], fmt),\n",
    "                 horizontalalignment=\"center\",\n",
    "                 color=\"white\" if cm[i, j] > thresh else \"black\")\n",
    "\n",
    "    plt.ylabel('True label', fontsize=17)\n",
    "    plt.xlabel('Predicted label', fontsize=17)"
   ]
  },
  {
   "cell_type": "code",
   "execution_count": 24,
   "id": "d740ac84",
   "metadata": {
    "execution": {
     "iopub.execute_input": "2022-02-02T13:59:36.951591Z",
     "iopub.status.busy": "2022-02-02T13:59:36.950684Z",
     "iopub.status.idle": "2022-02-02T13:59:37.039884Z",
     "shell.execute_reply": "2022-02-02T13:59:37.040356Z",
     "shell.execute_reply.started": "2022-02-02T13:58:18.128064Z"
    },
    "papermill": {
     "duration": 0.175532,
     "end_time": "2022-02-02T13:59:37.040532",
     "exception": false,
     "start_time": "2022-02-02T13:59:36.865000",
     "status": "completed"
    },
    "tags": []
   },
   "outputs": [],
   "source": [
    "y_pred = new_model.predict_classes(x_test)"
   ]
  },
  {
   "cell_type": "code",
   "execution_count": 25,
   "id": "544c0d05",
   "metadata": {
    "execution": {
     "iopub.execute_input": "2022-02-02T13:59:37.212627Z",
     "iopub.status.busy": "2022-02-02T13:59:37.211873Z",
     "iopub.status.idle": "2022-02-02T13:59:37.217518Z",
     "shell.execute_reply": "2022-02-02T13:59:37.218010Z",
     "shell.execute_reply.started": "2022-02-02T13:58:18.218351Z"
    },
    "papermill": {
     "duration": 0.092883,
     "end_time": "2022-02-02T13:59:37.218195",
     "exception": false,
     "start_time": "2022-02-02T13:59:37.125312",
     "status": "completed"
    },
    "tags": []
   },
   "outputs": [
    {
     "data": {
      "text/plain": [
       "array([0, 0, 0, 0, 0, 0, 0, 0, 0, 0, 0, 0, 0, 0, 0, 0, 0, 0, 0, 0, 0, 0,\n",
       "       1, 0, 0, 0, 0, 0, 0, 1, 0, 0, 0, 0, 0, 1, 0, 0, 0, 0, 1, 1, 1, 0,\n",
       "       0, 0, 0, 0, 0, 0, 1, 0, 0, 0, 0, 0, 0, 0, 0, 0, 0, 1, 0, 0, 0, 0,\n",
       "       0, 0, 0, 0, 0, 0, 0, 0, 1, 0, 0, 0, 0, 0, 0, 0, 0, 0, 0, 0, 0, 0,\n",
       "       0, 1, 0, 0, 0, 0, 0, 0, 0, 0, 0, 1, 0, 0, 0, 1])"
      ]
     },
     "execution_count": 25,
     "metadata": {},
     "output_type": "execute_result"
    }
   ],
   "source": [
    "y_pred"
   ]
  },
  {
   "cell_type": "code",
   "execution_count": 26,
   "id": "46bfa343",
   "metadata": {
    "execution": {
     "iopub.execute_input": "2022-02-02T13:59:37.385658Z",
     "iopub.status.busy": "2022-02-02T13:59:37.384712Z",
     "iopub.status.idle": "2022-02-02T13:59:37.580326Z",
     "shell.execute_reply": "2022-02-02T13:59:37.579835Z",
     "shell.execute_reply.started": "2022-02-02T13:58:18.227324Z"
    },
    "papermill": {
     "duration": 0.280823,
     "end_time": "2022-02-02T13:59:37.580472",
     "exception": false,
     "start_time": "2022-02-02T13:59:37.299649",
     "status": "completed"
    },
    "tags": []
   },
   "outputs": [
    {
     "data": {
      "image/png": "[encoded data removed]",
      "text/plain": [
       "<Figure size 432x432 with 2 Axes>"
      ]
     },
     "metadata": {
      "needs_background": "light"
     },
     "output_type": "display_data"
    }
   ],
   "source": [
    "cnf_matrix = confusion_matrix(y_test, y_pred)\n",
    "plt.figure(figsize=(6,6))\n",
    "plot_confusion_matrix(cnf_matrix, classes=[0,1], title=\"PCA-MLP\")\n",
    "plt.show()"
   ]
  },
  {
   "cell_type": "code",
   "execution_count": 27,
   "id": "4d9e24a6",
   "metadata": {
    "execution": {
     "iopub.execute_input": "2022-02-02T13:59:37.755121Z",
     "iopub.status.busy": "2022-02-02T13:59:37.754147Z",
     "iopub.status.idle": "2022-02-02T13:59:37.762511Z",
     "shell.execute_reply": "2022-02-02T13:59:37.763066Z",
     "shell.execute_reply.started": "2022-02-02T13:58:18.407810Z"
    },
    "papermill": {
     "duration": 0.097695,
     "end_time": "2022-02-02T13:59:37.763237",
     "exception": false,
     "start_time": "2022-02-02T13:59:37.665542",
     "status": "completed"
    },
    "tags": []
   },
   "outputs": [
    {
     "name": "stdout",
     "output_type": "stream",
     "text": [
      "              precision    recall  f1-score   support\n",
      "\n",
      "           0       0.88      0.92      0.90        88\n",
      "           1       0.42      0.31      0.36        16\n",
      "\n",
      "    accuracy                           0.83       104\n",
      "   macro avg       0.65      0.62      0.63       104\n",
      "weighted avg       0.81      0.83      0.82       104\n",
      "\n"
     ]
    }
   ],
   "source": [
    "print(classification_report(y_test, y_pred))"
   ]
  },
  {
   "cell_type": "code",
   "execution_count": 28,
   "id": "e96a16a0",
   "metadata": {
    "execution": {
     "iopub.execute_input": "2022-02-02T13:59:37.939900Z",
     "iopub.status.busy": "2022-02-02T13:59:37.938971Z",
     "iopub.status.idle": "2022-02-02T13:59:37.949965Z",
     "shell.execute_reply": "2022-02-02T13:59:37.949390Z",
     "shell.execute_reply.started": "2022-02-02T13:58:18.419086Z"
    },
    "papermill": {
     "duration": 0.100012,
     "end_time": "2022-02-02T13:59:37.950126",
     "exception": false,
     "start_time": "2022-02-02T13:59:37.850114",
     "status": "completed"
    },
    "tags": []
   },
   "outputs": [
    {
     "name": "stdout",
     "output_type": "stream",
     "text": [
      "No Skill: ROC AUC=0.500\n",
      "PCA-MLP: ROC AUC=0.616\n"
     ]
    }
   ],
   "source": [
    "from sklearn.metrics import roc_curve\n",
    "from sklearn.metrics import roc_auc_score\n",
    "from matplotlib import pyplot\n",
    "# generate a no skill prediction (majority class)\n",
    "ns_probs = [0 for _ in range(104)]\n",
    "lr_probs = y_pred\n",
    "# keep probabilities for the positive outcome only\n",
    "#lr_probs = lr_probs[:, 1]\n",
    "# calculate scores\n",
    "ns_auc = roc_auc_score(y_test, ns_probs)\n",
    "lr_auc = roc_auc_score(y_test, y_pred)\n",
    "# summarize scores\n",
    "print('No Skill: ROC AUC=%.3f' % (ns_auc))\n",
    "print('PCA-MLP: ROC AUC=%.3f' % (lr_auc))"
   ]
  },
  {
   "cell_type": "code",
   "execution_count": 29,
   "id": "099dec58",
   "metadata": {
    "execution": {
     "iopub.execute_input": "2022-02-02T13:59:38.123909Z",
     "iopub.status.busy": "2022-02-02T13:59:38.122899Z",
     "iopub.status.idle": "2022-02-02T13:59:38.537398Z",
     "shell.execute_reply": "2022-02-02T13:59:38.536451Z",
     "shell.execute_reply.started": "2022-02-02T13:58:18.430211Z"
    },
    "papermill": {
     "duration": 0.504207,
     "end_time": "2022-02-02T13:59:38.537647",
     "exception": false,
     "start_time": "2022-02-02T13:59:38.033440",
     "status": "completed"
    },
    "tags": []
   },
   "outputs": [
    {
     "data": {
      "image/png": "[encoded data removed]",
      "text/plain": [
       "<Figure size 1000x1000 with 1 Axes>"
      ]
     },
     "metadata": {
      "needs_background": "light"
     },
     "output_type": "display_data"
    },
    {
     "name": "stdout",
     "output_type": "stream",
     "text": [
      "PCA-MLP: f1=0.357 auc=0.417\n"
     ]
    },
    {
     "data": {
      "image/png": "[encoded data removed]",
      "text/plain": [
       "<Figure size 1000x1000 with 1 Axes>"
      ]
     },
     "metadata": {
      "needs_background": "light"
     },
     "output_type": "display_data"
    }
   ],
   "source": [
    "# calculate roc curves\n",
    "from sklearn.metrics import roc_curve\n",
    "from sklearn.metrics import roc_auc_score\n",
    "from matplotlib import pyplot\n",
    "ns_fpr, ns_tpr, _ = roc_curve(y_test, ns_probs)\n",
    "lr_fpr, lr_tpr, _ = roc_curve(y_test, lr_probs)\n",
    "# plot the roc curve for the model\n",
    "pyplot.figure(figsize=(10,10), dpi=100)\n",
    "pyplot.plot(ns_fpr, ns_tpr, linestyle='--', label='No Skill')\n",
    "plt.plot(lr_fpr, lr_tpr, marker='.', label='PCA-MLP')\n",
    "# axis labels\n",
    "pyplot.xlabel('False Positive Rate')\n",
    "pyplot.ylabel('True Positive Rate')\n",
    "# show the legend\n",
    "pyplot.legend()\n",
    "# show the plot\n",
    "pyplot.show()\n",
    "from sklearn.metrics import precision_recall_curve\n",
    "from sklearn.metrics import f1_score\n",
    "from sklearn.metrics import auc\n",
    "# calculate precision and recall for each threshold\n",
    "lr_precision, lr_recall, _ = precision_recall_curve(y_test, lr_probs)\n",
    "# calculate precision and recall for each threshold\n",
    "lr_precision, lr_recall, _ = precision_recall_curve(y_test, lr_probs)\n",
    "# calculate scores\n",
    "lr_f1, lr_auc = f1_score(y_test, y_pred), auc(lr_recall, lr_precision)\n",
    "# summarize scores\n",
    "print('PCA-MLP: f1=%.3f auc=%.3f' % (lr_f1, lr_auc))\n",
    "# plot the precision-recall curves\n",
    "no_skill = len(y_test[y_test==1]) / len(y_test)\n",
    "\n",
    "pyplot.figure(figsize=(10,10), dpi=100)\n",
    "pyplot.plot([0, 1], [no_skill, no_skill], linestyle='--', label='No Skill')\n",
    "pyplot.plot(lr_recall, lr_precision, marker='.', label='PCA-MLP')\n",
    "# axis labels\n",
    "pyplot.xlabel('Recall')\n",
    "pyplot.ylabel('Precision')\n",
    "# show the legend\n",
    "pyplot.legend()\n",
    "# show the plot\n",
    "pyplot.show()"
   ]
  }
 ],
 "metadata": {
  "kernelspec": {
   "display_name": "Python 3",
   "language": "python",
   "name": "python3"
  },
  "language_info": {
   "codemirror_mode": {
    "name": "ipython",
    "version": 3
   },
   "file_extension": ".py",
   "mimetype": "text/x-python",
   "name": "python",
   "nbconvert_exporter": "python",
   "pygments_lexer": "ipython3",
   "version": "3.7.10"
  },
  "papermill": {
   "default_parameters": {},
   "duration": 27.928784,
   "end_time": "2022-02-02T13:59:40.924218",
   "environment_variables": {},
   "exception": null,
   "input_path": "__notebook__.ipynb",
   "output_path": "__notebook__.ipynb",
   "parameters": {},
   "start_time": "2022-02-02T13:59:12.995434",
   "version": "2.3.3"
  }
 },
 "nbformat": 4,
 "nbformat_minor": 5
}
